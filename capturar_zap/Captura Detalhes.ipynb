{
 "metadata": {
  "name": "",
  "signature": "sha256:ec9a3fc88561be12c8a5861db3cb5e7031fcd4686654b3b94487fd55653fb41e"
 },
 "nbformat": 3,
 "nbformat_minor": 0,
 "worksheets": [
  {
   "cells": [
    {
     "cell_type": "code",
     "collapsed": false,
     "input": [
      "import requests\n",
      "from bs4 import BeautifulSoup \n",
      "import captura"
     ],
     "language": "python",
     "metadata": {},
     "outputs": [],
     "prompt_number": 1
    },
    {
     "cell_type": "code",
     "collapsed": false,
     "input": [
      "url = 'http://www.zap.com.br/imoveis/anuncios-expirados/oferta/Apartamento-Padrao-3-quartos-venda-RIO-DE-JANEIRO-BARRA-DA-TIJUCA-RUA-CEL-EURICO-DE-SOUSA-GOMES-FILHO/ID-6585208'\n",
      "response = requests.get(url).text"
     ],
     "language": "python",
     "metadata": {},
     "outputs": [
      {
       "output_type": "stream",
       "stream": "stderr",
       "text": [
        "INFO:requests.packages.urllib3.connectionpool:Starting new HTTP connection (1): www.zap.com.br\n"
       ]
      },
      {
       "output_type": "stream",
       "stream": "stderr",
       "text": [
        "2014-11-15 07:56:53,793 - connectionpool:180 - INFO >> Starting new HTTP connection (1): www.zap.com.br\n"
       ]
      },
      {
       "output_type": "stream",
       "stream": "stderr",
       "text": [
        "DEBUG:requests.packages.urllib3.connectionpool:\"GET /imoveis/anuncios-expirados/oferta/Apartamento-Padrao-3-quartos-venda-RIO-DE-JANEIRO-BARRA-DA-TIJUCA-RUA-CEL-EURICO-DE-SOUSA-GOMES-FILHO/ID-6585208 HTTP/1.1\" 200 111798\n"
       ]
      },
      {
       "output_type": "stream",
       "stream": "stderr",
       "text": [
        "2014-11-15 07:56:54,094 - connectionpool:350 - DEBUG >> \"GET /imoveis/anuncios-expirados/oferta/Apartamento-Padrao-3-quartos-venda-RIO-DE-JANEIRO-BARRA-DA-TIJUCA-RUA-CEL-EURICO-DE-SOUSA-GOMES-FILHO/ID-6585208 HTTP/1.1\" 200 111798\n"
       ]
      }
     ],
     "prompt_number": 2
    },
    {
     "cell_type": "code",
     "collapsed": false,
     "input": [
      "doc = captura.__processa_html(response)"
     ],
     "language": "python",
     "metadata": {},
     "outputs": [],
     "prompt_number": 3
    },
    {
     "cell_type": "code",
     "collapsed": false,
     "input": [
      "det = captura.extrai_detalhes(doc)"
     ],
     "language": "python",
     "metadata": {},
     "outputs": [],
     "prompt_number": 4
    },
    {
     "cell_type": "code",
     "collapsed": false,
     "input": [
      "det"
     ],
     "language": "python",
     "metadata": {},
     "outputs": [
      {
       "metadata": {},
       "output_type": "pyout",
       "prompt_number": 7,
       "text": [
        "{'carac_condo': None,\n",
        " 'carac_imovel': u'3 quartos/dts.1  su\\xedte4 unidades por andar\\n\\n\\n\\n98 m\\xb2 \\xe1rea \\xfatil98 m\\xb2 \\xe1rea total1 elevador\\n\\n\\n\\n2 vagas3 andares',\n",
        " 'condominio': None,\n",
        " 'descricao': None,\n",
        " 'det_imovel': None,\n",
        " 'lat': None,\n",
        " 'lng': None}"
       ]
      }
     ],
     "prompt_number": 7
    },
    {
     "cell_type": "code",
     "collapsed": false,
     "input": [
      "texto_desc = None\n",
      "for uls in doc.findAll('ul', class_='fc-detalhes'):\n",
      "        texto_desc = texto_desc + uls.text.strip()+'\\n'\n",
      "\n",
      "carac_imovel = None\n",
      "carac_condo = None\n",
      "for divs in doc.findAll('div', class_='fc-maisdetalhes'):\n",
      "    if divs.p.string.find(u'Outras caracter\u00edsticas do im\u00f3vel'):\n",
      "        carac_imovel = divs.ul.text.strip()\n",
      "        \n",
      "    if divs.p.string.find(u'Caracter\u00edsticas das \u00e1reas comuns'):\n",
      "        carac_condo = divs.ul.text.strip()"
     ],
     "language": "python",
     "metadata": {},
     "outputs": [],
     "prompt_number": 5
    },
    {
     "cell_type": "code",
     "collapsed": false,
     "input": [
      "{'a':1, \\\n",
      " 'b':2}"
     ],
     "language": "python",
     "metadata": {},
     "outputs": [
      {
       "metadata": {},
       "output_type": "pyout",
       "prompt_number": 93,
       "text": [
        "{'a': 1, 'b': 2}"
       ]
      }
     ],
     "prompt_number": 93
    },
    {
     "cell_type": "code",
     "collapsed": false,
     "input": [
      " carac_condo,carac_imovel"
     ],
     "language": "python",
     "metadata": {},
     "outputs": [
      {
       "metadata": {},
       "output_type": "pyout",
       "prompt_number": 82,
       "text": [
        "(u'Arm\\xe1rio de Cozinha\\nArm\\xe1rio Embutido\\nEscrit\\xf3rio\\nQuarto/WC Empregada\\nVaranda\\nWC Empregada',\n",
        " u'Churrasqueira\\nPiscina\\nPlayground\\nSal\\xe3o de Festas\\nSauna')"
       ]
      }
     ],
     "prompt_number": 82
    },
    {
     "cell_type": "code",
     "collapsed": false,
     "input": [
      "texto_desc = ''\n",
      "for uls in doc.findAll('ul', class_='fc-detalhes'):\n",
      "    #for li in uls.findAll('li'):\n",
      "    texto_desc = texto_desc + uls.text.strip()+'\\n'\n",
      "print None if texto_desc.strip()=='' else texto_desc \n"
     ],
     "language": "python",
     "metadata": {},
     "outputs": [
      {
       "output_type": "stream",
       "stream": "stdout",
       "text": [
        "None\n"
       ]
      }
     ],
     "prompt_number": 8
    },
    {
     "cell_type": "code",
     "collapsed": false,
     "input": [
      "doc.find('div', class_='colunainfos').text.strip()"
     ],
     "language": "python",
     "metadata": {},
     "outputs": [
      {
       "metadata": {},
       "output_type": "pyout",
       "prompt_number": 14,
       "text": [
        "u'venda [?]\\r\\n                                    R$ 1.260.000\\xa0\\xa0\\n\\n\\n\\n\\n\\n\\n\\ncondom\\xednio: R$ 580\\nIPTU: R$ 1.818\\nvalor do m\\xb2: R$ 12.857\\n\\n\\n\\n\\n\\n\\n3 quartos/dts.1  su\\xedte4 unidades por andar\\n\\n\\n\\n98 m\\xb2 \\xe1rea \\xfatil98 m\\xb2 \\xe1rea total1 elevador\\n\\n\\n\\n2 vagas3 andares\\n\\n\\nExcelente apartamento no Jardim Oce\\xe2nico, 98m\\xb2, varanda, sala, 3 quartos, arm\\xe1rio, (sendo 1 su\\xedte com closet), banheiro social, cozinha ampla e clara, com arm\\xe1rios, depend\\xeancia completa, \\xe1rea de servi\\xe7o e 2 vagas de garagem. Entrar e morar !\\r\\nCompra e venda de apartamentos, casas, coberturas, Rio de Janeiro, Barra da Tijuca, Copacabana, Leblon, Humait\\xe1, Ipanema, Lagoa, Zona Sul \\xe9 na Imobili\\xe1ria RF FRADE RIO.'"
       ]
      }
     ],
     "prompt_number": 14
    }
   ],
   "metadata": {}
  }
 ]
}