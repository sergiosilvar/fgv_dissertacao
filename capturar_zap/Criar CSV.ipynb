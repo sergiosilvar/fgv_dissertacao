{
 "metadata": {
  "name": "",
  "signature": "sha256:c68821121bcb998be76e42256d55a8d579e09177e67e88daa9ccb9542dddae75"
 },
 "nbformat": 3,
 "nbformat_minor": 0,
 "worksheets": [
  {
   "cells": [
    {
     "cell_type": "code",
     "collapsed": false,
     "input": [
      "import pandas\n",
      "import sqlite3 as sql\n"
     ],
     "language": "python",
     "metadata": {},
     "outputs": [],
     "prompt_number": 1
    },
    {
     "cell_type": "code",
     "collapsed": false,
     "input": [
      "con = sql.connect('./zap_dataset.db3')\n",
      "cmd = 'select lat as  latitude, lng as longitude, ' + \\\n",
      "    'preco,area from apartamento where lat is not null '+ \\\n",
      "    'and lng is not null and area is not null and area > 0 and preco is not null'\n",
      "df = pandas.io.sql.read_frame(cmd, con)"
     ],
     "language": "python",
     "metadata": {},
     "outputs": [],
     "prompt_number": 2
    },
    {
     "cell_type": "code",
     "collapsed": false,
     "input": [
      "df['usd'] = df.preco.str.replace('.','').astype(float)/(2.25)\n",
      "df['m2_usd'] = df.usd/df.area.astype(float)\n",
      "df.head()"
     ],
     "language": "python",
     "metadata": {},
     "outputs": [
      {
       "html": [
        "<div style=\"max-height:1000px;max-width:1500px;overflow:auto;\">\n",
        "<table border=\"1\" class=\"dataframe\">\n",
        "  <thead>\n",
        "    <tr style=\"text-align: right;\">\n",
        "      <th></th>\n",
        "      <th>latitude</th>\n",
        "      <th>longitude</th>\n",
        "      <th>preco</th>\n",
        "      <th>area</th>\n",
        "      <th>m2</th>\n",
        "      <th>usd</th>\n",
        "      <th>m2_usd</th>\n",
        "    </tr>\n",
        "  </thead>\n",
        "  <tbody>\n",
        "    <tr>\n",
        "      <th>0</th>\n",
        "      <td> -22.9836853000</td>\n",
        "      <td> -43.2213118000</td>\n",
        "      <td> 870.000</td>\n",
        "      <td> 50</td>\n",
        "      <td> 386666.666667</td>\n",
        "      <td> 386666.666667</td>\n",
        "      <td> 7733.333333</td>\n",
        "    </tr>\n",
        "    <tr>\n",
        "      <th>1</th>\n",
        "      <td> -22.9133954000</td>\n",
        "      <td> -43.2007101000</td>\n",
        "      <td> 199.900</td>\n",
        "      <td> 47</td>\n",
        "      <td>  88844.444444</td>\n",
        "      <td>  88844.444444</td>\n",
        "      <td> 1890.307329</td>\n",
        "    </tr>\n",
        "    <tr>\n",
        "      <th>2</th>\n",
        "      <td> -22.8993842000</td>\n",
        "      <td> -43.2537222000</td>\n",
        "      <td> 315.000</td>\n",
        "      <td> 60</td>\n",
        "      <td> 140000.000000</td>\n",
        "      <td> 140000.000000</td>\n",
        "      <td> 2333.333333</td>\n",
        "    </tr>\n",
        "    <tr>\n",
        "      <th>3</th>\n",
        "      <td> -22.8067684173</td>\n",
        "      <td> -43.3600349426</td>\n",
        "      <td>  99.000</td>\n",
        "      <td> 49</td>\n",
        "      <td>  44000.000000</td>\n",
        "      <td>  44000.000000</td>\n",
        "      <td>  897.959184</td>\n",
        "    </tr>\n",
        "    <tr>\n",
        "      <th>4</th>\n",
        "      <td> -22.8249735000</td>\n",
        "      <td> -43.3306731000</td>\n",
        "      <td> 220.000</td>\n",
        "      <td> 62</td>\n",
        "      <td>  97777.777778</td>\n",
        "      <td>  97777.777778</td>\n",
        "      <td> 1577.060932</td>\n",
        "    </tr>\n",
        "  </tbody>\n",
        "</table>\n",
        "<p>5 rows \u00d7 7 columns</p>\n",
        "</div>"
       ],
       "metadata": {},
       "output_type": "pyout",
       "prompt_number": 4,
       "text": [
        "         latitude       longitude    preco area             m2            usd  \\\n",
        "0  -22.9836853000  -43.2213118000  870.000   50  386666.666667  386666.666667   \n",
        "1  -22.9133954000  -43.2007101000  199.900   47   88844.444444   88844.444444   \n",
        "2  -22.8993842000  -43.2537222000  315.000   60  140000.000000  140000.000000   \n",
        "3  -22.8067684173  -43.3600349426   99.000   49   44000.000000   44000.000000   \n",
        "4  -22.8249735000  -43.3306731000  220.000   62   97777.777778   97777.777778   \n",
        "\n",
        "        m2_usd  \n",
        "0  7733.333333  \n",
        "1  1890.307329  \n",
        "2  2333.333333  \n",
        "3   897.959184  \n",
        "4  1577.060932  \n",
        "\n",
        "[5 rows x 7 columns]"
       ]
      }
     ],
     "prompt_number": 4
    },
    {
     "cell_type": "code",
     "collapsed": false,
     "input": [
      "df[[0,1,6]].to_csv('apartments.csv', index=False)"
     ],
     "language": "python",
     "metadata": {},
     "outputs": [],
     "prompt_number": 5
    },
    {
     "cell_type": "code",
     "collapsed": false,
     "input": [
      "df.m2_usd.describe()"
     ],
     "language": "python",
     "metadata": {},
     "outputs": [
      {
       "metadata": {},
       "output_type": "pyout",
       "prompt_number": 6,
       "text": [
        "count     27697.000000\n",
        "mean       4712.088818\n",
        "std        3055.289191\n",
        "min         203.442879\n",
        "25%        2759.259259\n",
        "50%        3942.652330\n",
        "75%        5694.444444\n",
        "max      143209.876543\n",
        "Name: m2_usd, dtype: float64"
       ]
      }
     ],
     "prompt_number": 6
    }
   ],
   "metadata": {}
  }
 ]
}