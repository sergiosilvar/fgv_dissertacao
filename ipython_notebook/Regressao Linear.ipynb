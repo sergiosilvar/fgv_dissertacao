{
 "metadata": {
  "name": "",
  "signature": "sha256:b99fa1d5539e7a98bf759f5fd803075eb954df481067e92a5ceebc6a98f60af5"
 },
 "nbformat": 3,
 "nbformat_minor": 0,
 "worksheets": [
  {
   "cells": [
    {
     "cell_type": "code",
     "collapsed": false,
     "input": [
      "%pylab inline\n",
      "\n",
      "import zap_util as z\n",
      "import logging\n",
      "logging.basicConfig( level=logging.ERROR)"
     ],
     "language": "python",
     "metadata": {},
     "outputs": [
      {
       "output_type": "stream",
       "stream": "stdout",
       "text": [
        "Populating the interactive namespace from numpy and matplotlib\n"
       ]
      }
     ],
     "prompt_number": 19
    },
    {
     "cell_type": "code",
     "collapsed": false,
     "input": [
      "df = z.get('select * from vw_imovel')\n",
      "numeric_columns = (df.dtypes[(df.dtypes==float64) | (df.dtypes==int64)]).index\n",
      "df = df[numeric_columns]\n",
      "df.columns\n"
     ],
     "language": "python",
     "metadata": {},
     "outputs": [
      {
       "metadata": {},
       "output_type": "pyout",
       "prompt_number": 36,
       "text": [
        "Index([u'area', u'preco', u'condominio', u'm2', u'garagem', u'quartos', u'suites', u'lat', u'lng'], dtype='object')"
       ]
      }
     ],
     "prompt_number": 36
    },
    {
     "cell_type": "code",
     "collapsed": false,
     "input": [
      "df.isnull().sum()"
     ],
     "language": "python",
     "metadata": {},
     "outputs": [
      {
       "metadata": {},
       "output_type": "pyout",
       "prompt_number": 5,
       "text": [
        "area              0\n",
        "preco             0\n",
        "condominio     7448\n",
        "m2                0\n",
        "garagem       11640\n",
        "quartos           0\n",
        "suites        22462\n",
        "lat               0\n",
        "lng               0\n",
        "dtype: int64"
       ]
      }
     ],
     "prompt_number": 5
    },
    {
     "cell_type": "code",
     "collapsed": false,
     "input": [
      "df.fillna(0, inplace=True)\n",
      "df.isnull().sum()"
     ],
     "language": "python",
     "metadata": {},
     "outputs": [
      {
       "metadata": {},
       "output_type": "pyout",
       "prompt_number": 7,
       "text": [
        "area          0\n",
        "preco         0\n",
        "condominio    0\n",
        "m2            0\n",
        "garagem       0\n",
        "quartos       0\n",
        "suites        0\n",
        "lat           0\n",
        "lng           0\n",
        "dtype: int64"
       ]
      }
     ],
     "prompt_number": 7
    },
    {
     "cell_type": "code",
     "collapsed": false,
     "input": [
      "import statsmodels.api as sm\n",
      "import statsmodels.formula.api as smf\n",
      "\n",
      "formula = 'df.preco ~ df.area + df.condominio + df.garagem + df.quartos + df.suites+ df.lat+ df.lng'\n",
      "lm = sm.formula.ols(formula, df).fit()\n",
      "print lm.summary()\n"
     ],
     "language": "python",
     "metadata": {},
     "outputs": [
      {
       "output_type": "stream",
       "stream": "stderr",
       "text": [
        "DEBUG:root:Enter SimpleTable.data2rows.\n"
       ]
      },
      {
       "output_type": "stream",
       "stream": "stderr",
       "text": [
        "2015-02-01 22:32:24,085 - table:293 - DEBUG >> Enter SimpleTable.data2rows.\n"
       ]
      },
      {
       "output_type": "stream",
       "stream": "stderr",
       "text": [
        "DEBUG:root:Exit SimpleTable.data2rows.\n"
       ]
      },
      {
       "output_type": "stream",
       "stream": "stderr",
       "text": [
        "2015-02-01 22:32:24,085 - table:307 - DEBUG >> Exit SimpleTable.data2rows.\n"
       ]
      },
      {
       "output_type": "stream",
       "stream": "stderr",
       "text": [
        "DEBUG:root:Enter SimpleTable.data2rows.\n"
       ]
      },
      {
       "output_type": "stream",
       "stream": "stderr",
       "text": [
        "2015-02-01 22:32:24,099 - table:293 - DEBUG >> Enter SimpleTable.data2rows.\n"
       ]
      },
      {
       "output_type": "stream",
       "stream": "stderr",
       "text": [
        "DEBUG:root:Exit SimpleTable.data2rows.\n"
       ]
      },
      {
       "output_type": "stream",
       "stream": "stderr",
       "text": [
        "2015-02-01 22:32:24,104 - table:307 - DEBUG >> Exit SimpleTable.data2rows.\n"
       ]
      },
      {
       "output_type": "stream",
       "stream": "stderr",
       "text": [
        "DEBUG:root:Enter SimpleTable.data2rows.\n"
       ]
      },
      {
       "output_type": "stream",
       "stream": "stderr",
       "text": [
        "2015-02-01 22:32:24,114 - table:293 - DEBUG >> Enter SimpleTable.data2rows.\n"
       ]
      },
      {
       "output_type": "stream",
       "stream": "stderr",
       "text": [
        "DEBUG:root:Exit SimpleTable.data2rows.\n"
       ]
      },
      {
       "output_type": "stream",
       "stream": "stderr",
       "text": [
        "2015-02-01 22:32:24,119 - table:307 - DEBUG >> Exit SimpleTable.data2rows.\n"
       ]
      },
      {
       "output_type": "stream",
       "stream": "stderr",
       "text": [
        "DEBUG:root:Enter SimpleTable.data2rows.\n"
       ]
      },
      {
       "output_type": "stream",
       "stream": "stderr",
       "text": [
        "2015-02-01 22:32:24,125 - table:293 - DEBUG >> Enter SimpleTable.data2rows.\n"
       ]
      },
      {
       "output_type": "stream",
       "stream": "stderr",
       "text": [
        "DEBUG:root:Exit SimpleTable.data2rows.\n"
       ]
      },
      {
       "output_type": "stream",
       "stream": "stderr",
       "text": [
        "2015-02-01 22:32:24,128 - table:307 - DEBUG >> Exit SimpleTable.data2rows.\n"
       ]
      },
      {
       "output_type": "stream",
       "stream": "stderr",
       "text": [
        "DEBUG:root:Enter SimpleTable.data2rows.\n"
       ]
      },
      {
       "output_type": "stream",
       "stream": "stderr",
       "text": [
        "2015-02-01 22:32:24,132 - table:293 - DEBUG >> Enter SimpleTable.data2rows.\n"
       ]
      },
      {
       "output_type": "stream",
       "stream": "stderr",
       "text": [
        "DEBUG:root:Exit SimpleTable.data2rows.\n"
       ]
      },
      {
       "output_type": "stream",
       "stream": "stderr",
       "text": [
        "2015-02-01 22:32:24,137 - table:307 - DEBUG >> Exit SimpleTable.data2rows.\n"
       ]
      },
      {
       "output_type": "stream",
       "stream": "stdout",
       "text": [
        "                            OLS Regression Results                            \n",
        "==============================================================================\n",
        "Dep. Variable:               df.preco   R-squared:                       0.650\n",
        "Model:                            OLS   Adj. R-squared:                  0.650\n",
        "Method:                 Least Squares   F-statistic:                 1.556e+04\n",
        "Date:                Sun, 01 Feb 2015   Prob (F-statistic):               0.00\n",
        "Time:                        22:32:24   Log-Likelihood:            -4.7218e+05\n",
        "No. Observations:               58714   AIC:                         9.444e+05\n",
        "Df Residuals:                   58706   BIC:                         9.445e+05\n",
        "Df Model:                           7                                         \n",
        "=================================================================================\n",
        "                    coef    std err          t      P>|t|      [95.0% Conf. Int.]\n",
        "---------------------------------------------------------------------------------\n",
        "Intercept      3.585e+04   2019.382     17.753      0.000      3.19e+04  3.98e+04\n",
        "df.area           7.6866      0.060    128.641      0.000         7.569     7.804\n",
        "df.condominio     0.1963      0.059      3.317      0.001         0.080     0.312\n",
        "df.garagem      167.4421      4.942     33.885      0.000       157.757   177.128\n",
        "df.quartos       81.1022      5.109     15.876      0.000        71.089    91.115\n",
        "df.suites       111.2552      4.687     23.738      0.000       102.069   120.441\n",
        "df.lat        -7492.0790     78.471    -95.476      0.000     -7645.882 -7338.276\n",
        "df.lng         4804.7099     37.027    129.763      0.000      4732.137  4877.283\n",
        "==============================================================================\n",
        "Omnibus:                    36909.830   Durbin-Watson:                   1.984\n",
        "Prob(Omnibus):                  0.000   Jarque-Bera (JB):           694896.865\n",
        "Skew:                           2.716   Prob(JB):                         0.00\n",
        "Kurtosis:                      18.954   Cond. No.                     9.82e+04\n",
        "==============================================================================\n",
        "\n",
        "Warnings:\n",
        "[1] The condition number is large, 9.82e+04. This might indicate that there are\n",
        "strong multicollinearity or other numerical problems.\n"
       ]
      }
     ],
     "prompt_number": 20
    },
    {
     "cell_type": "code",
     "collapsed": false,
     "input": [
      "\n",
      "formula = 'df.preco ~ df.lat+ df.lng'\n",
      "lm = sm.formula.ols(formula, df).fit()\n",
      "print lm.summary()\n"
     ],
     "language": "python",
     "metadata": {},
     "outputs": [
      {
       "output_type": "stream",
       "stream": "stderr",
       "text": [
        "DEBUG:root:Enter SimpleTable.data2rows.\n"
       ]
      },
      {
       "output_type": "stream",
       "stream": "stderr",
       "text": [
        "2015-02-01 22:16:29,461 - table:293 - DEBUG >> Enter SimpleTable.data2rows.\n"
       ]
      },
      {
       "output_type": "stream",
       "stream": "stderr",
       "text": [
        "DEBUG:root:Exit SimpleTable.data2rows.\n"
       ]
      },
      {
       "output_type": "stream",
       "stream": "stderr",
       "text": [
        "2015-02-01 22:16:29,467 - table:307 - DEBUG >> Exit SimpleTable.data2rows.\n"
       ]
      },
      {
       "output_type": "stream",
       "stream": "stderr",
       "text": [
        "DEBUG:root:Enter SimpleTable.data2rows.\n"
       ]
      },
      {
       "output_type": "stream",
       "stream": "stderr",
       "text": [
        "2015-02-01 22:16:29,471 - table:293 - DEBUG >> Enter SimpleTable.data2rows.\n"
       ]
      },
      {
       "output_type": "stream",
       "stream": "stderr",
       "text": [
        "DEBUG:root:Exit SimpleTable.data2rows.\n"
       ]
      },
      {
       "output_type": "stream",
       "stream": "stderr",
       "text": [
        "2015-02-01 22:16:29,496 - table:307 - DEBUG >> Exit SimpleTable.data2rows.\n"
       ]
      },
      {
       "output_type": "stream",
       "stream": "stderr",
       "text": [
        "DEBUG:root:Enter SimpleTable.data2rows.\n"
       ]
      },
      {
       "output_type": "stream",
       "stream": "stderr",
       "text": [
        "2015-02-01 22:16:29,526 - table:293 - DEBUG >> Enter SimpleTable.data2rows.\n"
       ]
      },
      {
       "output_type": "stream",
       "stream": "stderr",
       "text": [
        "DEBUG:root:Exit SimpleTable.data2rows.\n"
       ]
      },
      {
       "output_type": "stream",
       "stream": "stderr",
       "text": [
        "2015-02-01 22:16:29,530 - table:307 - DEBUG >> Exit SimpleTable.data2rows.\n"
       ]
      },
      {
       "output_type": "stream",
       "stream": "stderr",
       "text": [
        "DEBUG:root:Enter SimpleTable.data2rows.\n"
       ]
      },
      {
       "output_type": "stream",
       "stream": "stderr",
       "text": [
        "2015-02-01 22:16:29,533 - table:293 - DEBUG >> Enter SimpleTable.data2rows.\n"
       ]
      },
      {
       "output_type": "stream",
       "stream": "stderr",
       "text": [
        "DEBUG:root:Exit SimpleTable.data2rows.\n"
       ]
      },
      {
       "output_type": "stream",
       "stream": "stderr",
       "text": [
        "2015-02-01 22:16:29,545 - table:307 - DEBUG >> Exit SimpleTable.data2rows.\n"
       ]
      },
      {
       "output_type": "stream",
       "stream": "stderr",
       "text": [
        "DEBUG:root:Enter SimpleTable.data2rows.\n"
       ]
      },
      {
       "output_type": "stream",
       "stream": "stderr",
       "text": [
        "2015-02-01 22:16:29,555 - table:293 - DEBUG >> Enter SimpleTable.data2rows.\n"
       ]
      },
      {
       "output_type": "stream",
       "stream": "stderr",
       "text": [
        "DEBUG:root:Exit SimpleTable.data2rows.\n"
       ]
      },
      {
       "output_type": "stream",
       "stream": "stderr",
       "text": [
        "2015-02-01 22:16:29,561 - table:307 - DEBUG >> Exit SimpleTable.data2rows.\n"
       ]
      },
      {
       "output_type": "stream",
       "stream": "stdout",
       "text": [
        "                            OLS Regression Results                            \n",
        "==============================================================================\n",
        "Dep. Variable:               df.preco   R-squared:                       0.261\n",
        "Model:                            OLS   Adj. R-squared:                  0.261\n",
        "Method:                 Least Squares   F-statistic:                 1.038e+04\n",
        "Date:                Sun, 01 Feb 2015   Prob (F-statistic):               0.00\n",
        "Time:                        22:16:29   Log-Likelihood:            -4.9411e+05\n",
        "No. Observations:               58715   AIC:                         9.882e+05\n",
        "Df Residuals:                   58712   BIC:                         9.883e+05\n",
        "Df Model:                           2                                         \n",
        "==============================================================================\n",
        "                 coef    std err          t      P>|t|      [95.0% Conf. Int.]\n",
        "------------------------------------------------------------------------------\n",
        "Intercept  -1.152e+05   2599.811    -44.317      0.000      -1.2e+05  -1.1e+05\n",
        "df.lat     -1.423e+04    106.450   -133.644      0.000     -1.44e+04  -1.4e+04\n",
        "df.lng      4852.5144     49.291     98.446      0.000      4755.904  4949.125\n",
        "==============================================================================\n",
        "Omnibus:                    36414.651   Durbin-Watson:                   1.978\n",
        "Prob(Omnibus):                  0.000   Jarque-Bera (JB):           418753.469\n",
        "Skew:                           2.864   Prob(JB):                         0.00\n",
        "Kurtosis:                      14.762   Cond. No.                     2.83e+04\n",
        "==============================================================================\n",
        "\n",
        "Warnings:\n",
        "[1] The condition number is large, 2.83e+04. This might indicate that there are\n",
        "strong multicollinearity or other numerical problems.\n"
       ]
      }
     ],
     "prompt_number": 9
    },
    {
     "cell_type": "code",
     "collapsed": false,
     "input": [
      "dc = z.get('select * from _carac_explo')\n",
      "dc.head()"
     ],
     "language": "python",
     "metadata": {},
     "outputs": [
      {
       "html": [
        "<div style=\"max-height:1000px;max-width:1500px;overflow:auto;\">\n",
        "<table border=\"1\" class=\"dataframe\">\n",
        "  <thead>\n",
        "    <tr style=\"text-align: right;\">\n",
        "      <th></th>\n",
        "      <th>alto</th>\n",
        "      <th>andar inteiro</th>\n",
        "      <th>armario</th>\n",
        "      <th>banheira</th>\n",
        "      <th>blindex</th>\n",
        "      <th>children care</th>\n",
        "      <th>churrasqueira</th>\n",
        "      <th>closet</th>\n",
        "      <th>cobertura</th>\n",
        "      <th>copa</th>\n",
        "      <th>...</th>\n",
        "      <th>sol da tarde</th>\n",
        "      <th>terraco</th>\n",
        "      <th>triplex</th>\n",
        "      <th>varanda</th>\n",
        "      <th>indevassavel</th>\n",
        "      <th>lateral_</th>\n",
        "      <th>unidades</th>\n",
        "      <th>andar</th>\n",
        "      <th>elevadores</th>\n",
        "      <th>ano</th>\n",
        "    </tr>\n",
        "    <tr>\n",
        "      <th>id</th>\n",
        "      <th></th>\n",
        "      <th></th>\n",
        "      <th></th>\n",
        "      <th></th>\n",
        "      <th></th>\n",
        "      <th></th>\n",
        "      <th></th>\n",
        "      <th></th>\n",
        "      <th></th>\n",
        "      <th></th>\n",
        "      <th></th>\n",
        "      <th></th>\n",
        "      <th></th>\n",
        "      <th></th>\n",
        "      <th></th>\n",
        "      <th></th>\n",
        "      <th></th>\n",
        "      <th></th>\n",
        "      <th></th>\n",
        "      <th></th>\n",
        "      <th></th>\n",
        "    </tr>\n",
        "  </thead>\n",
        "  <tbody>\n",
        "    <tr>\n",
        "      <th>6198277</th>\n",
        "      <td> 0</td>\n",
        "      <td> 0</td>\n",
        "      <td> 0</td>\n",
        "      <td> 0</td>\n",
        "      <td> 0</td>\n",
        "      <td> 0</td>\n",
        "      <td> 0</td>\n",
        "      <td> 0</td>\n",
        "      <td> 0</td>\n",
        "      <td> 0</td>\n",
        "      <td>...</td>\n",
        "      <td> 0</td>\n",
        "      <td> 0</td>\n",
        "      <td> 0</td>\n",
        "      <td> 0</td>\n",
        "      <td> 0</td>\n",
        "      <td> 0</td>\n",
        "      <td>NaN</td>\n",
        "      <td>  3</td>\n",
        "      <td>NaN</td>\n",
        "      <td>  NaN</td>\n",
        "    </tr>\n",
        "    <tr>\n",
        "      <th>5793028</th>\n",
        "      <td> 0</td>\n",
        "      <td> 0</td>\n",
        "      <td> 1</td>\n",
        "      <td> 0</td>\n",
        "      <td> 0</td>\n",
        "      <td> 0</td>\n",
        "      <td> 1</td>\n",
        "      <td> 0</td>\n",
        "      <td> 0</td>\n",
        "      <td> 1</td>\n",
        "      <td>...</td>\n",
        "      <td> 0</td>\n",
        "      <td> 0</td>\n",
        "      <td> 0</td>\n",
        "      <td> 1</td>\n",
        "      <td> 0</td>\n",
        "      <td> 0</td>\n",
        "      <td>NaN</td>\n",
        "      <td>NaN</td>\n",
        "      <td>  4</td>\n",
        "      <td> 2004</td>\n",
        "    </tr>\n",
        "    <tr>\n",
        "      <th>5290891</th>\n",
        "      <td> 0</td>\n",
        "      <td> 0</td>\n",
        "      <td> 0</td>\n",
        "      <td> 0</td>\n",
        "      <td> 0</td>\n",
        "      <td> 0</td>\n",
        "      <td> 0</td>\n",
        "      <td> 0</td>\n",
        "      <td> 0</td>\n",
        "      <td> 0</td>\n",
        "      <td>...</td>\n",
        "      <td> 1</td>\n",
        "      <td> 0</td>\n",
        "      <td> 0</td>\n",
        "      <td> 0</td>\n",
        "      <td> 0</td>\n",
        "      <td> 0</td>\n",
        "      <td>NaN</td>\n",
        "      <td> 12</td>\n",
        "      <td>NaN</td>\n",
        "      <td>  NaN</td>\n",
        "    </tr>\n",
        "    <tr>\n",
        "      <th>5558200</th>\n",
        "      <td> 0</td>\n",
        "      <td> 0</td>\n",
        "      <td> 0</td>\n",
        "      <td> 0</td>\n",
        "      <td> 0</td>\n",
        "      <td> 1</td>\n",
        "      <td> 1</td>\n",
        "      <td> 0</td>\n",
        "      <td> 0</td>\n",
        "      <td> 0</td>\n",
        "      <td>...</td>\n",
        "      <td> 0</td>\n",
        "      <td> 0</td>\n",
        "      <td> 0</td>\n",
        "      <td> 1</td>\n",
        "      <td> 0</td>\n",
        "      <td> 0</td>\n",
        "      <td>NaN</td>\n",
        "      <td>NaN</td>\n",
        "      <td>NaN</td>\n",
        "      <td>  NaN</td>\n",
        "    </tr>\n",
        "    <tr>\n",
        "      <th>5686111</th>\n",
        "      <td> 1</td>\n",
        "      <td> 0</td>\n",
        "      <td> 0</td>\n",
        "      <td> 0</td>\n",
        "      <td> 0</td>\n",
        "      <td> 0</td>\n",
        "      <td> 0</td>\n",
        "      <td> 0</td>\n",
        "      <td> 0</td>\n",
        "      <td> 0</td>\n",
        "      <td>...</td>\n",
        "      <td> 0</td>\n",
        "      <td> 0</td>\n",
        "      <td> 0</td>\n",
        "      <td> 0</td>\n",
        "      <td> 1</td>\n",
        "      <td> 0</td>\n",
        "      <td>NaN</td>\n",
        "      <td>NaN</td>\n",
        "      <td>NaN</td>\n",
        "      <td>  NaN</td>\n",
        "    </tr>\n",
        "  </tbody>\n",
        "</table>\n",
        "<p>5 rows \u00d7 46 columns</p>\n",
        "</div>"
       ],
       "metadata": {},
       "output_type": "pyout",
       "prompt_number": 10,
       "text": [
        "         alto  andar inteiro  armario  banheira  blindex  children care  \\\n",
        "id                                                                        \n",
        "6198277     0              0        0         0        0              0   \n",
        "5793028     0              0        1         0        0              0   \n",
        "5290891     0              0        0         0        0              0   \n",
        "5558200     0              0        0         0        0              1   \n",
        "5686111     1              0        0         0        0              0   \n",
        "\n",
        "         churrasqueira  closet  cobertura  copa  ...   sol da tarde  terraco  \\\n",
        "id                                               ...                           \n",
        "6198277              0       0          0     0  ...              0        0   \n",
        "5793028              1       0          0     1  ...              0        0   \n",
        "5290891              0       0          0     0  ...              1        0   \n",
        "5558200              1       0          0     0  ...              0        0   \n",
        "5686111              0       0          0     0  ...              0        0   \n",
        "\n",
        "         triplex  varanda  indevassavel  lateral_  unidades  andar  \\\n",
        "id                                                                   \n",
        "6198277        0        0             0         0       NaN      3   \n",
        "5793028        0        1             0         0       NaN    NaN   \n",
        "5290891        0        0             0         0       NaN     12   \n",
        "5558200        0        1             0         0       NaN    NaN   \n",
        "5686111        0        0             1         0       NaN    NaN   \n",
        "\n",
        "         elevadores   ano  \n",
        "id                         \n",
        "6198277         NaN   NaN  \n",
        "5793028           4  2004  \n",
        "5290891         NaN   NaN  \n",
        "5558200         NaN   NaN  \n",
        "5686111         NaN   NaN  \n",
        "\n",
        "[5 rows x 46 columns]"
       ]
      }
     ],
     "prompt_number": 10
    },
    {
     "cell_type": "code",
     "collapsed": false,
     "input": [
      "df = z.pd.concat([df,dc],1,'inner')\n",
      "df.columns"
     ],
     "language": "python",
     "metadata": {},
     "outputs": [
      {
       "metadata": {},
       "output_type": "pyout",
       "prompt_number": 13,
       "text": [
        "Index([u'area', u'preco', u'condominio', u'm2', u'garagem', u'quartos', u'suites', u'lat', u'lng', u'alto', u'andar inteiro', u'armario', u'banheira', u'blindex', u'children care', u'churrasqueira', u'closet', u'cobertura', u'copa', u'dependencia', u'duplex', u'elevador privativo', u'esquina', u'estacionamento visitantes', u'frente', u'fundos', u'heliponto', u'hidrometro', u'hidromassagem', u'jardim', u'lareira', u'linear', u'mezanino', u'piscina', u'playground', u'portaria', u'quadra', u'quarto de empregada', u'recuado', u'sala de jantar', u'salao de festas', u'salao de jogos', u'sauna', u'seguranca', u'sol da manha', u'sol da tarde', u'terraco', u'triplex', u'varanda', u'indevassavel', u'lateral_', u'unidades', u'andar', u'elevadores', u'ano'], dtype='object')"
       ]
      }
     ],
     "prompt_number": 13
    },
    {
     "cell_type": "code",
     "collapsed": false,
     "input": [
      "formula = 'df.preco ~ df.lat+ df.lng'\n",
      "#lm = sm.formula.ols(formula, df).fit()\n",
      "#print lm.summary()\n",
      "cols = list(set(df.columns)-set(['m2']))\n",
      "formula = 'df.preco ~ ' + ' + '.join(['df[\\''+c + '\\']' for c in cols])\n",
      "lm = sm.formula.ols(formula, df).fit()\n",
      "print lm.summary()\n",
      "\n"
     ],
     "language": "python",
     "metadata": {},
     "outputs": [
      {
       "output_type": "stream",
       "stream": "stderr",
       "text": [
        "DEBUG:root:Enter SimpleTable.data2rows.\n"
       ]
      },
      {
       "output_type": "stream",
       "stream": "stderr",
       "text": [
        "2015-02-01 22:50:01,378 - table:293 - DEBUG >> Enter SimpleTable.data2rows.\n"
       ]
      },
      {
       "output_type": "stream",
       "stream": "stderr",
       "text": [
        "DEBUG:root:Exit SimpleTable.data2rows.\n"
       ]
      },
      {
       "output_type": "stream",
       "stream": "stderr",
       "text": [
        "2015-02-01 22:50:01,378 - table:307 - DEBUG >> Exit SimpleTable.data2rows.\n"
       ]
      },
      {
       "output_type": "stream",
       "stream": "stderr",
       "text": [
        "DEBUG:root:Enter SimpleTable.data2rows.\n"
       ]
      },
      {
       "output_type": "stream",
       "stream": "stderr",
       "text": [
        "2015-02-01 22:50:01,387 - table:293 - DEBUG >> Enter SimpleTable.data2rows.\n"
       ]
      },
      {
       "output_type": "stream",
       "stream": "stderr",
       "text": [
        "DEBUG:root:Exit SimpleTable.data2rows.\n"
       ]
      },
      {
       "output_type": "stream",
       "stream": "stderr",
       "text": [
        "2015-02-01 22:50:01,391 - table:307 - DEBUG >> Exit SimpleTable.data2rows.\n"
       ]
      },
      {
       "output_type": "stream",
       "stream": "stderr",
       "text": [
        "DEBUG:root:Enter SimpleTable.data2rows.\n"
       ]
      },
      {
       "output_type": "stream",
       "stream": "stderr",
       "text": [
        "2015-02-01 22:50:01,404 - table:293 - DEBUG >> Enter SimpleTable.data2rows.\n"
       ]
      },
      {
       "output_type": "stream",
       "stream": "stderr",
       "text": [
        "DEBUG:root:Exit SimpleTable.data2rows.\n"
       ]
      },
      {
       "output_type": "stream",
       "stream": "stderr",
       "text": [
        "2015-02-01 22:50:01,421 - table:307 - DEBUG >> Exit SimpleTable.data2rows.\n"
       ]
      },
      {
       "output_type": "stream",
       "stream": "stderr",
       "text": [
        "DEBUG:root:Enter SimpleTable.data2rows.\n"
       ]
      },
      {
       "output_type": "stream",
       "stream": "stderr",
       "text": [
        "2015-02-01 22:50:01,430 - table:293 - DEBUG >> Enter SimpleTable.data2rows.\n"
       ]
      },
      {
       "output_type": "stream",
       "stream": "stderr",
       "text": [
        "DEBUG:root:Exit SimpleTable.data2rows.\n"
       ]
      },
      {
       "output_type": "stream",
       "stream": "stderr",
       "text": [
        "2015-02-01 22:50:01,436 - table:307 - DEBUG >> Exit SimpleTable.data2rows.\n"
       ]
      },
      {
       "output_type": "stream",
       "stream": "stderr",
       "text": [
        "DEBUG:root:Enter SimpleTable.data2rows.\n"
       ]
      },
      {
       "output_type": "stream",
       "stream": "stderr",
       "text": [
        "2015-02-01 22:50:01,440 - table:293 - DEBUG >> Enter SimpleTable.data2rows.\n"
       ]
      },
      {
       "output_type": "stream",
       "stream": "stderr",
       "text": [
        "DEBUG:root:Exit SimpleTable.data2rows.\n"
       ]
      },
      {
       "output_type": "stream",
       "stream": "stderr",
       "text": [
        "2015-02-01 22:50:01,446 - table:307 - DEBUG >> Exit SimpleTable.data2rows.\n"
       ]
      },
      {
       "output_type": "stream",
       "stream": "stdout",
       "text": [
        "                            OLS Regression Results                            \n",
        "==============================================================================\n",
        "Dep. Variable:               df.preco   R-squared:                       1.000\n",
        "Model:                            OLS   Adj. R-squared:                  1.000\n",
        "Method:                 Least Squares   F-statistic:                 8.817e+29\n",
        "Date:                Sun, 01 Feb 2015   Prob (F-statistic):               0.00\n",
        "Time:                        22:50:01   Log-Likelihood:                 88866.\n",
        "No. Observations:                3764   AIC:                        -1.776e+05\n",
        "Df Residuals:                    3710   BIC:                        -1.773e+05\n",
        "Df Model:                          54                                         \n",
        "===================================================================================================\n",
        "                                      coef    std err          t      P>|t|      [95.0% Conf. Int.]\n",
        "---------------------------------------------------------------------------------------------------\n",
        "Intercept                       -1.819e-12   1.62e-10     -0.011      0.991     -3.19e-10  3.15e-10\n",
        "df['blindex']                   -3.293e-12   6.18e-13     -5.325      0.000     -4.51e-12 -2.08e-12\n",
        "df['quartos']                    1.265e-12   3.87e-13      3.266      0.001      5.06e-13  2.02e-12\n",
        "df['fundos']                     2.842e-12   1.09e-12      2.598      0.009      6.98e-13  4.99e-12\n",
        "df['suites']                     3.837e-13   3.73e-13      1.029      0.303     -3.47e-13  1.11e-12\n",
        "df['armario']                    6.839e-13   4.92e-13      1.391      0.164      -2.8e-13  1.65e-12\n",
        "df['cobertura']                  1.791e-12   1.16e-12      1.544      0.123     -4.83e-13  4.06e-12\n",
        "df['ano']                       -1.638e-14   1.47e-14     -1.114      0.265     -4.52e-14  1.24e-14\n",
        "df['portaria']                  -2.567e-13    5.7e-13     -0.451      0.652     -1.37e-12   8.6e-13\n",
        "df['andar']                     -1.954e-14   4.82e-14     -0.405      0.685     -1.14e-13   7.5e-14\n",
        "df['lateral_']                   8.056e-13   1.62e-12      0.497      0.619     -2.37e-12  3.98e-12\n",
        "df['esquina']                            0   2.16e-12          0      1.000     -4.23e-12  4.23e-12\n",
        "df['preco']                         1.0000   3.79e-16   2.64e+15      0.000         1.000     1.000\n",
        "df['lng']                       -1.705e-13   3.33e-12     -0.051      0.959      -6.7e-12  6.36e-12\n",
        "df['varanda']                     1.99e-13   5.21e-13      0.382      0.703     -8.23e-13  1.22e-12\n",
        "df['jardim']                    -2.629e-13   9.42e-13     -0.279      0.780     -2.11e-12  1.58e-12\n",
        "df['quarto de empregada']       -9.948e-14   9.23e-13     -0.108      0.914     -1.91e-12  1.71e-12\n",
        "df['terraco']                    1.705e-13   1.18e-12      0.145      0.885     -2.13e-12  2.47e-12\n",
        "df['andar inteiro']             -9.095e-13   5.32e-12     -0.171      0.864     -1.13e-11  9.53e-12\n",
        "df['piscina']                   -9.948e-14    8.8e-13     -0.113      0.910     -1.82e-12  1.63e-12\n",
        "df['closet']                     1.208e-13   8.86e-13      0.136      0.892     -1.62e-12  1.86e-12\n",
        "df['area']                      -3.553e-15   6.94e-15     -0.512      0.609     -1.72e-14  1.01e-14\n",
        "df['duplex']                     1.421e-14   1.21e-12      0.012      0.991     -2.36e-12  2.39e-12\n",
        "df['churrasqueira']             -2.522e-13   7.79e-13     -0.324      0.746     -1.78e-12  1.27e-12\n",
        "df['elevadores']                 2.581e-15   7.97e-15      0.324      0.746      -1.3e-14  1.82e-14\n",
        "df['salao de jogos']             1.492e-13   1.28e-12      0.117      0.907     -2.36e-12  2.66e-12\n",
        "df['hidrometro']                 1.265e-12   3.67e-12      0.345      0.730     -5.93e-12  8.46e-12\n",
        "df['recuado']                   -5.684e-14   2.07e-12     -0.027      0.978     -4.12e-12  4.01e-12\n",
        "df['playground']                -2.842e-14   1.31e-12     -0.022      0.983      -2.6e-12  2.54e-12\n",
        "df['indevassavel']               9.948e-14   6.88e-13      0.145      0.885     -1.25e-12  1.45e-12\n",
        "df['hidromassagem']             -1.474e-13   1.29e-12     -0.115      0.909     -2.67e-12  2.37e-12\n",
        "df['children care']              3.981e-20   4.18e-24   9532.859      0.000      3.98e-20  3.98e-20\n",
        "df['copa']                       2.842e-14   6.07e-13      0.047      0.963     -1.16e-12  1.22e-12\n",
        "df['linear']                    -5.684e-14    1.6e-12     -0.036      0.972     -3.19e-12  3.08e-12\n",
        "df['frente']                    -1.421e-13   7.07e-13     -0.201      0.841     -1.53e-12  1.24e-12\n",
        "df['quadra']                     2.274e-13   7.27e-13      0.313      0.754      -1.2e-12  1.65e-12\n",
        "df['seguranca']                  2.327e-13   6.03e-13      0.386      0.700      -9.5e-13  1.42e-12\n",
        "df['lareira']                    3.098e-12   1.38e-11      0.224      0.823      -2.4e-11  3.02e-11\n",
        "df['sauna']                       4.69e-13   9.26e-13      0.506      0.613     -1.35e-12  2.28e-12\n",
        "df['sala de jantar']            -4.263e-14   1.01e-12     -0.042      0.966     -2.03e-12  1.94e-12\n",
        "df['banheira']                    1.99e-13   2.19e-12      0.091      0.928     -4.09e-12  4.49e-12\n",
        "df['condominio']                 -1.11e-16   2.96e-15     -0.037      0.970     -5.92e-15   5.7e-15\n",
        "df['lat']                       -5.542e-13   7.01e-12     -0.079      0.937     -1.43e-11  1.32e-11\n",
        "df['garagem']                    -6.75e-14   4.26e-13     -0.159      0.874     -9.02e-13  7.67e-13\n",
        "df['alto']                      -3.908e-14      7e-13     -0.056      0.955     -1.41e-12  1.33e-12\n",
        "df['salao de festas']           -7.105e-14   8.38e-13     -0.085      0.932     -1.71e-12  1.57e-12\n",
        "df['mezanino']                   4.547e-13   7.94e-12      0.057      0.954     -1.51e-11   1.6e-11\n",
        "df['heliponto']                 -5.116e-13   9.72e-12     -0.053      0.958     -1.96e-11  1.86e-11\n",
        "df['dependencia']                1.101e-13    5.3e-13      0.208      0.836      -9.3e-13  1.15e-12\n",
        "df['triplex']                   -3.979e-13   5.72e-12     -0.070      0.945     -1.16e-11  1.08e-11\n",
        "df['estacionamento visitantes']  1.705e-13   4.39e-12      0.039      0.969     -8.43e-12  8.78e-12\n",
        "df['unidades']                  -1.349e-16   7.93e-16     -0.170      0.865     -1.69e-15  1.42e-15\n",
        "df['sol da tarde']               5.471e-13   3.07e-12      0.178      0.859     -5.48e-12  6.57e-12\n",
        "df['elevador privativo']         5.684e-14   5.71e-12      0.010      0.992     -1.11e-11  1.13e-11\n",
        "df['sol da manha']               1.705e-13   6.46e-13      0.264      0.792      -1.1e-12  1.44e-12\n",
        "==============================================================================\n",
        "Omnibus:                      903.360   Durbin-Watson:                   0.053\n",
        "Prob(Omnibus):                  0.000   Jarque-Bera (JB):             3195.389\n",
        "Skew:                           1.171   Prob(JB):                         0.00\n",
        "Kurtosis:                       6.859   Cond. No.                     9.77e+11\n",
        "==============================================================================\n",
        "\n",
        "Warnings:\n",
        "[1] The smallest eigenvalue is 2.2e-14. This might indicate that there are\n",
        "strong multicollinearity problems or that the design matrix is singular.\n"
       ]
      }
     ],
     "prompt_number": 33
    },
    {
     "cell_type": "code",
     "collapsed": false,
     "input": [
      "len(lm.predict())"
     ],
     "language": "python",
     "metadata": {},
     "outputs": [
      {
       "metadata": {},
       "output_type": "pyout",
       "prompt_number": 35,
       "text": [
        "3764"
       ]
      }
     ],
     "prompt_number": 35
    }
   ],
   "metadata": {}
  }
 ]
}