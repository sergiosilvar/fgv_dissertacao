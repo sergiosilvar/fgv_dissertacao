{
 "cells": [
  {
   "cell_type": "markdown",
   "metadata": {},
   "source": [
    "# Lista de arquivos\n",
    "\n",
    "[captura.py](captura.py) - Captura das informações do ZAP Imóveis.\n",
    "\n",
    "[dataset.py](dataset.py) - Acesso ao banco de dados.\n",
    "\n",
    "[zap_util.py](zap_util.py) - Módulo com diversas funções auxiliares utilizadas em todo o estudo.\n",
    "\n",
    "[zap_logging.py](zap_logging.py) - Registro de erros, avisos e debug.\n",
    "\n",
    "[Variaveis_estruturais.ipynb](Variaveis_estruturais.ipynb) - Construção das variáveis estruturais.\n",
    "\n",
    "[Variaveis_socioambientais.ipynb](Variaveis_socioambientais.ipynb) - Construção das variáveis socioambientais.\n",
    "\n",
    "[Tratar_variaveis_acessibilidade.ipynb](Tratar_variaveis_acessibilidade.ipynb) - Tratamento das vairáveis de acessibilidade.\n",
    "\n",
    "[Tratar_variaveis_estruturais.ipynb](Tratar_variaveis_estruturais.ipynb) - Tratamento das vairáveis estruturais.\n",
    "\n",
    "[Tratar_variaveis_socioambientais.ipynb](Tratar_variaveis_socioambientais.ipynb) - Tratamento das vairáveis socioambientais.\n",
    "\n",
    "[Reg_Linear_-_Modelo_Cidade.ipynb](Reg_Linear_-_Modelo_Cidade.ipynb) - Execução de modelo hedônico para a cidade.\n",
    "\n",
    "[Reg_Linear_-_Modelos_Bairro.ipynb](Reg_Linear_-_Modelos_Bairro.ipynb) - Execução de modelo hedônico para os bairros.\n",
    "\n",
    "\n"
   ]
  },
  {
   "cell_type": "code",
   "execution_count": null,
   "metadata": {
    "collapsed": true
   },
   "outputs": [],
   "source": []
  }
 ],
 "metadata": {
  "kernelspec": {
   "display_name": "Python 2",
   "language": "python",
   "name": "python2"
  },
  "language_info": {
   "codemirror_mode": {
    "name": "ipython",
    "version": 2
   },
   "file_extension": ".py",
   "mimetype": "text/x-python",
   "name": "python",
   "nbconvert_exporter": "python",
   "pygments_lexer": "ipython2",
   "version": "2.7.10"
  }
 },
 "nbformat": 4,
 "nbformat_minor": 0
}
