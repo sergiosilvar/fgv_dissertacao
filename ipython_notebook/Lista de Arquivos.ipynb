{
 "cells": [
  {
   "cell_type": "markdown",
   "metadata": {},
   "source": [
    "# Lista de arquivos\n",
    "\n",
    "[captura.py](captura.py) - Captura das informações do ZAP Imóveis.\n",
    "\n",
    "[zap_util.py](zap_util.py) - Módulo com diversas funções auxiliares.\n",
    "\n",
    "[Variaveis_estruturais.ipynb](Variaveis_estruturais.ipynb) - Construção das variáveis estruturais.\n",
    "\n",
    "[Variaveis_socioambientais.ipynb](Variaveis_socioambientais.ipynb) - Construção das variáveis socioambientais.\n",
    "\n",
    "[Tratar_variaveis_estruturais.ipynb](Tratar_variaveis_estruturais.ipynb) - Tratamento das vairáveis estruturais.\n",
    "\n",
    "[Reg_Linear_-_Modelo_Cidade.ipynb](Reg_Linear_-_Modelo_Cidade.ipynb) - Execução de modelo hedônico para a cidade.\n",
    "\n",
    "[Reg_Linear_-_Modelos_Bairro.ipynb](Reg_Linear_-_Modelos_Bairro.ipynb) - Execução de modelo hedônico para os bairros.\n",
    "\n",
    "\n"
   ]
  },
  {
   "cell_type": "code",
   "execution_count": null,
   "metadata": {
    "collapsed": true
   },
   "outputs": [],
   "source": []
  }
 ],
 "metadata": {
  "kernelspec": {
   "display_name": "Python 3",
   "language": "python",
   "name": "python3"
  },
  "language_info": {
   "codemirror_mode": {
    "name": "ipython",
    "version": 3
   },
   "file_extension": ".py",
   "mimetype": "text/x-python",
   "name": "python",
   "nbconvert_exporter": "python",
   "pygments_lexer": "ipython3",
   "version": "3.4.3"
  }
 },
 "nbformat": 4,
 "nbformat_minor": 0
}
