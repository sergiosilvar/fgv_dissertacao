{
 "cells": [
  {
   "cell_type": "code",
   "execution_count": 16,
   "metadata": {
    "collapsed": false
   },
   "outputs": [
    {
     "name": "stdout",
     "output_type": "stream",
     "text": [
      "Populating the interactive namespace from numpy and matplotlib\n"
     ]
    },
    {
     "name": "stderr",
     "output_type": "stream",
     "text": [
      "WARNING: pylab import has clobbered these variables: ['f', 'e']\n",
      "`%matplotlib` prevents importing * from pylab and numpy\n"
     ]
    }
   ],
   "source": [
    "%pylab inline\n",
    "\n",
    "import zap_util as z\n",
    "\n",
    "import statsmodels.api as sm\n",
    "import statsmodels.formula.api as smf\n",
    "rmse = {}\n",
    "z.set_style()"
   ]
  },
  {
   "cell_type": "code",
   "execution_count": 17,
   "metadata": {
    "collapsed": false
   },
   "outputs": [],
   "source": [
    "df = z.get_imoveis_dataframe(False)"
   ]
  },
  {
   "cell_type": "code",
   "execution_count": 25,
   "metadata": {
    "collapsed": false
   },
   "outputs": [
    {
     "name": "stdout",
     "output_type": "stream",
     "text": [
      "Variáveis excluídas: lat,preco,m2,id_bairro_g,lng\n",
      "\n",
      "\n",
      "Fórmula: df.preco  ~ df.dm_esquina + C(df.quartos) + df.dm_closet + df.dist_saude_privada + df.dm_armario + df.se_anos_estudo + df.dm_recuado + df.dm_fundos + df.dm_andar_alto + df.dm_mezanino + df.dm_piscina + df.dm_playground + df.dist_centro_lng + df.dm_hidrometro + df.dm_seguranca + df.dist_trem + df.dist_lagoa + C(df.suites) + df.dm_sol_da_manha + df.area + df.dm_frente + df.dist_delegacia + df.dist_centro_lat + df.dm_blindex + df.dist_favela + df.dist_logradouro + df.dm_terraco + df.dm_salao_de_jogos + C(df.bairro_g) + df.se_idh + df.dist_centro + df.dm_sala_de_jantar + df.dm_dependencia + df.se_crm_violento + df.dm_estacionamento_visitantes + df.dm_banheira + df.dist_saude_publica + df.dist_bombeiro + df.dm_jardim + df.garagem + df.dist_praia + df.dm_duplex + df.dm_andar_inteiro + df.dm_sol_da_tarde + df.condominio + df.dm_varanda + df.dm_triplex + df.dm_children_care + df.dm_quarto_de_empregada + df.se_renda + df.dm_andar_baixo + df.dm_lateral_ + df.dm_portaria + df.dm_indevassavel + df.dm_cobertura + df.dm_copa + df.se_perc_alfabetizacao + df.dm_quadra + df.dm_elevador_privativo + df.dm_sauna + df.dm_salao_de_festas + df.se_saneamento + df.se_crm_roubo + df.dist_metro + df.dm_churrasqueira + df.dm_linear\n"
     ]
    }
   ],
   "source": [
    "var_ignore = ['lat','lng','id_bairro_g']\n",
    "f,_,e = z.prep_formula(df,'df', cat=['bairro_g','suites','quartos'], ignore=var_ignore)\n",
    "print('Variáveis excluídas: ' + ','.join(e))\n",
    "print( '\\n')\n",
    "print('Fórmula: '+ f)"
   ]
  },
  {
   "cell_type": "code",
   "execution_count": 26,
   "metadata": {
    "collapsed": false,
    "scrolled": false
   },
   "outputs": [
    {
     "name": "stdout",
     "output_type": "stream",
     "text": [
      "                            OLS Regression Results                            \n",
      "==============================================================================\n",
      "Dep. Variable:               df.preco   R-squared:                       0.808\n",
      "Model:                            OLS   Adj. R-squared:                  0.807\n",
      "Method:                 Least Squares   F-statistic:                     1035.\n",
      "Date:                Sat, 04 Apr 2015   Prob (F-statistic):               0.00\n",
      "Time:                        16:36:35   Log-Likelihood:            -3.9240e+05\n",
      "No. Observations:               53581   AIC:                         7.852e+05\n",
      "Df Residuals:                   53363   BIC:                         7.872e+05\n",
      "Df Model:                         217                                         \n",
      "Covariance Type:            nonrobust                                         \n",
      "==============================================================================================================\n",
      "                                                 coef    std err          t      P>|t|      [95.0% Conf. Int.]\n",
      "--------------------------------------------------------------------------------------------------------------\n",
      "Intercept                                     43.8715     66.156      0.663      0.507       -85.795   173.538\n",
      "C(df.quartos)[T.2]                            58.7282      6.504      9.030      0.000        45.981    71.475\n",
      "C(df.quartos)[T.3]                            62.0953      7.277      8.533      0.000        47.832    76.359\n",
      "C(df.quartos)[T.4]                           160.7506     10.100     15.916      0.000       140.954   180.547\n",
      "C(df.suites)[T.1.0]                           81.8373      4.194     19.513      0.000        73.617    90.057\n",
      "C(df.suites)[T.2.0]                           90.1811      7.352     12.266      0.000        75.771   104.591\n",
      "C(df.suites)[T.3.0]                          170.4652     11.167     15.265      0.000       148.578   192.352\n",
      "C(df.suites)[T.4.0]                          356.6240     17.769     20.070      0.000       321.796   391.452\n",
      "C(df.bairro_g)[T.Acari]                     -262.4509    356.894     -0.735      0.462      -961.966   437.064\n",
      "C(df.bairro_g)[T.Agua Santa]                 249.8464     75.413      3.313      0.001       102.036   397.657\n",
      "C(df.bairro_g)[T.Alto da Boa Vista]          110.6495     54.131      2.044      0.041         4.552   216.747\n",
      "C(df.bairro_g)[T.Anchieta]                    76.1725    221.181      0.344      0.731      -357.344   509.689\n",
      "C(df.bairro_g)[T.Andarai]                    241.6013     58.143      4.155      0.000       127.641   355.561\n",
      "C(df.bairro_g)[T.Anil]                       115.5335     42.526      2.717      0.007        32.183   198.884\n",
      "C(df.bairro_g)[T.Bancarios]                 -691.6785    113.152     -6.113      0.000      -913.458  -469.899\n",
      "C(df.bairro_g)[T.Bangu]                      143.5282    103.954      1.381      0.167       -60.222   347.279\n",
      "C(df.bairro_g)[T.Barra da Tijuca]           -801.7685     45.882    -17.475      0.000      -891.698  -711.839\n",
      "C(df.bairro_g)[T.Barra de Guaratiba]        -524.8441    235.883     -2.225      0.026      -987.176   -62.512\n",
      "C(df.bairro_g)[T.Barros Filho]               -84.4007    134.957     -0.625      0.532      -348.917   180.116\n",
      "C(df.bairro_g)[T.Benfica]                    255.3072    102.661      2.487      0.013        54.091   456.523\n",
      "C(df.bairro_g)[T.Bento Ribeiro]              -43.0602     82.740     -0.520      0.603      -205.231   119.110\n",
      "C(df.bairro_g)[T.Bonsucesso]                 -79.1132     64.008     -1.236      0.216      -204.569    46.343\n",
      "C(df.bairro_g)[T.Botafogo]                   180.4408     47.409      3.806      0.000        87.519   273.363\n",
      "C(df.bairro_g)[T.Bras de Pina]              -296.2049     67.564     -4.384      0.000      -428.631  -163.779\n",
      "C(df.bairro_g)[T.Cachambi]                   120.1998     78.797      1.525      0.127       -34.244   274.643\n",
      "C(df.bairro_g)[T.Cacuia]                    -457.6128     92.375     -4.954      0.000      -638.668  -276.557\n",
      "C(df.bairro_g)[T.Caju]                       198.4233    165.231      1.201      0.230      -125.431   522.278\n",
      "C(df.bairro_g)[T.Camorim]                   -115.0240     71.517     -1.608      0.108      -255.198    25.150\n",
      "C(df.bairro_g)[T.Campinho]                    14.9420     84.053      0.178      0.859      -149.802   179.686\n",
      "C(df.bairro_g)[T.Campo Grande]                76.4307     59.394      1.287      0.198       -39.982   192.843\n",
      "C(df.bairro_g)[T.Campo dos Afonsos]         -103.8774    149.181     -0.696      0.486      -396.273   188.519\n",
      "C(df.bairro_g)[T.Cascadura]                   25.8055     67.130      0.384      0.701      -105.769   157.380\n",
      "C(df.bairro_g)[T.Catete]                     328.5047     54.683      6.007      0.000       221.325   435.684\n",
      "C(df.bairro_g)[T.Catumbi]                    142.2127     88.352      1.610      0.107       -30.958   315.383\n",
      "C(df.bairro_g)[T.Cavalcanti]                 -24.9081    138.223     -0.180      0.857      -295.826   246.010\n",
      "C(df.bairro_g)[T.Centro]                      19.3651     95.270      0.203      0.839      -167.365   206.095\n",
      "C(df.bairro_g)[T.Cidade Nova]                310.3689     49.337      6.291      0.000       213.668   407.070\n",
      "C(df.bairro_g)[T.Cidade Universitaria]       -49.2326    167.795     -0.293      0.769      -378.111   279.646\n",
      "C(df.bairro_g)[T.Cidade de Deus]             220.0537     63.780      3.450      0.001        95.045   345.062\n",
      "C(df.bairro_g)[T.Cocota]                    -633.4019    113.872     -5.562      0.000      -856.592  -410.212\n",
      "C(df.bairro_g)[T.Coelho Neto]               -160.7853    128.682     -1.249      0.211      -413.003    91.433\n",
      "C(df.bairro_g)[T.Colegio]                   -243.1034    107.081     -2.270      0.023      -452.983   -33.224\n",
      "C(df.bairro_g)[T.Complexo do Alemao]        -229.7244    105.329     -2.181      0.029      -436.170   -23.279\n",
      "C(df.bairro_g)[T.Copacabana]                 204.7323     33.836      6.051      0.000       138.413   271.051\n",
      "C(df.bairro_g)[T.Cordovil]                  -303.2765     87.788     -3.455      0.001      -475.343  -131.210\n",
      "C(df.bairro_g)[T.Cosme Velho]                 93.0567     55.108      1.689      0.091       -14.956   201.070\n",
      "C(df.bairro_g)[T.Cosmos]                     373.0842     82.904      4.500      0.000       210.591   535.577\n",
      "C(df.bairro_g)[T.Costa Barros]               127.1711    107.433      1.184      0.237       -83.399   337.741\n",
      "C(df.bairro_g)[T.Curicica]                   326.5064     58.155      5.614      0.000       212.522   440.491\n",
      "C(df.bairro_g)[T.Del Castilho]                39.6842     59.632      0.665      0.506       -77.196   156.564\n",
      "C(df.bairro_g)[T.Deodoro]                    -48.0803    262.808     -0.183      0.855      -563.186   467.025\n",
      "C(df.bairro_g)[T.Encantado]                  178.1435     73.965      2.408      0.016        33.172   323.115\n",
      "C(df.bairro_g)[T.Engenho Novo]               197.4781     63.527      3.109      0.002        72.964   321.992\n",
      "C(df.bairro_g)[T.Engenho da Rainha]          -47.7125     83.677     -0.570      0.569      -211.721   116.296\n",
      "C(df.bairro_g)[T.Engenho de Dentro]          128.2392     54.505      2.353      0.019        21.410   235.069\n",
      "C(df.bairro_g)[T.Estacio]                    387.3118     65.880      5.879      0.000       258.187   516.437\n",
      "C(df.bairro_g)[T.Flamengo]                   162.0117     48.406      3.347      0.001        67.135   256.888\n",
      "C(df.bairro_g)[T.Freguesia _Ilha_]          -759.5171     99.761     -7.613      0.000      -955.050  -563.985\n",
      "C(df.bairro_g)[T.Freguesia _Jacarepagua_]     54.0833     36.198      1.494      0.135       -16.865   125.032\n",
      "C(df.bairro_g)[T.Galeao]                    -383.3712     92.878     -4.128      0.000      -565.413  -201.330\n",
      "C(df.bairro_g)[T.Gamboa]                    -279.1197    124.581     -2.240      0.025      -523.300   -34.940\n",
      "C(df.bairro_g)[T.Gardenia Azul]              287.9937     68.151      4.226      0.000       154.418   421.570\n",
      "C(df.bairro_g)[T.Gavea]                      493.3002     33.258     14.833      0.000       428.115   558.485\n",
      "C(df.bairro_g)[T.Gloria]                     373.2403     68.509      5.448      0.000       238.963   507.518\n",
      "C(df.bairro_g)[T.Grajau]                      80.9097     58.109      1.392      0.164       -32.985   194.805\n",
      "C(df.bairro_g)[T.Guadalupe]                  -86.6760    132.811     -0.653      0.514      -346.987   173.635\n",
      "C(df.bairro_g)[T.Guaratiba]                   29.0430     66.385      0.437      0.662      -101.072   159.158\n",
      "C(df.bairro_g)[T.Higienopolis]                71.8782     81.786      0.879      0.379       -88.422   232.179\n",
      "C(df.bairro_g)[T.Honorio Gurgel]            -214.4542    157.335     -1.363      0.173      -522.832    93.923\n",
      "C(df.bairro_g)[T.Humaita]                    358.4397     55.921      6.410      0.000       248.833   468.046\n",
      "C(df.bairro_g)[T.Inhauma]                     32.1829     78.242      0.411      0.681      -121.172   185.538\n",
      "C(df.bairro_g)[T.Inhoaiba]                   172.6608     82.185      2.101      0.036        11.577   333.745\n",
      "C(df.bairro_g)[T.Ipanema]                    491.4555     36.254     13.556      0.000       420.396   562.515\n",
      "C(df.bairro_g)[T.Iraja]                     -191.7231     73.079     -2.623      0.009      -334.959   -48.487\n",
      "C(df.bairro_g)[T.Itanhanga]                  -70.0965     63.468     -1.104      0.269      -194.494    54.301\n",
      "C(df.bairro_g)[T.Jacare]                      83.9540    103.954      0.808      0.419      -119.797   287.705\n",
      "C(df.bairro_g)[T.Jacarepagua]                152.5635     41.990      3.633      0.000        70.263   234.864\n",
      "C(df.bairro_g)[T.Jacarezinho]                117.4489    183.149      0.641      0.521      -241.524   476.422\n",
      "C(df.bairro_g)[T.Jardim America]            -264.3394    117.509     -2.250      0.024      -494.658   -34.021\n",
      "C(df.bairro_g)[T.Jardim Botanico]            438.1150     32.918     13.309      0.000       373.595   502.635\n",
      "C(df.bairro_g)[T.Jardim Carioca]            -638.0256     81.569     -7.822      0.000      -797.901  -478.150\n",
      "C(df.bairro_g)[T.Jardim Guanabara]          -860.0981     66.419    -12.950      0.000      -990.280  -729.916\n",
      "C(df.bairro_g)[T.Jardim Sulacap]             180.3566     75.413      2.392      0.017        32.547   328.167\n",
      "C(df.bairro_g)[T.Joa]                       -691.7091    220.125     -3.142      0.002     -1123.155  -260.263\n",
      "C(df.bairro_g)[T.Lagoa]                       24.9534     54.148      0.461      0.645       -81.177   131.084\n",
      "C(df.bairro_g)[T.Lapa]                      -146.9350     73.589     -1.997      0.046      -291.171    -2.699\n",
      "C(df.bairro_g)[T.Laranjeiras]                112.9124     52.281      2.160      0.031        10.441   215.384\n",
      "C(df.bairro_g)[T.Leblon]                     579.5649     38.715     14.970      0.000       503.683   655.447\n",
      "C(df.bairro_g)[T.Leme]                       310.3399     33.610      9.234      0.000       244.464   376.215\n",
      "C(df.bairro_g)[T.Lins de Vasconcelos]        149.2018     58.865      2.535      0.011        33.825   264.578\n",
      "C(df.bairro_g)[T.Madureira]                  -57.9241     61.800     -0.937      0.349      -179.053    63.204\n",
      "C(df.bairro_g)[T.Magalhaes Bastos]          -101.1352    171.039     -0.591      0.554      -436.374   234.103\n",
      "C(df.bairro_g)[T.Mangueira]                   45.0792    361.313      0.125      0.901      -663.097   753.256\n",
      "C(df.bairro_g)[T.Manguinhos]                 298.5270    209.461      1.425      0.154      -112.019   709.073\n",
      "C(df.bairro_g)[T.Maracana]                    86.0337     60.702      1.417      0.156       -32.942   205.009\n",
      "C(df.bairro_g)[T.Mare]                      -134.4524    162.143     -0.829      0.407      -452.254   183.349\n",
      "C(df.bairro_g)[T.Marechal Hermes]            -71.6714     94.643     -0.757      0.449      -257.173   113.830\n",
      "C(df.bairro_g)[T.Maria da Graca]              58.6339     81.407      0.720      0.471      -100.925   218.193\n",
      "C(df.bairro_g)[T.Meier]                       17.1750     64.841      0.265      0.791      -109.913   144.263\n",
      "C(df.bairro_g)[T.Monero]                    -772.9262     92.619     -8.345      0.000      -954.459  -591.393\n",
      "C(df.bairro_g)[T.Olaria]                    -226.3918     61.754     -3.666      0.000      -347.429  -105.354\n",
      "C(df.bairro_g)[T.Osvaldo Cruz]                42.4465    100.199      0.424      0.672      -153.945   238.838\n",
      "C(df.bairro_g)[T.Paciencia]                  368.8391    117.694      3.134      0.002       138.159   599.520\n",
      "C(df.bairro_g)[T.Padre Miguel]               226.8527    149.826      1.514      0.130       -66.808   520.513\n",
      "C(df.bairro_g)[T.Parada de Lucas]           -254.2594    143.804     -1.768      0.077      -536.116    27.597\n",
      "C(df.bairro_g)[T.Parque Anchieta]           -176.0052    371.292     -0.474      0.635      -903.741   551.731\n",
      "C(df.bairro_g)[T.Pavuna]                    -284.5617     94.084     -3.025      0.002      -468.968  -100.156\n",
      "C(df.bairro_g)[T.Pechincha]                  155.8618     44.458      3.506      0.000        68.724   243.000\n",
      "C(df.bairro_g)[T.Pedra de Guaratiba]        -294.4914    359.863     -0.818      0.413      -999.825   410.842\n",
      "C(df.bairro_g)[T.Penha]                     -298.2074     61.938     -4.815      0.000      -419.606  -176.809\n",
      "C(df.bairro_g)[T.Penha Circular]            -157.1688     64.685     -2.430      0.015      -283.952   -30.386\n",
      "C(df.bairro_g)[T.Piedade]                    159.2177     64.646      2.463      0.014        32.511   285.924\n",
      "C(df.bairro_g)[T.Pilares]                     60.3068     80.128      0.753      0.452       -96.745   217.359\n",
      "C(df.bairro_g)[T.Pitangueiras]              -492.3742     90.545     -5.438      0.000      -669.843  -314.905\n",
      "C(df.bairro_g)[T.Portuguesa]                -484.5727     80.124     -6.048      0.000      -641.617  -327.529\n",
      "C(df.bairro_g)[T.Praca Seca]                  38.4776     59.951      0.642      0.521       -79.027   155.982\n",
      "C(df.bairro_g)[T.Praca da Bandeira]          178.6927     65.100      2.745      0.006        51.095   306.290\n",
      "C(df.bairro_g)[T.Praia da Bandeira]         -535.7544    101.505     -5.278      0.000      -734.706  -336.803\n",
      "C(df.bairro_g)[T.Quintino Bocaiuva]           57.0285     65.350      0.873      0.383       -71.058   185.115\n",
      "C(df.bairro_g)[T.Ramos]                     -163.9536     65.519     -2.502      0.012      -292.372   -35.536\n",
      "C(df.bairro_g)[T.Realengo]                   203.8832     83.458      2.443      0.015        40.305   367.461\n",
      "C(df.bairro_g)[T.Recreio dos Bandeirantes]  -426.8497     33.705    -12.664      0.000      -492.912  -360.787\n",
      "C(df.bairro_g)[T.Riachuelo]                  183.1435     75.968      2.411      0.016        34.245   332.042\n",
      "C(df.bairro_g)[T.Ribeira]                   -525.3362     89.723     -5.855      0.000      -701.193  -349.479\n",
      "C(df.bairro_g)[T.Ricardo de Albuquerque]     123.6001    369.139      0.335      0.738      -599.914   847.115\n",
      "C(df.bairro_g)[T.Rio Comprido]               143.2918     60.452      2.370      0.018        24.806   261.778\n",
      "C(df.bairro_g)[T.Rocha]                      199.6464     82.564      2.418      0.016        37.819   361.473\n",
      "C(df.bairro_g)[T.Rocha Miranda]              -98.9388    100.002     -0.989      0.322      -294.943    97.065\n",
      "C(df.bairro_g)[T.Rocinha]                    617.0034    109.283      5.646      0.000       402.808   831.198\n",
      "C(df.bairro_g)[T.Sampaio]                    213.7790     74.940      2.853      0.004        66.896   360.662\n",
      "C(df.bairro_g)[T.Santa Cruz]                  54.1506    103.574      0.523      0.601      -148.855   257.156\n",
      "C(df.bairro_g)[T.Santa Teresa]              -200.7596     72.908     -2.754      0.006      -343.660   -57.859\n",
      "C(df.bairro_g)[T.Santissimo]                 421.7075    154.506      2.729      0.006       118.875   724.540\n",
      "C(df.bairro_g)[T.Santo Cristo]               -24.1817     75.148     -0.322      0.748      -171.473   123.110\n",
      "C(df.bairro_g)[T.Sao Conrado]               -433.6107     49.720     -8.721      0.000      -531.062  -336.159\n",
      "C(df.bairro_g)[T.Sao Cristovao]              337.6542     52.315      6.454      0.000       235.117   440.192\n",
      "C(df.bairro_g)[T.Sao Francisco Xavier]       326.8076     75.134      4.350      0.000       179.545   474.071\n",
      "C(df.bairro_g)[T.Senador Camara]             281.3442    112.808      2.494      0.013        60.239   502.449\n",
      "C(df.bairro_g)[T.Senador Vasconcelos]        317.3211    144.727      2.193      0.028        33.655   600.987\n",
      "C(df.bairro_g)[T.Sepetiba]                   284.5268    261.111      1.090      0.276      -227.253   796.307\n",
      "C(df.bairro_g)[T.Tanque]                     292.9234     46.367      6.318      0.000       202.044   383.802\n",
      "C(df.bairro_g)[T.Taquara]                    281.3044     39.448      7.131      0.000       203.987   358.622\n",
      "C(df.bairro_g)[T.Taua]                      -656.4397     86.393     -7.598      0.000      -825.772  -487.108\n",
      "C(df.bairro_g)[T.Tijuca]                     -12.5540     37.003     -0.339      0.734       -85.081    59.973\n",
      "C(df.bairro_g)[T.Todos os Santos]             -3.4013     66.814     -0.051      0.959      -134.358   127.555\n",
      "C(df.bairro_g)[T.Tomas Coelho]                22.2411     84.191      0.264      0.792      -142.774   187.257\n",
      "C(df.bairro_g)[T.Turiacu]                    -87.4566     85.076     -1.028      0.304      -254.206    79.293\n",
      "C(df.bairro_g)[T.Urca]                       397.7200     62.471      6.367      0.000       275.277   520.163\n",
      "C(df.bairro_g)[T.Vargem Grande]              170.2805     57.547      2.959      0.003        57.488   283.073\n",
      "C(df.bairro_g)[T.Vargem Pequena]              60.5244     51.470      1.176      0.240       -40.357   161.406\n",
      "C(df.bairro_g)[T.Vasco da Gama]              172.9013    113.803      1.519      0.129       -50.153   395.955\n",
      "C(df.bairro_g)[T.Vaz Lobo]                   -10.4467    115.603     -0.090      0.928      -237.030   216.137\n",
      "C(df.bairro_g)[T.Vicente de Carvalho]       -190.5456     77.320     -2.464      0.014      -342.093   -38.999\n",
      "C(df.bairro_g)[T.Vidigal]                    157.5215     72.652      2.168      0.030        15.124   299.919\n",
      "C(df.bairro_g)[T.Vigario Geral]             -150.1979    111.884     -1.342      0.179      -369.492    69.096\n",
      "C(df.bairro_g)[T.Vila Isabel]                254.0600     54.430      4.668      0.000       147.377   360.743\n",
      "C(df.bairro_g)[T.Vila Kosmos]               -283.9268     87.539     -3.243      0.001      -455.505  -112.349\n",
      "C(df.bairro_g)[T.Vila Militar]                52.1913    364.344      0.143      0.886      -661.926   766.308\n",
      "C(df.bairro_g)[T.Vila Valqueire]            -118.9147     63.974     -1.859      0.063      -244.304     6.474\n",
      "C(df.bairro_g)[T.Vila da Penha]             -371.6812     77.405     -4.802      0.000      -523.396  -219.967\n",
      "C(df.bairro_g)[T.Vista Alegre]              -346.2073     96.287     -3.596      0.000      -534.931  -157.484\n",
      "C(df.bairro_g)[T.Zumbi]                     -383.7991    116.578     -3.292      0.001      -612.293  -155.305\n",
      "df.dm_esquina                                 -6.2839      5.946     -1.057      0.291       -17.937     5.369\n",
      "df.dm_closet                                 -17.7676      5.539     -3.208      0.001       -28.624    -6.911\n",
      "df.dist_saude_privada                         40.0428      7.903      5.067      0.000        24.552    55.533\n",
      "df.dm_armario                                -12.8432      3.743     -3.431      0.001       -20.179    -5.507\n",
      "df.se_anos_estudo                            -55.8023     16.912     -3.299      0.001       -88.951   -22.654\n",
      "df.dm_recuado                                -75.7584     12.826     -5.907      0.000      -100.897   -50.620\n",
      "df.dm_fundos                                 145.3891     16.248      8.948      0.000       113.543   177.235\n",
      "df.dm_andar_alto                             111.0405     48.484      2.290      0.022        16.011   206.070\n",
      "df.dm_mezanino                                33.7232      6.908      4.882      0.000        20.184    47.263\n",
      "df.dm_piscina                                 15.4881      4.862      3.186      0.001         5.959    25.017\n",
      "df.dm_playground                              68.7425     37.072      1.854      0.064        -3.918   141.403\n",
      "df.dist_centro_lng                           -34.3494      8.247     -4.165      0.000       -50.515   -18.184\n",
      "df.dm_hidrometro                              63.6789      7.307      8.715      0.000        49.357    78.000\n",
      "df.dm_seguranca                               -0.7993      6.171     -0.130      0.897       -12.894    11.295\n",
      "df.dist_trem                                 -23.8889      6.030     -3.962      0.000       -35.708   -12.070\n",
      "df.dist_lagoa                                  8.2716      3.727      2.219      0.026         0.967    15.577\n",
      "df.dm_sol_da_manha                           -17.5392     17.271     -1.016      0.310       -51.391    16.312\n",
      "df.area                                        7.4160      0.054    137.603      0.000         7.310     7.522\n",
      "df.dm_frente                                  19.8791      6.493      3.062      0.002         7.152    32.606\n",
      "df.dist_delegacia                            -33.2165      2.727    -12.179      0.000       -38.562   -27.871\n",
      "df.dist_centro_lat                            30.5490      5.391      5.666      0.000        19.982    41.116\n",
      "df.dm_blindex                                  5.4672      9.793      0.558      0.577       -13.727    24.661\n",
      "df.dist_favela                                27.5714      4.591      6.006      0.000        18.573    36.569\n",
      "df.dist_logradouro                            27.6973      6.259      4.425      0.000        15.430    39.965\n",
      "df.dm_terraco                               -139.3950     13.201    -10.559      0.000      -165.270  -113.520\n",
      "df.dm_salao_de_jogos                         -45.6209     10.849     -4.205      0.000       -66.885   -24.357\n",
      "df.se_idh                                    136.7639     52.093      2.625      0.009        34.661   238.867\n",
      "df.dist_centro                                40.8309      8.392      4.866      0.000        24.383    57.278\n",
      "df.dm_sala_de_jantar                          99.7281     31.278      3.188      0.001        38.423   161.033\n",
      "df.dm_dependencia                            -25.6344      7.875     -3.255      0.001       -41.069   -10.200\n",
      "df.se_crm_violento                             0.0599      0.069      0.863      0.388        -0.076     0.196\n",
      "df.dm_estacionamento_visitantes              -34.0300     11.173     -3.046      0.002       -55.929   -12.131\n",
      "df.dm_banheira                                23.0822      5.278      4.373      0.000        12.736    33.428\n",
      "df.dist_saude_publica                         38.7273      4.493      8.620      0.000        29.921    47.533\n",
      "df.dist_bombeiro                              13.9138      2.797      4.974      0.000         8.431    19.397\n",
      "df.dm_jardim                                 -15.4187      8.129     -1.897      0.058       -31.352     0.515\n",
      "df.garagem                                    89.7646      2.894     31.017      0.000        84.092    95.437\n",
      "df.dist_praia                                -30.3218      4.253     -7.130      0.000       -38.657   -21.986\n",
      "df.dm_duplex                                 -34.8395     14.761     -2.360      0.018       -63.770    -5.909\n",
      "df.dm_andar_inteiro                           -2.7146      7.281     -0.373      0.709       -16.985    11.555\n",
      "df.dm_sol_da_tarde                           -60.8356     53.639     -1.134      0.257      -165.968    44.297\n",
      "df.condominio                                147.1459      4.809     30.598      0.000       137.720   156.571\n",
      "df.dm_varanda                                -53.8763      5.604     -9.614      0.000       -64.860   -42.893\n",
      "df.dm_triplex                                -12.7696     36.361     -0.351      0.725       -84.037    58.498\n",
      "df.dm_children_care                          -11.3742      8.976     -1.267      0.205       -28.967     6.218\n",
      "df.dm_quarto_de_empregada                     52.7198      7.007      7.524      0.000        38.985    66.454\n",
      "df.se_renda                                    0.2329      0.026      9.067      0.000         0.183     0.283\n",
      "df.dm_andar_baixo                             -7.9636      6.641     -1.199      0.230       -20.980     5.052\n",
      "df.dm_lateral_                               -34.9231     10.493     -3.328      0.001       -55.490   -14.356\n",
      "df.dm_portaria                                 0.6635      5.488      0.121      0.904       -10.092    11.419\n",
      "df.dm_indevassavel                           -20.1017      8.533     -2.356      0.018       -36.827    -3.376\n",
      "df.dm_cobertura                               20.8610     42.325      0.493      0.622       -62.097   103.819\n",
      "df.dm_copa                                    46.2720     20.266      2.283      0.022         6.550    85.994\n",
      "df.se_perc_alfabetizacao                     -11.4635      1.671     -6.859      0.000       -14.739    -8.188\n",
      "df.dm_quadra                                  15.4406      5.633      2.741      0.006         4.399    26.482\n",
      "df.dm_elevador_privativo                      26.9062      8.128      3.310      0.001        10.976    42.836\n",
      "df.dm_sauna                                  -27.8619     10.386     -2.683      0.007       -48.218    -7.506\n",
      "df.dm_salao_de_festas                          8.3962      6.515      1.289      0.198        -4.374    21.166\n",
      "df.se_saneamento                             300.6854     96.234      3.125      0.002       112.065   489.306\n",
      "df.se_crm_roubo                                0.1393      0.031      4.501      0.000         0.079     0.200\n",
      "df.dist_metro                                  9.8315      4.900      2.007      0.045         0.228    19.435\n",
      "df.dm_churrasqueira                           25.0514      4.101      6.109      0.000        17.014    33.089\n",
      "df.dm_linear                                  38.9229     33.504      1.162      0.245       -26.745   104.591\n",
      "==============================================================================\n",
      "Omnibus:                    33306.649   Durbin-Watson:                   1.996\n",
      "Prob(Omnibus):                  0.000   Jarque-Bera (JB):           959919.902\n",
      "Skew:                           2.517   Prob(JB):                         0.00\n",
      "Kurtosis:                      23.115   Cond. No.                     1.93e+17\n",
      "==============================================================================\n",
      "\n",
      "Warnings:\n",
      "[1] Standard Errors assume that the covariance matrix of the errors is correctly specified.\n",
      "[2] The smallest eigenvalue is 2.72e-23. This might indicate that there are\n",
      "strong multicollinearity problems or that the design matrix is singular.\n"
     ]
    }
   ],
   "source": [
    "lm = sm.formula.ols(f, df).fit()\n",
    "rmse['default'] = z.rmse(lm.resid)\n",
    "print(lm.summary())\n"
   ]
  },
  {
   "cell_type": "code",
   "execution_count": 27,
   "metadata": {
    "collapsed": false
   },
   "outputs": [
    {
     "name": "stdout",
     "output_type": "stream",
     "text": [
      "Coluna               | Autocorrelacionada com                            \n",
      "se_anos_estudo       : ['se_idh(0.95)', 'se_renda(0.87)', 'se_perc_alfabetizacao(0.89)']\n",
      "dm_frente            : ['dm_varanda(0.70)', 'dm_salao_de_festas(0.73)']  \n",
      "dist_delegacia       : ['dist_centro(0.82)', 'dist_metro(0.87)']         \n",
      "dist_centro_lng      : ['dist_delegacia(0.79)', 'dist_centro(0.97)', 'se_saneamento(-0.80)', 'dist_metro(0.92)']\n",
      "preco                : ['area(0.71)', 'm2(0.71)']                        \n",
      "se_saneamento        : ['dist_metro(-0.79)']                             \n",
      "se_idh               : ['se_renda(0.77)', 'se_perc_alfabetizacao(0.89)'] \n",
      "dist_centro          : ['se_saneamento(-0.79)', 'dist_metro(0.96)']      \n",
      "dist_trem            : ['dist_delegacia(0.74)', 'dist_centro_lat(0.91)', 'dist_centro(0.71)', 'dist_metro(0.79)']\n"
     ]
    }
   ],
   "source": [
    "z.print_autocorr(df,cols_excluded=var_ignore)"
   ]
  },
  {
   "cell_type": "code",
   "execution_count": 39,
   "metadata": {
    "collapsed": false
   },
   "outputs": [
    {
     "name": "stdout",
     "output_type": "stream",
     "text": [
      "Não há colunas autocorrelacionadas.\n"
     ]
    }
   ],
   "source": [
    "var_ignore +=  ['id_bairro_g','se_anos_estudo','dm_frente',\n",
    "    'dist_delegacia', 'dist_centro_lng','se_saneamento','se_idh',\n",
    "    'dist_metro','preco','dist_centro_lat', 'dist_trem']\n",
    "z.print_autocorr(df, var_ignore)"
   ]
  },
  {
   "cell_type": "code",
   "execution_count": 40,
   "metadata": {
    "collapsed": false
   },
   "outputs": [
    {
     "name": "stdout",
     "output_type": "stream",
     "text": [
      "Variáveis excluídas: se_anos_estudo,preco,lat,lng,dist_centro_lat,dist_trem,dm_frente,dist_delegacia,dist_centro_lng,m2,id_bairro_g,se_saneamento,se_idh,dist_metro\n",
      "\n",
      "\n",
      "Fórmula: df.preco  ~ df.dm_esquina + C(df.quartos) + df.dm_closet + df.dist_saude_privada + df.dm_armario + df.se_crm_violento + df.dm_recuado + df.dm_fundos + df.dm_andar_alto + df.dm_mezanino + df.dm_piscina + df.dm_playground + df.dm_hidrometro + df.dm_seguranca + df.dist_lagoa + C(df.suites) + df.dm_sol_da_manha + df.area + df.dm_andar_inteiro + df.dm_linear + df.dm_blindex + df.dist_favela + df.dist_logradouro + df.dm_terraco + df.dm_salao_de_jogos + C(df.bairro_g) + df.dist_centro + df.dm_sala_de_jantar + df.dm_dependencia + df.dm_estacionamento_visitantes + df.dm_banheira + df.dist_saude_publica + df.dist_bombeiro + df.dm_jardim + C(df.garagem) + df.dist_praia + df.dm_duplex + df.dm_sol_da_tarde + df.condominio + df.dm_varanda + df.dm_triplex + df.dm_children_care + df.dm_quarto_de_empregada + df.se_renda + df.dm_andar_baixo + df.dm_lateral_ + df.dm_portaria + df.dm_indevassavel + df.dm_cobertura + df.dm_copa + df.se_perc_alfabetizacao + df.dm_quadra + df.dm_elevador_privativo + df.dm_sauna + df.dm_salao_de_festas + df.se_crm_roubo + df.dm_churrasqueira\n"
     ]
    }
   ],
   "source": [
    "f,_,e = z.prep_formula(df,'df', cat=['bairro_g','suites','quartos','garagem'],ignore=var_ignore)\n",
    "print('Variáveis excluídas: ' + ','.join(e))\n",
    "print( '\\n')\n",
    "print('Fórmula: '+ f)"
   ]
  },
  {
   "cell_type": "code",
   "execution_count": 41,
   "metadata": {
    "collapsed": false,
    "scrolled": false
   },
   "outputs": [
    {
     "name": "stdout",
     "output_type": "stream",
     "text": [
      "                            OLS Regression Results                            \n",
      "==============================================================================\n",
      "Dep. Variable:               df.preco   R-squared:                       0.807\n",
      "Model:                            OLS   Adj. R-squared:                  0.806\n",
      "Method:                 Least Squares   F-statistic:                     1041.\n",
      "Date:                Sat, 04 Apr 2015   Prob (F-statistic):               0.00\n",
      "Time:                        16:39:30   Log-Likelihood:            -3.9259e+05\n",
      "No. Observations:               53581   AIC:                         7.856e+05\n",
      "Df Residuals:                   53366   BIC:                         7.875e+05\n",
      "Df Model:                         214                                         \n",
      "Covariance Type:            nonrobust                                         \n",
      "==============================================================================================================\n",
      "                                                 coef    std err          t      P>|t|      [95.0% Conf. Int.]\n",
      "--------------------------------------------------------------------------------------------------------------\n",
      "Intercept                                    347.8608    103.655      3.356      0.001       144.696   551.025\n",
      "C(df.quartos)[T.2]                            46.2622      6.590      7.020      0.000        33.345    59.179\n",
      "C(df.quartos)[T.3]                            52.4971      7.348      7.144      0.000        38.094    66.900\n",
      "C(df.quartos)[T.4]                           152.6818     10.143     15.053      0.000       132.802   172.562\n",
      "C(df.suites)[T.1.0]                           79.5641      4.234     18.790      0.000        71.265    87.864\n",
      "C(df.suites)[T.2.0]                           88.8231      7.382     12.032      0.000        74.353   103.293\n",
      "C(df.suites)[T.3.0]                          167.9277     11.282     14.885      0.000       145.816   190.040\n",
      "C(df.suites)[T.4.0]                          348.2569     18.045     19.299      0.000       312.889   383.625\n",
      "C(df.bairro_g)[T.Acari]                      287.8632    370.593      0.777      0.437      -438.502  1014.228\n",
      "C(df.bairro_g)[T.Agua Santa]                 195.3469     76.231      2.563      0.010        45.934   344.760\n",
      "C(df.bairro_g)[T.Alto da Boa Vista]          -97.6326     57.519     -1.697      0.090      -210.369    15.104\n",
      "C(df.bairro_g)[T.Anchieta]                   926.5324    225.255      4.113      0.000       485.031  1368.033\n",
      "C(df.bairro_g)[T.Andarai]                     62.9345     41.670      1.510      0.131       -18.739   144.608\n",
      "C(df.bairro_g)[T.Anil]                       -18.0712     38.345     -0.471      0.637       -93.228    57.086\n",
      "C(df.bairro_g)[T.Bancarios]                 -557.0468     85.889     -6.486      0.000      -725.389  -388.704\n",
      "C(df.bairro_g)[T.Bangu]                      788.7561    102.746      7.677      0.000       587.373   990.139\n",
      "C(df.bairro_g)[T.Barra da Tijuca]           -340.9758     37.270     -9.149      0.000      -414.025  -267.926\n",
      "C(df.bairro_g)[T.Barra de Guaratiba]        -416.1339    268.665     -1.549      0.121      -942.719   110.452\n",
      "C(df.bairro_g)[T.Barros Filho]               432.9633    147.204      2.941      0.003       144.443   721.484\n",
      "C(df.bairro_g)[T.Benfica]                      4.6369    104.844      0.044      0.965      -200.857   210.131\n",
      "C(df.bairro_g)[T.Bento Ribeiro]              334.2351     83.650      3.996      0.000       170.280   498.191\n",
      "C(df.bairro_g)[T.Bonsucesso]                -230.0721     60.813     -3.783      0.000      -349.265  -110.879\n",
      "C(df.bairro_g)[T.Botafogo]                   134.5714     44.248      3.041      0.002        47.845   221.298\n",
      "C(df.bairro_g)[T.Bras de Pina]              -155.2634     67.620     -2.296      0.022      -287.800   -22.727\n",
      "C(df.bairro_g)[T.Cachambi]                   -63.8724     53.131     -1.202      0.229      -168.009    40.264\n",
      "C(df.bairro_g)[T.Cacuia]                    -497.0253     78.111     -6.363      0.000      -650.124  -343.927\n",
      "C(df.bairro_g)[T.Caju]                        99.1832    170.144      0.583      0.560      -234.300   432.667\n",
      "C(df.bairro_g)[T.Camorim]                    -23.4112     52.234     -0.448      0.654      -125.790    78.967\n",
      "C(df.bairro_g)[T.Campinho]                   312.4264     85.829      3.640      0.000       144.200   480.653\n",
      "C(df.bairro_g)[T.Campo Grande]               632.9344     44.012     14.381      0.000       546.670   719.199\n",
      "C(df.bairro_g)[T.Campo dos Afonsos]          235.1167    145.387      1.617      0.106       -49.843   520.076\n",
      "C(df.bairro_g)[T.Cascadura]                  186.9643     70.800      2.641      0.008        48.196   325.732\n",
      "C(df.bairro_g)[T.Catete]                      48.0914     52.857      0.910      0.363       -55.509   151.691\n",
      "C(df.bairro_g)[T.Catumbi]                   -121.8600     88.643     -1.375      0.169      -295.602    51.882\n",
      "C(df.bairro_g)[T.Cavalcanti]                  65.4631    141.718      0.462      0.644      -212.305   343.232\n",
      "C(df.bairro_g)[T.Centro]                    -568.0241    117.989     -4.814      0.000      -799.283  -336.766\n",
      "C(df.bairro_g)[T.Cidade Nova]                 41.3966     49.491      0.836      0.403       -55.606   138.399\n",
      "C(df.bairro_g)[T.Cidade Universitaria]      -455.2851    167.788     -2.713      0.007      -784.151  -126.419\n",
      "C(df.bairro_g)[T.Cidade de Deus]             152.6619     61.495      2.483      0.013        32.131   273.193\n",
      "C(df.bairro_g)[T.Cocota]                    -632.9955     85.418     -7.411      0.000      -800.416  -465.575\n",
      "C(df.bairro_g)[T.Coelho Neto]                259.3595    130.060      1.994      0.046         4.440   514.279\n",
      "C(df.bairro_g)[T.Colegio]                   -199.3829     90.394     -2.206      0.027      -376.555   -22.211\n",
      "C(df.bairro_g)[T.Complexo do Alemao]        -295.3754    112.058     -2.636      0.008      -515.009   -75.742\n",
      "C(df.bairro_g)[T.Copacabana]                 140.3907     22.684      6.189      0.000        95.929   184.852\n",
      "C(df.bairro_g)[T.Cordovil]                  -119.2934     89.289     -1.336      0.182      -294.301    55.714\n",
      "C(df.bairro_g)[T.Cosme Velho]                 42.9047     56.330      0.762      0.446       -67.503   153.313\n",
      "C(df.bairro_g)[T.Cosmos]                     968.9148     71.393     13.572      0.000       828.984  1108.846\n",
      "C(df.bairro_g)[T.Costa Barros]               767.5309    115.165      6.665      0.000       541.806   993.255\n",
      "C(df.bairro_g)[T.Curicica]                   176.6533     56.682      3.117      0.002        65.556   287.750\n",
      "C(df.bairro_g)[T.Del Castilho]               -52.2483     63.150     -0.827      0.408      -176.023    71.526\n",
      "C(df.bairro_g)[T.Deodoro]                    360.9394    264.974      1.362      0.173      -158.412   880.291\n",
      "C(df.bairro_g)[T.Encantado]                  132.0328     69.790      1.892      0.059        -4.756   268.822\n",
      "C(df.bairro_g)[T.Engenho Novo]                95.6540     56.244      1.701      0.089       -14.585   205.893\n",
      "C(df.bairro_g)[T.Engenho da Rainha]          -44.2875     86.527     -0.512      0.609      -213.881   125.306\n",
      "C(df.bairro_g)[T.Engenho de Dentro]           79.2953     54.361      1.459      0.145       -27.253   185.844\n",
      "C(df.bairro_g)[T.Estacio]                    123.2222     66.462      1.854      0.064        -7.043   253.488\n",
      "C(df.bairro_g)[T.Flamengo]                   -18.3179     43.110     -0.425      0.671      -102.813    66.177\n",
      "C(df.bairro_g)[T.Freguesia _Ilha_]          -646.6129     59.491    -10.869      0.000      -763.216  -530.010\n",
      "C(df.bairro_g)[T.Freguesia _Jacarepagua_]    -74.0742     28.395     -2.609      0.009      -129.729   -18.419\n",
      "C(df.bairro_g)[T.Galeao]                    -398.9748     89.941     -4.436      0.000      -575.259  -222.690\n",
      "C(df.bairro_g)[T.Gamboa]                    -136.8350    118.164     -1.158      0.247      -368.438    94.768\n",
      "C(df.bairro_g)[T.Gardenia Azul]              218.2789     66.450      3.285      0.001        88.036   348.522\n",
      "C(df.bairro_g)[T.Gavea]                      584.0168     31.633     18.462      0.000       522.017   646.017\n",
      "C(df.bairro_g)[T.Gloria]                       1.5071     58.456      0.026      0.979      -113.067   116.081\n",
      "C(df.bairro_g)[T.Grajau]                     -49.9365     39.122     -1.276      0.202      -126.617    26.744\n",
      "C(df.bairro_g)[T.Guadalupe]                  423.1028    136.605      3.097      0.002       155.356   690.849\n",
      "C(df.bairro_g)[T.Guaratiba]                  397.2366     58.334      6.810      0.000       282.902   511.571\n",
      "C(df.bairro_g)[T.Higienopolis]              -134.5838     74.175     -1.814      0.070      -279.967    10.800\n",
      "C(df.bairro_g)[T.Honorio Gurgel]             230.8842    160.636      1.437      0.151       -83.963   545.731\n",
      "C(df.bairro_g)[T.Humaita]                    346.6062     45.948      7.543      0.000       256.547   436.665\n",
      "C(df.bairro_g)[T.Inhauma]                    -17.9143     84.873     -0.211      0.833      -184.266   148.437\n",
      "C(df.bairro_g)[T.Inhoaiba]                   791.4939     66.647     11.876      0.000       660.866   922.122\n",
      "C(df.bairro_g)[T.Ipanema]                    762.2999     28.372     26.868      0.000       706.690   817.909\n",
      "C(df.bairro_g)[T.Iraja]                       64.5800     75.802      0.852      0.394       -83.992   213.152\n",
      "C(df.bairro_g)[T.Itanhanga]                  -35.3997     59.418     -0.596      0.551      -151.860    81.061\n",
      "C(df.bairro_g)[T.Jacare]                     -84.9670    103.852     -0.818      0.413      -288.518   118.584\n",
      "C(df.bairro_g)[T.Jacarepagua]                 81.6370     36.623      2.229      0.026         9.856   153.418\n",
      "C(df.bairro_g)[T.Jacarezinho]                 37.5842    191.537      0.196      0.844      -337.829   412.998\n",
      "C(df.bairro_g)[T.Jardim America]             -10.7842    115.100     -0.094      0.925      -236.381   214.812\n",
      "C(df.bairro_g)[T.Jardim Botanico]            535.8416     33.006     16.235      0.000       471.150   600.533\n",
      "C(df.bairro_g)[T.Jardim Carioca]            -520.0841     64.545     -8.058      0.000      -646.592  -393.576\n",
      "C(df.bairro_g)[T.Jardim Guanabara]          -806.5613     43.996    -18.333      0.000      -892.794  -720.329\n",
      "C(df.bairro_g)[T.Jardim Sulacap]             366.3731     69.638      5.261      0.000       229.882   502.864\n",
      "C(df.bairro_g)[T.Joa]                       -163.6240    232.545     -0.704      0.482      -619.415   292.167\n",
      "C(df.bairro_g)[T.Lagoa]                      368.1285     39.888      9.229      0.000       289.947   446.310\n",
      "C(df.bairro_g)[T.Lapa]                      -120.4178     55.318     -2.177      0.029      -228.841   -11.995\n",
      "C(df.bairro_g)[T.Laranjeiras]                -66.7102     43.307     -1.540      0.123      -151.593    18.172\n",
      "C(df.bairro_g)[T.Leblon]                     872.1489     30.208     28.872      0.000       812.941   931.357\n",
      "C(df.bairro_g)[T.Leme]                       170.9966     27.353      6.251      0.000       117.384   224.609\n",
      "C(df.bairro_g)[T.Lins de Vasconcelos]         61.9935     55.905      1.109      0.267       -47.581   171.568\n",
      "C(df.bairro_g)[T.Madureira]                  204.1931     66.740      3.060      0.002        73.383   335.003\n",
      "C(df.bairro_g)[T.Magalhaes Bastos]           337.0171    172.557      1.953      0.051        -1.196   675.230\n",
      "C(df.bairro_g)[T.Mangueira]                 -113.1819    369.693     -0.306      0.759      -837.783   611.419\n",
      "C(df.bairro_g)[T.Manguinhos]                 128.0991    215.516      0.594      0.552      -294.314   550.512\n",
      "C(df.bairro_g)[T.Maracana]                   -98.8343     40.970     -2.412      0.016      -179.136   -18.532\n",
      "C(df.bairro_g)[T.Mare]                      -271.7474    168.419     -1.614      0.107      -601.849    58.354\n",
      "C(df.bairro_g)[T.Marechal Hermes]            335.3189     99.658      3.365      0.001       139.989   530.649\n",
      "C(df.bairro_g)[T.Maria da Graca]             -82.6776     77.850     -1.062      0.288      -235.265    69.910\n",
      "C(df.bairro_g)[T.Meier]                      -38.5978     50.051     -0.771      0.441      -136.698    59.502\n",
      "C(df.bairro_g)[T.Monero]                    -650.7254     63.366    -10.269      0.000      -774.922  -526.528\n",
      "C(df.bairro_g)[T.Olaria]                    -304.7767     60.757     -5.016      0.000      -423.860  -185.693\n",
      "C(df.bairro_g)[T.Osvaldo Cruz]               324.3581    103.375      3.138      0.002       121.743   526.973\n",
      "C(df.bairro_g)[T.Paciencia]                  988.6351    114.417      8.641      0.000       764.376  1212.894\n",
      "C(df.bairro_g)[T.Padre Miguel]               850.1630    149.442      5.689      0.000       557.255  1143.071\n",
      "C(df.bairro_g)[T.Parada de Lucas]             -0.3117    147.970     -0.002      0.998      -290.335   289.711\n",
      "C(df.bairro_g)[T.Parque Anchieta]            575.1734    374.465      1.536      0.125      -158.782  1309.129\n",
      "C(df.bairro_g)[T.Pavuna]                     356.0871     96.680      3.683      0.000       166.593   545.581\n",
      "C(df.bairro_g)[T.Pechincha]                   48.5021     30.042      1.614      0.106       -10.380   107.384\n",
      "C(df.bairro_g)[T.Pedra de Guaratiba]         -29.2792    361.851     -0.081      0.936      -738.511   679.952\n",
      "C(df.bairro_g)[T.Penha]                     -281.6053     62.014     -4.541      0.000      -403.153  -160.058\n",
      "C(df.bairro_g)[T.Penha Circular]             -44.3690     64.734     -0.685      0.493      -171.248    82.510\n",
      "C(df.bairro_g)[T.Piedade]                    156.5451     64.786      2.416      0.016        29.565   283.525\n",
      "C(df.bairro_g)[T.Pilares]                     50.7721     84.207      0.603      0.547      -114.275   215.819\n",
      "C(df.bairro_g)[T.Pitangueiras]              -501.7046     73.905     -6.789      0.000      -646.558  -356.851\n",
      "C(df.bairro_g)[T.Portuguesa]                -400.2554     57.617     -6.947      0.000      -513.185  -287.326\n",
      "C(df.bairro_g)[T.Praca Seca]                 281.8453     56.794      4.963      0.000       170.528   393.162\n",
      "C(df.bairro_g)[T.Praca da Bandeira]          -43.4883     56.537     -0.769      0.442      -154.301    67.325\n",
      "C(df.bairro_g)[T.Praia da Bandeira]         -572.7584     73.724     -7.769      0.000      -717.259  -428.258\n",
      "C(df.bairro_g)[T.Quintino Bocaiuva]          156.3889     68.455      2.285      0.022        22.217   290.561\n",
      "C(df.bairro_g)[T.Ramos]                     -344.8338     60.952     -5.657      0.000      -464.301  -225.366\n",
      "C(df.bairro_g)[T.Realengo]                   724.1967     84.171      8.604      0.000       559.221   889.172\n",
      "C(df.bairro_g)[T.Recreio dos Bandeirantes]  -293.8646     40.602     -7.238      0.000      -373.445  -214.284\n",
      "C(df.bairro_g)[T.Riachuelo]                    9.4092     63.019      0.149      0.881      -114.109   132.928\n",
      "C(df.bairro_g)[T.Ribeira]                   -723.4582     67.077    -10.786      0.000      -854.929  -591.987\n",
      "C(df.bairro_g)[T.Ricardo de Albuquerque]     785.5796    374.491      2.098      0.036        51.574  1519.585\n",
      "C(df.bairro_g)[T.Rio Comprido]              -136.8698     51.905     -2.637      0.008      -238.604   -35.135\n",
      "C(df.bairro_g)[T.Rocha]                      -28.1502     67.271     -0.418      0.676      -160.003   103.702\n",
      "C(df.bairro_g)[T.Rocha Miranda]              230.5303    103.569      2.226      0.026        27.533   433.527\n",
      "C(df.bairro_g)[T.Rocinha]                    536.1049    111.228      4.820      0.000       318.097   754.113\n",
      "C(df.bairro_g)[T.Sampaio]                     82.6542     78.104      1.058      0.290       -70.430   235.738\n",
      "C(df.bairro_g)[T.Santa Cruz]                 798.8203     85.622      9.330      0.000       631.000   966.640\n",
      "C(df.bairro_g)[T.Santa Teresa]              -132.1789     55.662     -2.375      0.018      -241.277   -23.081\n",
      "C(df.bairro_g)[T.Santissimo]                 966.9288    152.571      6.338      0.000       667.889  1265.968\n",
      "C(df.bairro_g)[T.Santo Cristo]                79.5952     63.266      1.258      0.208       -44.407   203.597\n",
      "C(df.bairro_g)[T.Sao Conrado]               -161.2480     42.421     -3.801      0.000      -244.393   -78.103\n",
      "C(df.bairro_g)[T.Sao Cristovao]              182.1879     53.717      3.392      0.001        76.901   287.474\n",
      "C(df.bairro_g)[T.Sao Francisco Xavier]        67.1395     69.321      0.969      0.333       -68.729   203.009\n",
      "C(df.bairro_g)[T.Senador Camara]             946.1354    112.599      8.403      0.000       725.440  1166.831\n",
      "C(df.bairro_g)[T.Senador Vasconcelos]        763.4421    141.072      5.412      0.000       486.940  1039.944\n",
      "C(df.bairro_g)[T.Sepetiba]                   825.9951    260.299      3.173      0.002       315.806  1336.184\n",
      "C(df.bairro_g)[T.Tanque]                     198.9143     39.556      5.029      0.000       121.385   276.443\n",
      "C(df.bairro_g)[T.Taquara]                    187.9407     32.592      5.766      0.000       124.060   251.821\n",
      "C(df.bairro_g)[T.Taua]                      -499.4196     57.490     -8.687      0.000      -612.100  -386.739\n",
      "C(df.bairro_g)[T.Tijuca]                    -307.0947     33.584     -9.144      0.000      -372.919  -241.270\n",
      "C(df.bairro_g)[T.Todos os Santos]            -82.9642     53.150     -1.561      0.119      -187.139    21.211\n",
      "C(df.bairro_g)[T.Tomas Coelho]                38.3934     87.488      0.439      0.661      -133.085   209.871\n",
      "C(df.bairro_g)[T.Turiacu]                    197.5815     88.934      2.222      0.026        23.269   371.894\n",
      "C(df.bairro_g)[T.Urca]                       268.1810     55.509      4.831      0.000       159.383   376.979\n",
      "C(df.bairro_g)[T.Vargem Grande]              196.4328     51.075      3.846      0.000        96.326   296.540\n",
      "C(df.bairro_g)[T.Vargem Pequena]              44.6142     56.793      0.786      0.432       -66.701   155.930\n",
      "C(df.bairro_g)[T.Vasco da Gama]               50.0023    116.361      0.430      0.667      -178.066   278.071\n",
      "C(df.bairro_g)[T.Vaz Lobo]                   177.5992    116.803      1.520      0.128       -51.336   406.535\n",
      "C(df.bairro_g)[T.Vicente de Carvalho]         45.8779     87.338      0.525      0.599      -125.305   217.061\n",
      "C(df.bairro_g)[T.Vidigal]                    132.1285     75.481      1.750      0.080       -15.816   280.073\n",
      "C(df.bairro_g)[T.Vigario Geral]               61.9123    114.257      0.542      0.588      -162.033   285.858\n",
      "C(df.bairro_g)[T.Vila Isabel]                 36.2773     39.247      0.924      0.355       -40.646   113.201\n",
      "C(df.bairro_g)[T.Vila Kosmos]                -62.9070     91.086     -0.691      0.490      -241.436   115.622\n",
      "C(df.bairro_g)[T.Vila Militar]               496.5712    372.323      1.334      0.182      -233.186  1226.328\n",
      "C(df.bairro_g)[T.Vila Valqueire]             237.4428     60.572      3.920      0.000       118.721   356.164\n",
      "C(df.bairro_g)[T.Vila da Penha]             -123.6344     75.320     -1.641      0.101      -271.262    23.993\n",
      "C(df.bairro_g)[T.Vista Alegre]               -40.9229     94.905     -0.431      0.666      -226.937   145.091\n",
      "C(df.bairro_g)[T.Zumbi]                     -520.7547    101.963     -5.107      0.000      -720.603  -320.906\n",
      "C(df.garagem)[T.1.0]                         130.8780      4.818     27.167      0.000       121.436   140.320\n",
      "C(df.garagem)[T.2.0]                         185.2935      6.597     28.088      0.000       172.364   198.223\n",
      "C(df.garagem)[T.3.0]                         270.7738     10.710     25.283      0.000       249.782   291.765\n",
      "C(df.garagem)[T.4.0]                         358.2419     21.601     16.584      0.000       315.903   400.581\n",
      "df.dm_esquina                                 -4.3815      5.942     -0.737      0.461       -16.028     7.265\n",
      "df.dm_closet                                 -16.1010      5.556     -2.898      0.004       -26.992    -5.210\n",
      "df.dist_saude_privada                         47.1437      7.864      5.995      0.000        31.731    62.556\n",
      "df.dm_armario                                -13.2808      3.756     -3.536      0.000       -20.642    -5.919\n",
      "df.se_crm_violento                             0.2624      0.076      3.468      0.001         0.114     0.411\n",
      "df.dm_recuado                                -73.5951     12.874     -5.716      0.000       -98.829   -48.361\n",
      "df.dm_fundos                                 145.1490     16.305      8.902      0.000       113.191   177.107\n",
      "df.dm_andar_alto                             106.4445     48.657      2.188      0.029        11.076   201.813\n",
      "df.dm_mezanino                                31.4044      6.929      4.532      0.000        17.823    44.985\n",
      "df.dm_piscina                                 15.9147      4.878      3.262      0.001         6.353    25.476\n",
      "df.dm_playground                              74.2322     37.199      1.996      0.046         1.322   147.143\n",
      "df.dm_hidrometro                              66.4776      7.330      9.070      0.000        52.111    80.844\n",
      "df.dm_seguranca                               -3.6812      6.194     -0.594      0.552       -15.821     8.459\n",
      "df.dist_lagoa                                 16.5674      3.101      5.343      0.000        10.490    22.645\n",
      "df.dm_sol_da_manha                           -15.1104     17.329     -0.872      0.383       -49.075    18.854\n",
      "df.area                                        7.5147      0.054    138.434      0.000         7.408     7.621\n",
      "df.dm_andar_inteiro                           -3.4235      7.283     -0.470      0.638       -17.699    10.852\n",
      "df.dm_linear                                  41.2557     33.524      1.231      0.218       -24.452   106.963\n",
      "df.dm_blindex                                  1.3918      9.826      0.142      0.887       -17.867    20.651\n",
      "df.dist_favela                                32.0729      4.364      7.349      0.000        23.519    40.627\n",
      "df.dist_logradouro                            40.8611      6.194      6.597      0.000        28.721    53.001\n",
      "df.dm_terraco                               -136.3243     13.221    -10.311      0.000      -162.237  -110.411\n",
      "df.dm_salao_de_jogos                         -43.7304     10.884     -4.018      0.000       -65.064   -22.397\n",
      "df.dist_centro                               -11.1670      1.332     -8.382      0.000       -13.778    -8.556\n",
      "df.dm_sala_de_jantar                          91.9431     31.387      2.929      0.003        30.425   153.461\n",
      "df.dm_dependencia                            -26.3907      7.902     -3.340      0.001       -41.878   -10.903\n",
      "df.dm_estacionamento_visitantes              -31.7467     11.211     -2.832      0.005       -53.720    -9.774\n",
      "df.dm_banheira                                24.7999      5.292      4.686      0.000        14.427    35.172\n",
      "df.dist_saude_publica                          2.7297      3.949      0.691      0.489        -5.011    10.470\n",
      "df.dist_bombeiro                               9.3007      2.728      3.410      0.001         3.955    14.647\n",
      "df.dm_jardim                                 -14.6747      8.156     -1.799      0.072       -30.660     1.311\n",
      "df.dist_praia                                -57.4526      2.879    -19.955      0.000       -63.096   -51.809\n",
      "df.dm_duplex                                 -34.9494     14.811     -2.360      0.018       -63.979    -5.920\n",
      "df.dm_sol_da_tarde                           -53.6406     53.825     -0.997      0.319      -159.138    51.857\n",
      "df.condominio                                146.1424      4.841     30.188      0.000       136.654   155.631\n",
      "df.dm_varanda                                -51.4140      5.266     -9.764      0.000       -61.734   -41.093\n",
      "df.dm_triplex                                -10.5117     36.484     -0.288      0.773       -82.021    60.998\n",
      "df.dm_children_care                           -2.5336      8.990     -0.282      0.778       -20.154    15.087\n",
      "df.dm_quarto_de_empregada                     52.4790      7.030      7.465      0.000        38.699    66.259\n",
      "df.se_renda                                    0.1118      0.011      9.881      0.000         0.090     0.134\n",
      "df.dm_andar_baixo                             -8.0362      6.663     -1.206      0.228       -21.096     5.024\n",
      "df.dm_lateral_                               -39.0916     10.528     -3.713      0.000       -59.726   -18.457\n",
      "df.dm_portaria                                 1.0320      5.487      0.188      0.851        -9.722    11.786\n",
      "df.dm_indevassavel                           -22.4317      8.562     -2.620      0.009       -39.214    -5.649\n",
      "df.dm_cobertura                                8.9843     42.472      0.212      0.832       -74.261    92.229\n",
      "df.dm_copa                                    42.4644     20.344      2.087      0.037         2.591    82.338\n",
      "df.se_perc_alfabetizacao                      -7.5144      1.840     -4.084      0.000       -11.120    -3.908\n",
      "df.dm_quadra                                  13.9739      5.654      2.471      0.013         2.892    25.056\n",
      "df.dm_elevador_privativo                      26.4284      8.157      3.240      0.001        10.441    42.416\n",
      "df.dm_sauna                                  -28.4855     10.422     -2.733      0.006       -48.913    -8.058\n",
      "df.dm_salao_de_festas                         18.0161      5.926      3.040      0.002         6.402    29.630\n",
      "df.se_crm_roubo                               -0.0478      0.028     -1.739      0.082        -0.102     0.006\n",
      "df.dm_churrasqueira                           27.3149      4.100      6.662      0.000        19.278    35.352\n",
      "==============================================================================\n",
      "Omnibus:                    33239.860   Durbin-Watson:                   1.997\n",
      "Prob(Omnibus):                  0.000   Jarque-Bera (JB):           945651.400\n",
      "Skew:                           2.514   Prob(JB):                         0.00\n",
      "Kurtosis:                      22.957   Cond. No.                     1.36e+17\n",
      "==============================================================================\n",
      "\n",
      "Warnings:\n",
      "[1] Standard Errors assume that the covariance matrix of the errors is correctly specified.\n",
      "[2] The smallest eigenvalue is 5.49e-23. This might indicate that there are\n",
      "strong multicollinearity problems or that the design matrix is singular.\n"
     ]
    }
   ],
   "source": [
    "lm = sm.formula.ols(f, df).fit()\n",
    "rmse['w_autocorr'] = z.rmse(lm.resid)\n",
    "print(lm.summary())"
   ]
  },
  {
   "cell_type": "code",
   "execution_count": 43,
   "metadata": {
    "collapsed": false
   },
   "outputs": [
    {
     "data": {
      "text/plain": [
       "C(df.bairro_g)[T.Acari]                   0.437302\n",
       "C(df.bairro_g)[T.Alto da Boa Vista]       0.089625\n",
       "C(df.bairro_g)[T.Andarai]                 0.130969\n",
       "C(df.bairro_g)[T.Anil]                    0.637445\n",
       "C(df.bairro_g)[T.Barra de Guaratiba]      0.121413\n",
       "C(df.bairro_g)[T.Benfica]                 0.964724\n",
       "C(df.bairro_g)[T.Cachambi]                0.229301\n",
       "C(df.bairro_g)[T.Caju]                    0.559938\n",
       "C(df.bairro_g)[T.Camorim]                 0.654010\n",
       "C(df.bairro_g)[T.Campo dos Afonsos]       0.105845\n",
       "C(df.bairro_g)[T.Catete]                  0.362910\n",
       "C(df.bairro_g)[T.Catumbi]                 0.169223\n",
       "C(df.bairro_g)[T.Cavalcanti]              0.644137\n",
       "C(df.bairro_g)[T.Cidade Nova]             0.402906\n",
       "C(df.bairro_g)[T.Cordovil]                0.181544\n",
       "C(df.bairro_g)[T.Cosme Velho]             0.446265\n",
       "C(df.bairro_g)[T.Del Castilho]            0.408031\n",
       "C(df.bairro_g)[T.Deodoro]                 0.173151\n",
       "C(df.bairro_g)[T.Encantado]               0.058516\n",
       "C(df.bairro_g)[T.Engenho Novo]            0.089007\n",
       "C(df.bairro_g)[T.Engenho da Rainha]       0.608770\n",
       "C(df.bairro_g)[T.Engenho de Dentro]       0.144660\n",
       "C(df.bairro_g)[T.Estacio]                 0.063740\n",
       "C(df.bairro_g)[T.Flamengo]                0.670901\n",
       "C(df.bairro_g)[T.Gamboa]                  0.246867\n",
       "C(df.bairro_g)[T.Gloria]                  0.979431\n",
       "C(df.bairro_g)[T.Grajau]                  0.201814\n",
       "C(df.bairro_g)[T.Higienopolis]            0.069620\n",
       "C(df.bairro_g)[T.Honorio Gurgel]          0.150634\n",
       "C(df.bairro_g)[T.Inhauma]                 0.832832\n",
       "                                            ...   \n",
       "C(df.bairro_g)[T.Santo Cristo]            0.208360\n",
       "C(df.bairro_g)[T.Sao Francisco Xavier]    0.332781\n",
       "C(df.bairro_g)[T.Todos os Santos]         0.118544\n",
       "C(df.bairro_g)[T.Tomas Coelho]            0.660780\n",
       "C(df.bairro_g)[T.Vargem Pequena]          0.432133\n",
       "C(df.bairro_g)[T.Vasco da Gama]           0.667403\n",
       "C(df.bairro_g)[T.Vaz Lobo]                0.128391\n",
       "C(df.bairro_g)[T.Vicente de Carvalho]     0.599383\n",
       "C(df.bairro_g)[T.Vidigal]                 0.080042\n",
       "C(df.bairro_g)[T.Vigario Geral]           0.587912\n",
       "C(df.bairro_g)[T.Vila Isabel]             0.355313\n",
       "C(df.bairro_g)[T.Vila Kosmos]             0.489798\n",
       "C(df.bairro_g)[T.Vila Militar]            0.182305\n",
       "C(df.bairro_g)[T.Vila da Penha]           0.100708\n",
       "C(df.bairro_g)[T.Vista Alegre]            0.666325\n",
       "df.dm_esquina                             0.460921\n",
       "df.dm_seguranca                           0.552286\n",
       "df.dm_sol_da_manha                        0.383223\n",
       "df.dm_andar_inteiro                       0.638325\n",
       "df.dm_linear                              0.218467\n",
       "df.dm_blindex                             0.887366\n",
       "df.dist_saude_publica                     0.489458\n",
       "df.dm_jardim                              0.071982\n",
       "df.dm_sol_da_tarde                        0.318976\n",
       "df.dm_triplex                             0.773258\n",
       "df.dm_children_care                       0.778084\n",
       "df.dm_andar_baixo                         0.227798\n",
       "df.dm_portaria                            0.850808\n",
       "df.dm_cobertura                           0.832469\n",
       "df.se_crm_roubo                           0.082114\n",
       "dtype: float64"
      ]
     },
     "execution_count": 43,
     "metadata": {},
     "output_type": "execute_result"
    }
   ],
   "source": [
    "# Lista de parâmetros sem significância.\n",
    "plow = lm.pvalues.copy()\n",
    "#bp.index = [i.replace('C(df.bairro_g)[T.', '').replace(']','')  for i in bp.index.tolist()]\n",
    "c = plow > 0.05\n",
    "plow = plow[c]\n",
    "plow"
   ]
  },
  {
   "cell_type": "code",
   "execution_count": 44,
   "metadata": {
    "collapsed": false
   },
   "outputs": [],
   "source": [
    "# Remover parâmetros sem significância.\n",
    "\n",
    "# Encontrar variáveis que não são bairros.\n",
    "idx_not_bairro = plow.index.map(lambda x: x.find('df.bairro_g') == -1) \n",
    "var_ignore_too = map(lambda x: x.replace('df.',''), plow[idx_not_bairro].index.tolist())\n",
    "var_ignore = var_ignore + var_ignore_too + ['bairro_g']"
   ]
  },
  {
   "cell_type": "code",
   "execution_count": 45,
   "metadata": {
    "collapsed": false
   },
   "outputs": [
    {
     "name": "stdout",
     "output_type": "stream",
     "text": [
      "Não há colunas autocorrelacionadas.\n"
     ]
    }
   ],
   "source": [
    "z.print_autocorr(df, var_ignore)"
   ]
  },
  {
   "cell_type": "code",
   "execution_count": 46,
   "metadata": {
    "collapsed": false
   },
   "outputs": [
    {
     "name": "stdout",
     "output_type": "stream",
     "text": [
      "Variáveis excluídas: se_anos_estudo,dm_sol_da_tarde,dm_andar_inteiro,preco,dist_delegacia,lng,dm_seguranca,dist_trem,dm_frente,dm_linear,dm_blindex,m2,id_bairro_g,bairro_g,se_idh,dm_children_care,dist_saude_publica,dm_jardim,lat,dist_centro_lat,dm_triplex,se_crm_roubo,dm_portaria,dm_cobertura,dist_centro_lng,dm_esquina,se_saneamento,dm_andar_baixo,dist_metro,dm_sol_da_manha\n",
      "\n",
      "\n",
      "Fórmula: df.preco  ~ C(df.quartos) + df.dm_closet + C(df.suites) + df.dm_armario + df.se_crm_violento + df.dm_recuado + df.dm_fundos + df.dm_andar_alto + df.dm_mezanino + df.dm_piscina + df.dm_playground + df.dm_hidrometro + df.dist_lagoa + df.se_renda + df.area + df.dist_saude_privada + df.dist_favela + df.dist_logradouro + df.dm_salao_de_jogos + df.dist_centro + df.dm_sala_de_jantar + df.dm_dependencia + df.dm_estacionamento_visitantes + df.dm_banheira + df.dist_bombeiro + C(df.garagem) + df.dist_praia + df.dm_duplex + df.condominio + df.dm_varanda + df.dm_terraco + df.dm_quarto_de_empregada + df.dm_lateral_ + df.dm_salao_de_festas + df.dm_indevassavel + df.dm_copa + df.se_perc_alfabetizacao + df.dm_quadra + df.dm_elevador_privativo + df.dm_sauna + df.dm_churrasqueira\n"
     ]
    }
   ],
   "source": [
    "f,_,e = z.prep_formula(df,'df', cat=['bairro_g','suites','quartos','garagem'],ignore=var_ignore)\n",
    "print('Variáveis excluídas: ' + ','.join(e))\n",
    "print( '\\n')\n",
    "print('Fórmula: '+ f)"
   ]
  },
  {
   "cell_type": "code",
   "execution_count": 47,
   "metadata": {
    "collapsed": false,
    "scrolled": false
   },
   "outputs": [
    {
     "name": "stdout",
     "output_type": "stream",
     "text": [
      "                            OLS Regression Results                            \n",
      "==============================================================================\n",
      "Dep. Variable:               df.preco   R-squared:                       0.722\n",
      "Model:                            OLS   Adj. R-squared:                  0.722\n",
      "Method:                 Least Squares   F-statistic:                     2838.\n",
      "Date:                Sat, 04 Apr 2015   Prob (F-statistic):               0.00\n",
      "Time:                        16:39:52   Log-Likelihood:            -4.0232e+05\n",
      "No. Observations:               53581   AIC:                         8.047e+05\n",
      "Df Residuals:                   53531   BIC:                         8.052e+05\n",
      "Df Model:                          49                                         \n",
      "Covariance Type:            nonrobust                                         \n",
      "===================================================================================================\n",
      "                                      coef    std err          t      P>|t|      [95.0% Conf. Int.]\n",
      "---------------------------------------------------------------------------------------------------\n",
      "Intercept                        8029.2314    228.473     35.143      0.000      7581.422  8477.041\n",
      "C(df.quartos)[T.2]                -26.8259      7.712     -3.478      0.001       -41.942   -11.710\n",
      "C(df.quartos)[T.3]                  8.8575      8.605      1.029      0.303        -8.009    25.724\n",
      "C(df.quartos)[T.4]                116.7341     11.971      9.752      0.000        93.271   140.197\n",
      "C(df.suites)[T.1.0]                43.7147      4.972      8.792      0.000        33.969    53.460\n",
      "C(df.suites)[T.2.0]                51.4297      8.764      5.868      0.000        34.251    68.608\n",
      "C(df.suites)[T.3.0]                91.5931     13.418      6.826      0.000        65.294   117.892\n",
      "C(df.suites)[T.4.0]               237.2664     21.502     11.035      0.000       195.122   279.411\n",
      "C(df.garagem)[T.1.0]               96.8535      5.582     17.350      0.000        85.912   107.795\n",
      "C(df.garagem)[T.2.0]               55.0926      7.544      7.303      0.000        40.306    69.879\n",
      "C(df.garagem)[T.3.0]               70.8301     12.391      5.716      0.000        46.544    95.117\n",
      "C(df.garagem)[T.4.0]              216.1857     25.635      8.433      0.000       165.940   266.431\n",
      "df.dm_closet                       -9.9870      6.502     -1.536      0.125       -22.730     2.756\n",
      "df.dm_armario                      -4.0081      4.361     -0.919      0.358       -12.557     4.540\n",
      "df.se_crm_violento                 -0.0853      0.006    -14.200      0.000        -0.097    -0.074\n",
      "df.dm_recuado                     -16.9537     15.341     -1.105      0.269       -47.022    13.115\n",
      "df.dm_fundos                      246.0385     19.448     12.651      0.000       207.920   284.157\n",
      "df.dm_andar_alto                  139.6794     58.193      2.400      0.016        25.620   253.738\n",
      "df.dm_mezanino                     10.7675      7.800      1.380      0.167        -4.520    26.055\n",
      "df.dm_piscina                      46.3685      5.802      7.991      0.000        34.996    57.741\n",
      "df.dm_playground                  115.0514     44.339      2.595      0.009        28.147   201.956\n",
      "df.dm_hidrometro                   83.9217      8.707      9.639      0.000        66.856   100.987\n",
      "df.dist_lagoa                      -1.2215      0.760     -1.607      0.108        -2.712     0.269\n",
      "df.se_renda                         0.1961      0.002     79.666      0.000         0.191     0.201\n",
      "df.area                             7.7747      0.064    122.062      0.000         7.650     7.899\n",
      "df.dist_saude_privada              32.0975      7.439      4.315      0.000        17.517    46.678\n",
      "df.dist_favela                    -76.0608      3.999    -19.020      0.000       -83.899   -68.223\n",
      "df.dist_logradouro                -21.1951      5.401     -3.924      0.000       -31.781   -10.609\n",
      "df.dm_salao_de_jogos              -51.6022     12.725     -4.055      0.000       -76.544   -26.661\n",
      "df.dist_centro                    -19.2427      0.338    -56.978      0.000       -19.905   -18.581\n",
      "df.dm_sala_de_jantar               78.2969     37.417      2.093      0.036         4.959   151.634\n",
      "df.dm_dependencia                 -65.8037      9.320     -7.061      0.000       -84.070   -47.537\n",
      "df.dm_estacionamento_visitantes     2.4380     12.598      0.194      0.847       -22.254    27.130\n",
      "df.dm_banheira                     45.5190      6.186      7.359      0.000        33.395    57.643\n",
      "df.dist_bombeiro                   19.3865      2.448      7.920      0.000        14.589    24.184\n",
      "df.dist_praia                     -12.8890      0.828    -15.574      0.000       -14.511   -11.267\n",
      "df.dm_duplex                      -35.1710     17.638     -1.994      0.046       -69.743    -0.599\n",
      "df.condominio                     210.5948      5.673     37.121      0.000       199.475   221.714\n",
      "df.dm_varanda                     -98.1183      6.007    -16.335      0.000      -109.891   -86.345\n",
      "df.dm_terraco                    -140.8417     15.634     -9.008      0.000      -171.485  -110.198\n",
      "df.dm_quarto_de_empregada          62.7498      8.312      7.549      0.000        46.458    79.041\n",
      "df.dm_lateral_                    -52.9082     12.132     -4.361      0.000       -76.686   -29.130\n",
      "df.dm_salao_de_festas             -33.0876      6.682     -4.952      0.000       -46.184   -19.991\n",
      "df.dm_indevassavel                -18.4735     10.087     -1.831      0.067       -38.245     1.298\n",
      "df.dm_copa                         47.6372     24.290      1.961      0.050         0.030    95.245\n",
      "df.se_perc_alfabetizacao          -84.9112      2.388    -35.553      0.000       -89.592   -80.230\n",
      "df.dm_quadra                       11.6419      5.793      2.010      0.044         0.287    22.997\n",
      "df.dm_elevador_privativo           -2.3914      9.451     -0.253      0.800       -20.915    16.132\n",
      "df.dm_sauna                       -49.0455     12.430     -3.946      0.000       -73.408   -24.683\n",
      "df.dm_churrasqueira               -20.1373      4.837     -4.163      0.000       -29.617   -10.657\n",
      "==============================================================================\n",
      "Omnibus:                    31573.599   Durbin-Watson:                   1.975\n",
      "Prob(Omnibus):                  0.000   Jarque-Bera (JB):           587845.165\n",
      "Skew:                           2.479   Prob(JB):                         0.00\n",
      "Kurtosis:                      18.450   Cond. No.                     5.07e+05\n",
      "==============================================================================\n",
      "\n",
      "Warnings:\n",
      "[1] Standard Errors assume that the covariance matrix of the errors is correctly specified.\n",
      "[2] The condition number is large, 5.07e+05. This might indicate that there are\n",
      "strong multicollinearity or other numerical problems.\n"
     ]
    }
   ],
   "source": [
    "lm = sm.formula.ols(f, df).fit()\n",
    "rmse['w_unsignif_1'] = z.rmse(lm.resid)\n",
    "print(lm.summary())"
   ]
  },
  {
   "cell_type": "code",
   "execution_count": 49,
   "metadata": {
    "collapsed": false
   },
   "outputs": [
    {
     "data": {
      "text/plain": [
       "C(df.quartos)[T.3]                 0.303333\n",
       "df.dm_closet                       0.124524\n",
       "df.dm_armario                      0.358110\n",
       "df.dm_recuado                      0.269117\n",
       "df.dm_mezanino                     0.167443\n",
       "df.dist_lagoa                      0.108114\n",
       "df.dm_estacionamento_visitantes    0.846547\n",
       "df.dm_indevassavel                 0.067055\n",
       "df.dm_elevador_privativo           0.800234\n",
       "dtype: float64"
      ]
     },
     "execution_count": 49,
     "metadata": {},
     "output_type": "execute_result"
    }
   ],
   "source": [
    "# Lista de parâmetros sem significância.\n",
    "plow = lm.pvalues.copy()\n",
    "c = plow > 0.05\n",
    "plow = plow[c]\n",
    "plow"
   ]
  },
  {
   "cell_type": "code",
   "execution_count": 50,
   "metadata": {
    "collapsed": false
   },
   "outputs": [],
   "source": [
    "# Remover parâmetros sem significância.\n",
    "\n",
    "# Encontrar variáveis que não são bairros.\n",
    "var_ignore_too = map(lambda x: x.replace('df.',''), plow.index.tolist())\n",
    "var_ignore_too = var_ignore_too[1:]\n",
    "var_ignore = var_ignore + var_ignore_too"
   ]
  },
  {
   "cell_type": "code",
   "execution_count": 51,
   "metadata": {
    "collapsed": false
   },
   "outputs": [
    {
     "name": "stdout",
     "output_type": "stream",
     "text": [
      "Variáveis excluídas: dm_closet,dm_armario,se_anos_estudo,dm_recuado,dm_sol_da_tarde,dm_indevassavel,preco,dist_delegacia,dm_mezanino,lng,dm_seguranca,dist_trem,dist_lagoa,dm_frente,dm_linear,dm_blindex,m2,id_bairro_g,bairro_g,se_idh,dm_children_care,dm_estacionamento_visitantes,dist_saude_publica,dm_jardim,dm_andar_inteiro,lat,dist_centro_lat,dm_triplex,se_crm_roubo,dm_portaria,dm_cobertura,dist_centro_lng,dm_elevador_privativo,dm_esquina,se_saneamento,dm_andar_baixo,dist_metro,dm_sol_da_manha\n",
      "\n",
      "\n",
      "Fórmula: df.preco  ~ C(df.quartos) + C(df.suites) + df.se_crm_violento + df.dm_fundos + df.dm_andar_alto + df.dm_piscina + df.dm_playground + df.dm_hidrometro + df.se_renda + df.area + df.dist_saude_privada + df.dist_favela + df.dist_logradouro + df.dm_salao_de_jogos + df.dist_centro + df.dm_sala_de_jantar + df.dm_dependencia + df.dm_banheira + df.dist_bombeiro + C(df.garagem) + df.dist_praia + df.dm_duplex + df.condominio + df.dm_varanda + df.dm_terraco + df.dm_quarto_de_empregada + df.dm_lateral_ + df.dm_salao_de_festas + df.dm_copa + df.se_perc_alfabetizacao + df.dm_quadra + df.dm_sauna + df.dm_churrasqueira\n"
     ]
    }
   ],
   "source": [
    "f,_,e = z.prep_formula(df,'df', cat=['bairro_g','suites','quartos','garagem'],ignore=var_ignore)\n",
    "print('Variáveis excluídas: ' + ','.join(e))\n",
    "print( '\\n')\n",
    "print('Fórmula: '+ f)"
   ]
  },
  {
   "cell_type": "code",
   "execution_count": 52,
   "metadata": {
    "collapsed": false,
    "scrolled": false
   },
   "outputs": [
    {
     "name": "stdout",
     "output_type": "stream",
     "text": [
      "                            OLS Regression Results                            \n",
      "==============================================================================\n",
      "Dep. Variable:               df.preco   R-squared:                       0.722\n",
      "Model:                            OLS   Adj. R-squared:                  0.722\n",
      "Method:                 Least Squares   F-statistic:                     3391.\n",
      "Date:                Sat, 04 Apr 2015   Prob (F-statistic):               0.00\n",
      "Time:                        16:40:11   Log-Likelihood:            -4.0233e+05\n",
      "No. Observations:               53581   AIC:                         8.047e+05\n",
      "Df Residuals:                   53539   BIC:                         8.051e+05\n",
      "Df Model:                          41                                         \n",
      "Covariance Type:            nonrobust                                         \n",
      "=============================================================================================\n",
      "                                coef    std err          t      P>|t|      [95.0% Conf. Int.]\n",
      "---------------------------------------------------------------------------------------------\n",
      "Intercept                  8158.8607    211.286     38.615      0.000      7744.739  8572.983\n",
      "C(df.quartos)[T.2]          -27.5016      7.689     -3.577      0.000       -42.572   -12.431\n",
      "C(df.quartos)[T.3]            8.1758      8.581      0.953      0.341        -8.642    24.994\n",
      "C(df.quartos)[T.4]          116.0777     11.937      9.724      0.000        92.680   139.475\n",
      "C(df.suites)[T.1.0]          44.8528      4.952      9.057      0.000        35.146    54.560\n",
      "C(df.suites)[T.2.0]          53.4863      8.733      6.125      0.000        36.370    70.603\n",
      "C(df.suites)[T.3.0]          93.4541     13.394      6.977      0.000        67.202   119.706\n",
      "C(df.suites)[T.4.0]         239.0271     21.470     11.133      0.000       196.946   281.108\n",
      "C(df.garagem)[T.1.0]         96.5084      5.571     17.324      0.000        85.589   107.427\n",
      "C(df.garagem)[T.2.0]         54.4681      7.519      7.244      0.000        39.731    69.206\n",
      "C(df.garagem)[T.3.0]         69.7200     12.363      5.639      0.000        45.487    93.952\n",
      "C(df.garagem)[T.4.0]        216.1885     25.630      8.435      0.000       165.953   266.424\n",
      "df.se_crm_violento           -0.0832      0.006    -14.225      0.000        -0.095    -0.072\n",
      "df.dm_fundos                245.6965     19.409     12.659      0.000       207.655   283.738\n",
      "df.dm_andar_alto            133.7237     58.143      2.300      0.021        19.762   247.685\n",
      "df.dm_piscina                43.9527      5.668      7.754      0.000        32.843    55.063\n",
      "df.dm_playground            113.4951     44.220      2.567      0.010        26.823   200.167\n",
      "df.dm_hidrometro             80.4804      8.631      9.325      0.000        63.564    97.397\n",
      "df.se_renda                   0.1978      0.002     94.048      0.000         0.194     0.202\n",
      "df.area                       7.7756      0.063    122.851      0.000         7.652     7.900\n",
      "df.dist_saude_privada        31.2146      7.390      4.224      0.000        16.729    45.700\n",
      "df.dist_favela              -76.7495      3.955    -19.406      0.000       -84.501   -68.998\n",
      "df.dist_logradouro          -22.0539      5.378     -4.101      0.000       -32.595   -11.512\n",
      "df.dm_salao_de_jogos        -49.6247     12.541     -3.957      0.000       -74.204   -25.045\n",
      "df.dist_centro              -19.0980      0.334    -57.184      0.000       -19.753   -18.443\n",
      "df.dm_sala_de_jantar         73.9659     37.366      1.979      0.048         0.728   147.204\n",
      "df.dm_dependencia           -71.4620      9.009     -7.933      0.000       -89.119   -53.805\n",
      "df.dm_banheira               44.7911      6.022      7.437      0.000        32.987    56.595\n",
      "df.dist_bombeiro             19.5048      2.446      7.975      0.000        14.711    24.299\n",
      "df.dist_praia               -13.2753      0.798    -16.626      0.000       -14.840   -11.710\n",
      "df.dm_duplex                -35.3760     17.540     -2.017      0.044       -69.755    -0.997\n",
      "df.condominio               210.2224      5.629     37.344      0.000       199.189   221.256\n",
      "df.dm_varanda               -97.3500      5.949    -16.365      0.000      -109.009   -85.691\n",
      "df.dm_terraco              -141.1880     15.017     -9.402      0.000      -170.622  -111.754\n",
      "df.dm_quarto_de_empregada    62.3985      8.188      7.620      0.000        46.349    78.448\n",
      "df.dm_lateral_              -52.0198     11.352     -4.583      0.000       -74.269   -29.771\n",
      "df.dm_salao_de_festas       -32.8808      6.585     -4.993      0.000       -45.787   -19.975\n",
      "df.dm_copa                   45.1992     24.236      1.865      0.062        -2.304    92.702\n",
      "df.se_perc_alfabetizacao    -86.3785      2.183    -39.562      0.000       -90.658   -82.099\n",
      "df.dm_quadra                 12.6405      5.716      2.211      0.027         1.436    23.845\n",
      "df.dm_sauna                 -55.1038     12.058     -4.570      0.000       -78.737   -31.471\n",
      "df.dm_churrasqueira         -21.4356      4.761     -4.502      0.000       -30.768   -12.104\n",
      "==============================================================================\n",
      "Omnibus:                    31550.184   Durbin-Watson:                   1.975\n",
      "Prob(Omnibus):                  0.000   Jarque-Bera (JB):           587744.937\n",
      "Skew:                           2.477   Prob(JB):                         0.00\n",
      "Kurtosis:                      18.451   Cond. No.                     4.68e+05\n",
      "==============================================================================\n",
      "\n",
      "Warnings:\n",
      "[1] Standard Errors assume that the covariance matrix of the errors is correctly specified.\n",
      "[2] The condition number is large, 4.68e+05. This might indicate that there are\n",
      "strong multicollinearity or other numerical problems.\n"
     ]
    }
   ],
   "source": [
    "lm = sm.formula.ols(f, df).fit()\n",
    "rmse['w_unsignif_2'] = z.rmse(lm.resid)\n",
    "print(lm.summary())"
   ]
  },
  {
   "cell_type": "markdown",
   "metadata": {},
   "source": [
    "# Determinar se a Regresssão ou média simples é o melhor método."
   ]
  },
  {
   "cell_type": "code",
   "execution_count": 54,
   "metadata": {
    "collapsed": false
   },
   "outputs": [
    {
     "name": "stdout",
     "output_type": "stream",
     "text": [
      "REGRESSAO WINS por 47.27%\n"
     ]
    }
   ],
   "source": [
    "modelo_rl = z.rmse(lm.resid)\n",
    "modelo_media = z.rmse(df.preco-df.preco.mean())\n",
    "if modelo_rl < modelo_media :\n",
    "    print 'REGRESSAO WINS por {:.2f}%'.format((1-modelo_rl/modelo_media)*100)\n",
    "else:\n",
    "    print 'MEDIA WINS por {:.2f}%'.format((1-modelo_media/modelo_ml)*100)"
   ]
  },
  {
   "cell_type": "code",
   "execution_count": 55,
   "metadata": {
    "collapsed": false
   },
   "outputs": [
    {
     "data": {
      "text/plain": [
       "(441.37411757405715, 837.06779051662784)"
      ]
     },
     "execution_count": 55,
     "metadata": {},
     "output_type": "execute_result"
    }
   ],
   "source": [
    " modelo_rl , modelo_media"
   ]
  },
  {
   "cell_type": "code",
   "execution_count": 56,
   "metadata": {
    "collapsed": false
   },
   "outputs": [
    {
     "data": {
      "image/png": "[encoded data removed]",
      "text/plain": [
       "<matplotlib.figure.Figure at 0x10b94d4d0>"
      ]
     },
     "metadata": {},
     "output_type": "display_data"
    }
   ],
   "source": [
    "srmse = z.pd.Series(data=rmse.values(),index=rmse.keys())\n",
    "srmse.sort(ascending=False)\n",
    "srmse.plot(kind='barh');"
   ]
  },
  {
   "cell_type": "code",
   "execution_count": null,
   "metadata": {
    "collapsed": true
   },
   "outputs": [],
   "source": []
  }
 ],
 "metadata": {
  "kernelspec": {
   "display_name": "Python 2",
   "language": "python",
   "name": "python2"
  },
  "language_info": {
   "codemirror_mode": {
    "name": "ipython",
    "version": 2
   },
   "file_extension": ".py",
   "mimetype": "text/x-python",
   "name": "python",
   "nbconvert_exporter": "python",
   "pygments_lexer": "ipython2",
   "version": "2.7.9"
  }
 },
 "nbformat": 4,
 "nbformat_minor": 0
}
