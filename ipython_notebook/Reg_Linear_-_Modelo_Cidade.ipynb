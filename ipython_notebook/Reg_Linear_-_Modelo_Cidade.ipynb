{
 "cells": [
  {
   "cell_type": "markdown",
   "metadata": {},
   "source": [
    "#Table of Contents\n",
    "* [1. Inicialização](#1.-Inicialização)\n",
    "\t* [1.1 Carregar dataset](#1.1-Carregar-dataset)\n",
    "\t* [1.2 Tratar dataset.](#1.2-Tratar-dataset.)\n",
    "* [2. Não usar variáveis de bairro: m1](#2.-Não-usar-variáveis-de-bairro:-m1)\n",
    "* [3. Usar variáveis de bairro: m2](#3.-Usar-variáveis-de-bairro:-m2)\n",
    "* [4. Remover bairros com poucas observações $m_{bairro}<n_{var}$: m3](#4.-Remover-bairros-com-poucas-observações-$m_{bairro}<n_{var}$:-m3)\n",
    "\t* [4.1 Identificar bairros com poucas observações](#4.1-Identificar-bairros-com-poucas-observações)\n",
    "\t* [4.2 Remover bairros com poucas observações](#4.2-Remover-bairros-com-poucas-observações)\n",
    "* [5. Remover variáveis correlacionadas](#5.-Remover-variáveis-correlacionadas)\n",
    "\t* [5.1 Verificar correlação absoluta com preço](#5.1-Verificar-correlação-absoluta-com-preço)\n",
    "\t* [5.2 Identificar variáveis correlacionadas](#5.2-Identificar-variáveis-correlacionadas)\n",
    "\t* [5.3 Remover variávies correlacionadas de menor correlação com preço: m4](#5.3-Remover-variávies-correlacionadas-de-menor-correlação-com-preço:-m4)\n",
    "\t* [5.4 Remover variávies correlacionadas por quantidade de ocorrencia: m5](#5.4-Remover-variávies-correlacionadas-por-quantidade-de-ocorrencia:-m5)\n",
    "* [6. Lag espacial sem bairros: m6](#6.-Lag-espacial-sem-bairros:-m6)\n",
    "* [7. Lag espacial com bairros: m7](#7.-Lag-espacial-com-bairros:-m7)\n",
    "* [8. Lag espacial sem variáveis correlacionadas](#8.-Lag-espacial-sem-variáveis-correlacionadas)\n",
    "\t* [8.1 Remover variáveis correlacionadas de menor correlação com preço: m8](#8.1-Remover-variáveis-correlacionadas-de-menor-correlação-com-preço:-m8)\n",
    "\t* [8.2 Remover variaveis correlacionadas por quantidade: m9](#8.2-Remover-variaveis-correlacionadas-por-quantidade:-m9)\n",
    "* [9. Seleção manual: m10](#9.-Seleção-manual:-m10)\n",
    "\t* [9.1 Identificar variáveis correlacionadas](#9.1-Identificar-variáveis-correlacionadas)\n",
    "\t\t* [9.1.1 Acessiblidade](#9.1.1-Acessiblidade)\n",
    "\t\t* [9.1.2 Distância](#9.1.2-Distância)\n",
    "\t\t* [9.1.3 Variáveis dummies](#9.1.3-Variáveis-dummies)\n",
    "\t* [9.2 Executar modelo](#9.2-Executar-modelo)\n",
    "\t* [9.3 Tradicional: m10trad](#9.3-Tradicional:-m10trad)\n",
    "\t\t* [9.3.1 Lag Espacial: m10lag](#9.3.1-Lag-Espacial:-m10lag)\n",
    "* [10. Avaliar evolução do modelo escolhido, m10, adicionando uma variável por vez](#10.-Avaliar-evolução-do-modelo-escolhido,-m10,-adicionando-uma-variável-por-vez)\n",
    "* [11. Salvar resultados](#11.-Salvar-resultados)\n"
   ]
  },
  {
   "cell_type": "markdown",
   "metadata": {},
   "source": [
    "# 1. Inicialização"
   ]
  },
  {
   "cell_type": "code",
   "execution_count": 34,
   "metadata": {
    "collapsed": false
   },
   "outputs": [
    {
     "name": "stdout",
     "output_type": "stream",
     "text": [
      "Populating the interactive namespace from numpy and matplotlib\n"
     ]
    }
   ],
   "source": [
    "%pylab inline\n",
    "import zap_util as z\n",
    "import re\n",
    "import statsmodels.api as sm\n",
    "import statsmodels.formula.api as smf\n",
    "from collections import OrderedDict\n",
    "from sklearn import cross_validation as cv\n",
    "import pysal\n",
    "\n",
    "K_FOLDS = 4\n",
    "CORR_THRESHOLD = 0.8\n",
    "z.set_style()\n",
    "# Lista de modelos\n",
    "score = []\n",
    "rcParams['figure.figsize'] = (9,6)\n",
    "# Variáveis a serem tratadas como categóricas.\n",
    "vars_catgr = ['suites','quartos','garagem']\n",
    "\n"
   ]
  },
  {
   "cell_type": "code",
   "execution_count": 35,
   "metadata": {
    "collapsed": false
   },
   "outputs": [],
   "source": [
    "\n",
    "def plot_score(scr = None, size= (6,4)):\n",
    "    '''\n",
    "    Plota gráfico comparativo do RMSE dos modelos.\n",
    "    '''\n",
    "    if scr == None: \n",
    "        scr = score\n",
    "    x_name = []\n",
    "    y_test = []\n",
    "    y_train = []\n",
    "    for name, train, test,r2 in scr:\n",
    "        x_name.append(name)\n",
    "        y_train.append(train)\n",
    "        y_test.append(test)\n",
    "    figsize(size[0],size[1])\n",
    "    scatter(range(len(x_name)), y_train,color='b', label='Treino');\n",
    "    scatter(range(len(x_name)), y_test,color='r', label='Teste');\n",
    "    xticks(range(len(x_name)), x_name, rotation=90);\n",
    "    legend();\n",
    "    xlim(-1,len(x_name)+1);\n",
    "\n",
    "\n",
    "\n",
    "    \n",
    "    \n",
    "def save_result(name,results):\n",
    "    '''\n",
    "    Helper para registro do RMSE.\n",
    "    '''\n",
    "    for i in range(len(score)):\n",
    "        if name ==score[i][0]:\n",
    "            score[i] = [name,results[0],results[1],results[2]]\n",
    "            return i\n",
    "    score.append([name,results[0],results[1],results[2]])\n",
    "\n",
    "\n",
    "\n",
    "\n",
    "\n",
    "def plot_rmser2(scr = None, size= (6,4)):\n",
    "    '''\n",
    "    Plota um scatter plot com o RMSE no eixo X e R2 no eixo Y.\n",
    "    '''\n",
    "\n",
    "    if scr == None: \n",
    "        scr = score\n",
    "    x_name = []\n",
    "    x_train = []\n",
    "    x_test = []\n",
    "    x_r2 = []\n",
    "    for name, train, test,r2 in scr:\n",
    "        x_name.append(name)\n",
    "        x_train.append(train)\n",
    "        x_test.append(test)\n",
    "        x_r2.append(1-r2)\n",
    "    f,a=subplots()\n",
    "    f.set_size_inches(size)\n",
    "    a.scatter(x_test, x_r2,color='b');\n",
    "    xlabel(r'$RMSE(Test)$',fontsize=14);\n",
    "    ylabel(r'$1-R^2$',fontsize=14);\n",
    "    \n",
    "    for i in range(len(score)):\n",
    "        label, x, y = x_name[i], x_test[i], x_r2[i]\n",
    "        sinal = -1\n",
    "        if i%2:\n",
    "            sinal = 1\n",
    "\n",
    "        plt.annotate(\n",
    "            label, \n",
    "            xy = (x, y), xytext = (20, 20*sinal),\n",
    "            textcoords = 'offset points', \n",
    "            ha = 'right', \n",
    "            va = 'bottom',\n",
    "            bbox = dict(boxstyle = 'round,pad=0.5', \n",
    "                        fc = 'white', \n",
    "                        alpha = 0.5),\n",
    "            arrowprops = dict(arrowstyle = '->',\n",
    "                              connectionstyle = 'arc3,rad=0',\n",
    "                              color='black')\n",
    "            )\n",
    "   \n",
    "def to_html(lm_result,model):\n",
    "    DIR = './modelos'\n",
    "    z.res_coef(lm_result).\\\n",
    "        to_html('{}/{}_all.html'.format(DIR,model))\n",
    "    z.res_coef_bairros(lm_result).\\\n",
    "        to_html('{}/{}_{}.html'.format(DIR,model,'bairros'))\n",
    "    z.res_coef_intr(lm_result).\\\n",
    "        to_html('{}/{}_{}.html'.format(DIR,model,'vars'))\n",
    "    lm_result.save('./modelos/{}.bin'.format(model))\n"
   ]
  },
  {
   "cell_type": "markdown",
   "metadata": {},
   "source": [
    "## 1.1 Carregar dataset"
   ]
  },
  {
   "cell_type": "code",
   "execution_count": 36,
   "metadata": {
    "collapsed": false
   },
   "outputs": [
    {
     "data": {
      "text/plain": [
       "(28111, 75)"
      ]
     },
     "execution_count": 36,
     "metadata": {},
     "output_type": "execute_result"
    }
   ],
   "source": [
    "# Obter dataset do Banco de Dados. \n",
    "df = z.get_imoveis_dataframe(False)\n",
    "\n",
    "df.shape"
   ]
  },
  {
   "cell_type": "markdown",
   "metadata": {},
   "source": [
    "## 1.2 Tratar dataset."
   ]
  },
  {
   "cell_type": "code",
   "execution_count": 37,
   "metadata": {
    "collapsed": false
   },
   "outputs": [
    {
     "name": "stdout",
     "output_type": "stream",
     "text": [
      "Nulos no dataset: False\n"
     ]
    }
   ],
   "source": [
    "# Verificação de nulos.\n",
    "has_null = df.isnull().sum().sum() != 0\n",
    "print 'Nulos no dataset: {}'.format(has_null)"
   ]
  },
  {
   "cell_type": "code",
   "execution_count": 38,
   "metadata": {
    "collapsed": false
   },
   "outputs": [
    {
     "name": "stdout",
     "output_type": "stream",
     "text": [
      "Variaveis constantes: 0\n"
     ]
    }
   ],
   "source": [
    "# Verificação de constantes.\n",
    "std_ = df.std()\n",
    "has_const = std_[std_<0.001].sum()\n",
    "print 'Variaveis constantes: {}'.format(has_const)"
   ]
  },
  {
   "cell_type": "code",
   "execution_count": 39,
   "metadata": {
    "collapsed": false
   },
   "outputs": [
    {
     "name": "stdout",
     "output_type": "stream",
     "text": [
      "Qtd de variáveis: 75\n"
     ]
    }
   ],
   "source": [
    "print u'Qtd de variáveis: {}'.format(df.shape[1])"
   ]
  },
  {
   "cell_type": "markdown",
   "metadata": {},
   "source": [
    "# 2. Não usar variáveis de bairro: m1"
   ]
  },
  {
   "cell_type": "code",
   "execution_count": 7,
   "metadata": {
    "collapsed": false
   },
   "outputs": [
    {
     "data": {
      "text/plain": [
       "(28111, 75)"
      ]
     },
     "execution_count": 7,
     "metadata": {},
     "output_type": "execute_result"
    }
   ],
   "source": [
    "reload(z)\n",
    "df_m1 = z.prep_statsmodels(df,False )\n",
    "del df_m1['bairro_g']\n",
    "df_m1.shape"
   ]
  },
  {
   "cell_type": "code",
   "execution_count": 8,
   "metadata": {
    "collapsed": false,
    "scrolled": true
   },
   "outputs": [
    {
     "name": "stdout",
     "output_type": "stream",
     "text": [
      "CPU times: user 3.42 s, sys: 418 ms, total: 3.83 s\n",
      "Wall time: 3.19 s\n"
     ]
    }
   ],
   "source": [
    "%%time\n",
    "\n",
    "save_result('m1', z.run_model( df_m1,K_FOLDS))\n"
   ]
  },
  {
   "cell_type": "code",
   "execution_count": 9,
   "metadata": {
    "collapsed": false
   },
   "outputs": [],
   "source": [
    "lm,_,_ = z.ols(df_m1,avoid_plow=True, remove_plow_by_step=True)\n",
    "to_html(lm,'m1')\n",
    "del df_m1"
   ]
  },
  {
   "cell_type": "code",
   "execution_count": 13,
   "metadata": {
    "collapsed": false,
    "scrolled": true
   },
   "outputs": [
    {
     "data": {
      "image/png": "[encoded data removed]",
      "text/plain": [
       "<matplotlib.figure.Figure at 0x10a83dc90>"
      ]
     },
     "metadata": {},
     "output_type": "display_data"
    }
   ],
   "source": [
    "plot_score()"
   ]
  },
  {
   "cell_type": "code",
   "execution_count": 14,
   "metadata": {
    "collapsed": false
   },
   "outputs": [
    {
     "data": {
      "image/png": "[encoded data removed]",
      "text/plain": [
       "<matplotlib.figure.Figure at 0x10a939710>"
      ]
     },
     "metadata": {},
     "output_type": "display_data"
    }
   ],
   "source": [
    "plot_rmser2()"
   ]
  },
  {
   "cell_type": "markdown",
   "metadata": {},
   "source": [
    "# 3. Usar variáveis de bairro: m2"
   ]
  },
  {
   "cell_type": "code",
   "execution_count": 15,
   "metadata": {
    "collapsed": false
   },
   "outputs": [
    {
     "data": {
      "text/plain": [
       "(28111, 229)"
      ]
     },
     "execution_count": 15,
     "metadata": {},
     "output_type": "execute_result"
    }
   ],
   "source": [
    "df_m2 = z.prep_statsmodels(df,True,True)\n",
    "df_m2.shape"
   ]
  },
  {
   "cell_type": "code",
   "execution_count": 16,
   "metadata": {
    "collapsed": false
   },
   "outputs": [
    {
     "name": "stdout",
     "output_type": "stream",
     "text": [
      "CPU times: user 28.9 s, sys: 2.88 s, total: 31.8 s\n",
      "Wall time: 24 s\n"
     ]
    }
   ],
   "source": [
    "%%time\n",
    "\n",
    "save_result('m2', z.run_model(df_m2,K_FOLDS))\n"
   ]
  },
  {
   "cell_type": "code",
   "execution_count": 17,
   "metadata": {
    "collapsed": false
   },
   "outputs": [],
   "source": [
    "lm,_,_ = z.ols(df_m2,avoid_plow=True, remove_plow_by_step=True)\n",
    "to_html(lm,'m2')\n",
    "del df_m2"
   ]
  },
  {
   "cell_type": "code",
   "execution_count": 18,
   "metadata": {
    "collapsed": false
   },
   "outputs": [
    {
     "data": {
      "image/png": "[encoded data removed]",
      "text/plain": [
       "<matplotlib.figure.Figure at 0x10a89a150>"
      ]
     },
     "metadata": {},
     "output_type": "display_data"
    }
   ],
   "source": [
    "plot_score()"
   ]
  },
  {
   "cell_type": "code",
   "execution_count": 19,
   "metadata": {
    "collapsed": false
   },
   "outputs": [
    {
     "data": {
      "image/png": "[encoded data removed]",
      "text/plain": [
       "<matplotlib.figure.Figure at 0x10b078850>"
      ]
     },
     "metadata": {},
     "output_type": "display_data"
    }
   ],
   "source": [
    "plot_rmser2()"
   ]
  },
  {
   "cell_type": "markdown",
   "metadata": {},
   "source": [
    "# 4. Remover bairros com poucas observações $m_{bairro}<n_{var}$: m3"
   ]
  },
  {
   "cell_type": "markdown",
   "metadata": {},
   "source": [
    "## 4.1 Identificar bairros com poucas observações"
   ]
  },
  {
   "cell_type": "code",
   "execution_count": 20,
   "metadata": {
    "collapsed": false
   },
   "outputs": [],
   "source": [
    "bairro = df.bairro_g.copy()\n",
    "bairro = bairro.apply(lambda x : x.replace(' ', '_').\\\n",
    "    replace('(','').replace(')',''))"
   ]
  },
  {
   "cell_type": "code",
   "execution_count": 21,
   "metadata": {
    "collapsed": false,
    "scrolled": true
   },
   "outputs": [
    {
     "name": "stdout",
     "output_type": "stream",
     "text": [
      "Quantidade total de variáveis: 75\n"
     ]
    }
   ],
   "source": [
    "print 'Quantidade total de variáveis: {}'.format( df.shape[1])"
   ]
  },
  {
   "cell_type": "code",
   "execution_count": 22,
   "metadata": {
    "collapsed": false
   },
   "outputs": [
    {
     "name": "stdout",
     "output_type": "stream",
     "text": [
      "Qtd total de bairros: 155\n"
     ]
    }
   ],
   "source": [
    "print 'Qtd total de bairros: {}'.format(len(bairro.unique()))"
   ]
  },
  {
   "cell_type": "code",
   "execution_count": 23,
   "metadata": {
    "collapsed": false
   },
   "outputs": [
    {
     "name": "stdout",
     "output_type": "stream",
     "text": [
      "Qtd de observações: 28111\n"
     ]
    }
   ],
   "source": [
    "print 'Qtd de observações: {}'.format(len(df))"
   ]
  },
  {
   "cell_type": "code",
   "execution_count": 24,
   "metadata": {
    "collapsed": false,
    "scrolled": true
   },
   "outputs": [],
   "source": [
    "# Bairros com menos observações que qtd de variáveis.\n",
    "x = bairro.value_counts()\n",
    "bairro_less = x[x<df.shape[1]]"
   ]
  },
  {
   "cell_type": "code",
   "execution_count": 25,
   "metadata": {
    "collapsed": false
   },
   "outputs": [
    {
     "name": "stdout",
     "output_type": "stream",
     "text": [
      "Qtd de bairros com poucas observações: 103\n"
     ]
    }
   ],
   "source": [
    "print 'Qtd de bairros com poucas observações: {}'.format(len(bairro_less))"
   ]
  },
  {
   "cell_type": "code",
   "execution_count": 26,
   "metadata": {
    "collapsed": false,
    "scrolled": true
   },
   "outputs": [],
   "source": [
    "# Bairros com mais observações que qtd de variáveis.\n",
    "bairro_more = x[x>df.shape[1]]"
   ]
  },
  {
   "cell_type": "code",
   "execution_count": 27,
   "metadata": {
    "collapsed": false
   },
   "outputs": [
    {
     "name": "stdout",
     "output_type": "stream",
     "text": [
      "Qtd de bairros com mais observações: 51\n"
     ]
    }
   ],
   "source": [
    "print 'Qtd de bairros com mais observações: {}'.format(len(bairro_more))"
   ]
  },
  {
   "cell_type": "markdown",
   "metadata": {},
   "source": [
    "## 4.2 Remover bairros com poucas observações"
   ]
  },
  {
   "cell_type": "code",
   "execution_count": 28,
   "metadata": {
    "collapsed": true
   },
   "outputs": [],
   "source": [
    "df_m3 = z.prep_statsmodels(df)"
   ]
  },
  {
   "cell_type": "code",
   "execution_count": 29,
   "metadata": {
    "collapsed": false,
    "scrolled": true
   },
   "outputs": [
    {
     "name": "stdout",
     "output_type": "stream",
     "text": [
      "Antes da remoção, m = 28111, n = 229\n"
     ]
    }
   ],
   "source": [
    "print 'Antes da remoção, m = {}, n = {}'.format(df_m3.shape[0], df_m3.shape[1])"
   ]
  },
  {
   "cell_type": "code",
   "execution_count": 30,
   "metadata": {
    "collapsed": false
   },
   "outputs": [],
   "source": [
    "df_m3 = df_m3[~df.bairro_g.isin(bairro_less.index.tolist())].copy()\n",
    "for i in bairro_less.index.tolist():\n",
    "    del df_m3[i]\n"
   ]
  },
  {
   "cell_type": "code",
   "execution_count": 31,
   "metadata": {
    "collapsed": false,
    "scrolled": true
   },
   "outputs": [
    {
     "name": "stdout",
     "output_type": "stream",
     "text": [
      "Depois da remoção, m = 26704, n = 126\n"
     ]
    }
   ],
   "source": [
    "print 'Depois da remoção, m = {}, n = {}'.format(df_m3.shape[0], df_m3.shape[1])"
   ]
  },
  {
   "cell_type": "code",
   "execution_count": 32,
   "metadata": {
    "collapsed": false
   },
   "outputs": [
    {
     "name": "stdout",
     "output_type": "stream",
     "text": [
      "Qtd de variáveis constantes: 0\n"
     ]
    }
   ],
   "source": [
    "# Verificar variáveis constantes.\n",
    "const = df_m3.columns[df_m3.std() < 0.001]\n",
    "print 'Qtd de variáveis constantes: {}'.format(len(const))"
   ]
  },
  {
   "cell_type": "code",
   "execution_count": 33,
   "metadata": {
    "collapsed": false
   },
   "outputs": [
    {
     "name": "stdout",
     "output_type": "stream",
     "text": [
      "CPU times: user 7.68 s, sys: 789 ms, total: 8.46 s\n",
      "Wall time: 6.63 s\n"
     ]
    }
   ],
   "source": [
    "%%time\n",
    "\n",
    "save_result('m3', z.run_model(df_m3,K_FOLDS))\n"
   ]
  },
  {
   "cell_type": "code",
   "execution_count": 34,
   "metadata": {
    "collapsed": false
   },
   "outputs": [],
   "source": [
    "lm,_,_ = z.ols(df_m3,avoid_plow=True, remove_plow_by_step=True)\n",
    "to_html(lm,'m3')\n",
    "del df_m3"
   ]
  },
  {
   "cell_type": "code",
   "execution_count": 35,
   "metadata": {
    "collapsed": false
   },
   "outputs": [
    {
     "data": {
      "image/png": "[encoded data removed]",
      "text/plain": [
       "<matplotlib.figure.Figure at 0x109ef9c90>"
      ]
     },
     "metadata": {},
     "output_type": "display_data"
    }
   ],
   "source": [
    "plot_score()"
   ]
  },
  {
   "cell_type": "code",
   "execution_count": 36,
   "metadata": {
    "collapsed": false
   },
   "outputs": [
    {
     "data": {
      "image/png": "[encoded data removed]",
      "text/plain": [
       "<matplotlib.figure.Figure at 0x10ac43650>"
      ]
     },
     "metadata": {},
     "output_type": "display_data"
    }
   ],
   "source": [
    "plot_rmser2()"
   ]
  },
  {
   "cell_type": "markdown",
   "metadata": {},
   "source": [
    "# 5. Remover variáveis correlacionadas"
   ]
  },
  {
   "cell_type": "markdown",
   "metadata": {},
   "source": [
    "## 5.1 Verificar correlação absoluta com preço"
   ]
  },
  {
   "cell_type": "code",
   "execution_count": 37,
   "metadata": {
    "collapsed": false,
    "scrolled": true
   },
   "outputs": [
    {
     "data": {
      "image/png": "[encoded data removed]",
      "text/plain": [
       "<matplotlib.figure.Figure at 0x109fca110>"
      ]
     },
     "metadata": {},
     "output_type": "display_data"
    }
   ],
   "source": [
    "\n",
    "dcorr = {}\n",
    "for var in df.columns:\n",
    "    if var not in ['bairro_g','preco']:\n",
    "        dcorr[var] = corrcoef(df.preco,df[var])[0][1]\n",
    "dcorrabs = z.pd.Series(dcorr).abs()\n",
    "dcorrabs.sort(ascending=False);\n",
    "dcorrabs.plot(kind='bar', figsize=(18,6));"
   ]
  },
  {
   "cell_type": "markdown",
   "metadata": {},
   "source": [
    "## 5.2 Identificar variáveis correlacionadas"
   ]
  },
  {
   "cell_type": "code",
   "execution_count": 38,
   "metadata": {
    "collapsed": false,
    "scrolled": true
   },
   "outputs": [
    {
     "name": "stdout",
     "output_type": "stream",
     "text": [
      "Coluna               | Autocorrelacionada com                            \n",
      "se_anos_estudo       : ['se_renda(0.86)', 'se_idh(0.94)', 'se_perc_alfabetizacao(0.85)']\n",
      "dist_delegacia       : ['dist_metro(0.85)']                              \n",
      "dist_centro_lng      : ['lng(-1.00)', 'dist_centro(0.97)', 'dist_metro(0.89)']\n",
      "se_saneamento        : ['dist_centro_lng(-0.81)', 'lng(0.81)', 'dist_metro(-0.81)']\n",
      "lng                  : ['dist_centro(-0.97)', 'dist_metro(-0.89)']       \n",
      "dist_centro          : ['dist_metro(0.94)']                              \n",
      "se_idh               : ['se_perc_alfabetizacao(0.83)']                   \n",
      "dist_trem            : ['dist_centro_lat(0.90)']                         \n",
      "dist_lagoa           : ['lat(0.91)']                                     \n"
     ]
    }
   ],
   "source": [
    "# Identificação inicial das variáeis correlacionadas.\n",
    "z.print_autocorr(df,[])"
   ]
  },
  {
   "cell_type": "markdown",
   "metadata": {},
   "source": [
    "## 5.3 Remover variávies correlacionadas de menor correlação com preço: m4"
   ]
  },
  {
   "cell_type": "code",
   "execution_count": 39,
   "metadata": {
    "collapsed": false
   },
   "outputs": [
    {
     "data": {
      "text/plain": [
       "dist_delegacia           0.059389\n",
       "dist_metro               0.112188\n",
       "dist_centro              0.152582\n",
       "se_saneamento            0.196676\n",
       "dist_centro_lng          0.275108\n",
       "lng                      0.276008\n",
       "dist_trem                0.330050\n",
       "dist_centro_lat          0.375193\n",
       "se_perc_alfabetizacao    0.392501\n",
       "lat                      0.475684\n",
       "dist_lagoa               0.503342\n",
       "se_idh                   0.527971\n",
       "se_anos_estudo           0.559080\n",
       "se_renda                 0.685542\n",
       "dtype: float64"
      ]
     },
     "execution_count": 39,
     "metadata": {},
     "output_type": "execute_result"
    }
   ],
   "source": [
    "# Ordenar variáveis por correlação com preço.\n",
    "\n",
    "# Dicionário de variáveis correlacionadas.\n",
    "vars_ac = z.vars_corr(df.corr(), CORR_THRESHOLD)\n",
    "\n",
    "# Transformar os valores do dict em uma lista só.\n",
    "vars_coef = reduce(lambda x,y : x+y,  vars_ac.values())\n",
    "\n",
    "# Extrair somente o nome.\n",
    "vars_ = [i[:i.find('(')] for i in vars_coef] \n",
    "\n",
    "# Unir com demais variáveis keys do dict. \n",
    "vars_ = list(set(vars_).union(set(vars_ac.keys())))\n",
    "\n",
    "# Recuperar correlação com preço.\n",
    "vars_ac = dcorrabs[vars_]\n",
    "\n",
    "# Ordernar por correlação com preço.\n",
    "vars_ac.sort()\n",
    "\n",
    "# Excluir variáveis temporárias.\n",
    "del vars_, vars_coef\n",
    "\n",
    "# Exibir lista final.\n",
    "vars_ac\n"
   ]
  },
  {
   "cell_type": "code",
   "execution_count": 40,
   "metadata": {
    "collapsed": false
   },
   "outputs": [
    {
     "name": "stdout",
     "output_type": "stream",
     "text": [
      "Coluna               | Autocorrelacionada com                            \n",
      "dist_lagoa           : ['lat(0.91)']                                     \n"
     ]
    }
   ],
   "source": [
    "# Refinamento da correlação.\n",
    "vars_auto_corr1 = ['dist_delegacia','dist_metro','dist_centro','se_saneamento',\n",
    "    'dist_centro_lng','dist_trem','se_perc_alfabetizacao', 'se_anos_estudo']\n",
    "\n",
    "z.print_autocorr(df,vars_auto_corr1,CORR_THRESHOLD)"
   ]
  },
  {
   "cell_type": "code",
   "execution_count": 41,
   "metadata": {
    "collapsed": false
   },
   "outputs": [
    {
     "name": "stdout",
     "output_type": "stream",
     "text": [
      "Quantidade de variáveis correlacionadas: 8\n"
     ]
    }
   ],
   "source": [
    "print 'Quantidade de variáveis correlacionadas: {}'.format(len(vars_auto_corr1))"
   ]
  },
  {
   "cell_type": "code",
   "execution_count": 42,
   "metadata": {
    "collapsed": false
   },
   "outputs": [
    {
     "name": "stdout",
     "output_type": "stream",
     "text": [
      "Quantidade total de variáveis: 75\n"
     ]
    }
   ],
   "source": [
    "print 'Quantidade total de variáveis: {}'.format( len(df.columns))"
   ]
  },
  {
   "cell_type": "code",
   "execution_count": 43,
   "metadata": {
    "collapsed": false
   },
   "outputs": [],
   "source": [
    "df_m4 = z.prep_statsmodels(df)"
   ]
  },
  {
   "cell_type": "code",
   "execution_count": 44,
   "metadata": {
    "collapsed": false,
    "scrolled": true
   },
   "outputs": [
    {
     "name": "stdout",
     "output_type": "stream",
     "text": [
      "Antes da remoção, m = 28111, n = 229\n"
     ]
    }
   ],
   "source": [
    "print 'Antes da remoção, m = {}, n = {}'.format(df_m4.shape[0], df_m4.shape[1])"
   ]
  },
  {
   "cell_type": "code",
   "execution_count": 45,
   "metadata": {
    "collapsed": false
   },
   "outputs": [
    {
     "name": "stdout",
     "output_type": "stream",
     "text": [
      "Erro ao tentar excluir dist_centro_lng.\n",
      "Erro ao tentar excluir se_anos_estudo.\n"
     ]
    }
   ],
   "source": [
    "for i in vars_auto_corr1:\n",
    "    try:\n",
    "        del df_m4[i]\n",
    "    except:\n",
    "        print 'Erro ao tentar excluir {}.'.format(i)"
   ]
  },
  {
   "cell_type": "code",
   "execution_count": 46,
   "metadata": {
    "collapsed": false
   },
   "outputs": [
    {
     "name": "stdout",
     "output_type": "stream",
     "text": [
      "Qtd de variáveis constantes: 0\n"
     ]
    }
   ],
   "source": [
    "# Verificar variáveis constantes.\n",
    "const = df_m4.columns[df_m4.std() == 0]\n",
    "print 'Qtd de variáveis constantes: {}'.format(len(const))"
   ]
  },
  {
   "cell_type": "code",
   "execution_count": 47,
   "metadata": {
    "collapsed": false,
    "scrolled": true
   },
   "outputs": [
    {
     "name": "stdout",
     "output_type": "stream",
     "text": [
      "Depois da remoção, m = 28111, n = 223\n"
     ]
    }
   ],
   "source": [
    "print 'Depois da remoção, m = {}, n = {}'.format(df_m4.shape[0], df_m4.shape[1])"
   ]
  },
  {
   "cell_type": "code",
   "execution_count": 48,
   "metadata": {
    "collapsed": false
   },
   "outputs": [
    {
     "name": "stdout",
     "output_type": "stream",
     "text": [
      "CPU times: user 26.3 s, sys: 2.66 s, total: 28.9 s\n",
      "Wall time: 23.2 s\n"
     ]
    }
   ],
   "source": [
    "%%time\n",
    "\n",
    "save_result('m4', z.run_model(df_m4,K_FOLDS))\n"
   ]
  },
  {
   "cell_type": "code",
   "execution_count": 49,
   "metadata": {
    "collapsed": false
   },
   "outputs": [],
   "source": [
    "lm,_,_ = z.ols(df_m4,avoid_plow=True, remove_plow_by_step=True)\n",
    "to_html(lm,'m4')\n",
    "del df_m4"
   ]
  },
  {
   "cell_type": "code",
   "execution_count": 50,
   "metadata": {
    "collapsed": false
   },
   "outputs": [
    {
     "data": {
      "image/png": "[encoded data removed]",
      "text/plain": [
       "<matplotlib.figure.Figure at 0x10b8dd090>"
      ]
     },
     "metadata": {},
     "output_type": "display_data"
    }
   ],
   "source": [
    "plot_score()"
   ]
  },
  {
   "cell_type": "code",
   "execution_count": 51,
   "metadata": {
    "collapsed": false
   },
   "outputs": [
    {
     "data": {
      "image/png": "[encoded data removed]",
      "text/plain": [
       "<matplotlib.figure.Figure at 0x10bacbed0>"
      ]
     },
     "metadata": {},
     "output_type": "display_data"
    }
   ],
   "source": [
    "plot_rmser2()"
   ]
  },
  {
   "cell_type": "markdown",
   "metadata": {},
   "source": [
    "## 5.4 Remover variávies correlacionadas por quantidade de ocorrencia: m5"
   ]
  },
  {
   "cell_type": "code",
   "execution_count": 52,
   "metadata": {
    "collapsed": false
   },
   "outputs": [
    {
     "data": {
      "text/plain": [
       "dist_metro               5\n",
       "dist_centro_lng          4\n",
       "dist_centro              2\n",
       "se_idh                   2\n",
       "se_saneamento            2\n",
       "se_perc_alfabetizacao    2\n",
       "dist_lagoa               1\n",
       "dist_trem                1\n",
       "lng                      1\n",
       "lat                      1\n",
       "se_renda                 1\n",
       "dist_centro_lat          1\n",
       "dist_delegacia           1\n",
       "se_anos_estudo           1\n",
       "dtype: int64"
      ]
     },
     "execution_count": 52,
     "metadata": {},
     "output_type": "execute_result"
    }
   ],
   "source": [
    "# Ordenar variáveis por ocorrência.\n",
    "vars_ac = z.vars_corr(df.corr(), CORR_THRESHOLD)\n",
    "vars_coef = reduce(lambda x,y : x+y,  vars_ac.values())\n",
    "vars_ = [i[:i.find('(')] for i in vars_coef] + vars_ac.keys()\n",
    "vars_ = z.pd.Series(vars_)\n",
    "vars_.value_counts()\n"
   ]
  },
  {
   "cell_type": "code",
   "execution_count": 53,
   "metadata": {
    "collapsed": false
   },
   "outputs": [
    {
     "name": "stdout",
     "output_type": "stream",
     "text": [
      "Coluna               | Autocorrelacionada com                            \n",
      "se_saneamento        : ['lng(0.81)']                                     \n",
      "lng                  : ['dist_centro(-0.97)']                            \n",
      "dist_lagoa           : ['lat(0.91)']                                     \n"
     ]
    }
   ],
   "source": [
    "# Refinamento da correlação.\n",
    "vars_auto_corr2 = ['dist_metro','dist_centro_lng', \n",
    "    'se_idh','se_perc_alfabetizacao','dist_trem', 'se_anos_estudo']\n",
    "vars_auto_corr2.sort()\n",
    "z.print_autocorr(df,vars_auto_corr2,CORR_THRESHOLD)"
   ]
  },
  {
   "cell_type": "code",
   "execution_count": 54,
   "metadata": {
    "collapsed": false
   },
   "outputs": [
    {
     "name": "stdout",
     "output_type": "stream",
     "text": [
      "Quantidade de variáveis correlacionadas: 6\n"
     ]
    }
   ],
   "source": [
    "print 'Quantidade de variáveis correlacionadas: {}'.format(len(vars_auto_corr2))"
   ]
  },
  {
   "cell_type": "code",
   "execution_count": 55,
   "metadata": {
    "collapsed": false
   },
   "outputs": [
    {
     "name": "stdout",
     "output_type": "stream",
     "text": [
      "Quantidade total de variáveis: 75\n"
     ]
    }
   ],
   "source": [
    "print 'Quantidade total de variáveis: {}'.format( len(df.columns))"
   ]
  },
  {
   "cell_type": "code",
   "execution_count": 56,
   "metadata": {
    "collapsed": false
   },
   "outputs": [],
   "source": [
    "df_m5 = z.prep_statsmodels(df)\n"
   ]
  },
  {
   "cell_type": "code",
   "execution_count": 57,
   "metadata": {
    "collapsed": false,
    "scrolled": true
   },
   "outputs": [
    {
     "name": "stdout",
     "output_type": "stream",
     "text": [
      "Antes da remoção, m = 28111, n = 229\n"
     ]
    }
   ],
   "source": [
    "print 'Antes da remoção, m = {}, n = {}'.format(df_m5.shape[0], df_m5.shape[1])"
   ]
  },
  {
   "cell_type": "code",
   "execution_count": 58,
   "metadata": {
    "collapsed": false
   },
   "outputs": [
    {
     "name": "stdout",
     "output_type": "stream",
     "text": [
      "Erro ao tentar excluir variavel dist_centro_lng.\n",
      "Erro ao tentar excluir variavel se_anos_estudo.\n"
     ]
    }
   ],
   "source": [
    "for i in vars_auto_corr2:\n",
    "    try:\n",
    "        del df_m5[i]\n",
    "    except:\n",
    "        print 'Erro ao tentar excluir variavel {}.'.format(i)\n"
   ]
  },
  {
   "cell_type": "code",
   "execution_count": 59,
   "metadata": {
    "collapsed": false
   },
   "outputs": [
    {
     "name": "stdout",
     "output_type": "stream",
     "text": [
      "Qtd de variáveis constantes: 0\n"
     ]
    }
   ],
   "source": [
    "# Verificar variáveis constantes.\n",
    "const = df_m5.columns[df_m5.std() == 0]\n",
    "print 'Qtd de variáveis constantes: {}'.format(len(const))"
   ]
  },
  {
   "cell_type": "code",
   "execution_count": 60,
   "metadata": {
    "collapsed": false,
    "scrolled": true
   },
   "outputs": [
    {
     "name": "stdout",
     "output_type": "stream",
     "text": [
      "Depois da remoção, m = 28111, n = 225\n"
     ]
    }
   ],
   "source": [
    "print 'Depois da remoção, m = {}, n = {}'.format(df_m5.shape[0], df_m5.shape[1])"
   ]
  },
  {
   "cell_type": "code",
   "execution_count": 61,
   "metadata": {
    "collapsed": false
   },
   "outputs": [
    {
     "name": "stdout",
     "output_type": "stream",
     "text": [
      "CPU times: user 23.7 s, sys: 2.32 s, total: 26 s\n",
      "Wall time: 19.6 s\n"
     ]
    }
   ],
   "source": [
    "%%time\n",
    "\n",
    "save_result('m5', z.run_model(df_m5,K_FOLDS))\n"
   ]
  },
  {
   "cell_type": "code",
   "execution_count": 62,
   "metadata": {
    "collapsed": false
   },
   "outputs": [],
   "source": [
    "lm,_,_ = z.ols(df_m5,avoid_plow=True, remove_plow_by_step=True)\n",
    "to_html(lm,'m5')\n",
    "del df_m5"
   ]
  },
  {
   "cell_type": "code",
   "execution_count": 63,
   "metadata": {
    "collapsed": false
   },
   "outputs": [
    {
     "data": {
      "image/png": "[encoded data removed]",
      "text/plain": [
       "<matplotlib.figure.Figure at 0x10b27ed90>"
      ]
     },
     "metadata": {},
     "output_type": "display_data"
    }
   ],
   "source": [
    "plot_score()"
   ]
  },
  {
   "cell_type": "code",
   "execution_count": 64,
   "metadata": {
    "collapsed": false
   },
   "outputs": [
    {
     "data": {
      "image/png": "[encoded data removed]",
      "text/plain": [
       "<matplotlib.figure.Figure at 0x10b00a390>"
      ]
     },
     "metadata": {},
     "output_type": "display_data"
    }
   ],
   "source": [
    "plot_rmser2()"
   ]
  },
  {
   "cell_type": "markdown",
   "metadata": {},
   "source": [
    "# 6. Lag espacial sem bairros: m6"
   ]
  },
  {
   "cell_type": "code",
   "execution_count": 65,
   "metadata": {
    "collapsed": true
   },
   "outputs": [],
   "source": [
    "w = z.getW()"
   ]
  },
  {
   "cell_type": "code",
   "execution_count": 66,
   "metadata": {
    "collapsed": false
   },
   "outputs": [],
   "source": [
    "df_m6 = z.prep_statsmodels(df, False)\n",
    "del df_m6['bairro_g']\n",
    "df_m6['preco_lag'] = pysal.lag_spatial(w, df_m6.preco)"
   ]
  },
  {
   "cell_type": "code",
   "execution_count": 67,
   "metadata": {
    "collapsed": false
   },
   "outputs": [
    {
     "data": {
      "text/plain": [
       "(28111, 76)"
      ]
     },
     "execution_count": 67,
     "metadata": {},
     "output_type": "execute_result"
    }
   ],
   "source": [
    "df_m6.shape"
   ]
  },
  {
   "cell_type": "code",
   "execution_count": 68,
   "metadata": {
    "collapsed": false,
    "scrolled": true
   },
   "outputs": [
    {
     "name": "stdout",
     "output_type": "stream",
     "text": [
      "CPU times: user 4.07 s, sys: 595 ms, total: 4.67 s\n",
      "Wall time: 3.89 s\n"
     ]
    }
   ],
   "source": [
    "%%time\n",
    "save_result('m6', z.run_model(df_m6,K_FOLDS))\n"
   ]
  },
  {
   "cell_type": "code",
   "execution_count": 69,
   "metadata": {
    "collapsed": false
   },
   "outputs": [],
   "source": [
    "lm,_,_ = z.ols(df_m6,avoid_plow=True, remove_plow_by_step=True)\n",
    "to_html(lm,'m6')\n",
    "del df_m6"
   ]
  },
  {
   "cell_type": "code",
   "execution_count": 70,
   "metadata": {
    "collapsed": false
   },
   "outputs": [
    {
     "data": {
      "image/png": "[encoded data removed]",
      "text/plain": [
       "<matplotlib.figure.Figure at 0x10b5ca8d0>"
      ]
     },
     "metadata": {},
     "output_type": "display_data"
    }
   ],
   "source": [
    "plot_score()"
   ]
  },
  {
   "cell_type": "code",
   "execution_count": 71,
   "metadata": {
    "collapsed": false
   },
   "outputs": [
    {
     "data": {
      "image/png": "[encoded data removed]",
      "text/plain": [
       "<matplotlib.figure.Figure at 0x10ac0ed10>"
      ]
     },
     "metadata": {},
     "output_type": "display_data"
    }
   ],
   "source": [
    "plot_rmser2()"
   ]
  },
  {
   "cell_type": "markdown",
   "metadata": {},
   "source": [
    "# 7. Lag espacial com bairros: m7"
   ]
  },
  {
   "cell_type": "code",
   "execution_count": 72,
   "metadata": {
    "collapsed": false
   },
   "outputs": [
    {
     "data": {
      "text/plain": [
       "(28111, 229)"
      ]
     },
     "execution_count": 72,
     "metadata": {},
     "output_type": "execute_result"
    }
   ],
   "source": [
    "df_m7 = z.prep_statsmodels(df)\n",
    "df_m7.shape"
   ]
  },
  {
   "cell_type": "code",
   "execution_count": 73,
   "metadata": {
    "collapsed": false
   },
   "outputs": [
    {
     "name": "stdout",
     "output_type": "stream",
     "text": [
      "CPU times: user 33.5 s, sys: 3.9 s, total: 37.4 s\n",
      "Wall time: 31.2 s\n"
     ]
    }
   ],
   "source": [
    "%%time\n",
    "save_result('m7', z.run_model(df_m7, K_FOLDS))"
   ]
  },
  {
   "cell_type": "code",
   "execution_count": 74,
   "metadata": {
    "collapsed": true
   },
   "outputs": [],
   "source": [
    "lm,_,_ = z.ols(df_m7,avoid_plow=True, remove_plow_by_step=True)\n",
    "to_html(lm,'m7')\n",
    "del df_m7"
   ]
  },
  {
   "cell_type": "code",
   "execution_count": 75,
   "metadata": {
    "collapsed": false
   },
   "outputs": [
    {
     "data": {
      "image/png": "[encoded data removed]",
      "text/plain": [
       "<matplotlib.figure.Figure at 0x10a8cb250>"
      ]
     },
     "metadata": {},
     "output_type": "display_data"
    }
   ],
   "source": [
    "plot_score()"
   ]
  },
  {
   "cell_type": "code",
   "execution_count": 76,
   "metadata": {
    "collapsed": false
   },
   "outputs": [
    {
     "data": {
      "text/plain": [
       "(0.155, 0.165)"
      ]
     },
     "execution_count": 76,
     "metadata": {},
     "output_type": "execute_result"
    },
    {
     "data": {
      "image/png": "[encoded data removed]",
      "text/plain": [
       "<matplotlib.figure.Figure at 0x109f9ded0>"
      ]
     },
     "metadata": {},
     "output_type": "display_data"
    }
   ],
   "source": [
    "plot_rmser2()\n",
    "xlim(315,322)\n",
    "ylim(0.155,0.165)"
   ]
  },
  {
   "cell_type": "markdown",
   "metadata": {},
   "source": [
    "# 8. Lag espacial sem variáveis correlacionadas"
   ]
  },
  {
   "cell_type": "markdown",
   "metadata": {},
   "source": [
    "## 8.1 Remover variáveis correlacionadas de menor correlação com preço: m8"
   ]
  },
  {
   "cell_type": "code",
   "execution_count": 77,
   "metadata": {
    "collapsed": true
   },
   "outputs": [],
   "source": [
    "df_m8 = z.prep_statsmodels(df)"
   ]
  },
  {
   "cell_type": "code",
   "execution_count": 78,
   "metadata": {
    "collapsed": false
   },
   "outputs": [
    {
     "name": "stdout",
     "output_type": "stream",
     "text": [
      "Erro ao tentar excluir dist_centro_lng.\n",
      "Erro ao tentar excluir se_anos_estudo.\n"
     ]
    },
    {
     "data": {
      "text/plain": [
       "(28111, 223)"
      ]
     },
     "execution_count": 78,
     "metadata": {},
     "output_type": "execute_result"
    }
   ],
   "source": [
    "df_m8 = z.prep_statsmodels(df)\n",
    "for i in vars_auto_corr1:\n",
    "    try:\n",
    "        del df_m8[i]\n",
    "    except:\n",
    "        print 'Erro ao tentar excluir {}.'.format(i)\n",
    "df_m8.shape"
   ]
  },
  {
   "cell_type": "code",
   "execution_count": 79,
   "metadata": {
    "collapsed": false
   },
   "outputs": [
    {
     "data": {
      "text/plain": [
       "Series([], dtype: float64)"
      ]
     },
     "execution_count": 79,
     "metadata": {},
     "output_type": "execute_result"
    }
   ],
   "source": [
    "# Verificar se tem constantes\n",
    "std_ = df_m8.std()\n",
    "std_[std_<0.001]"
   ]
  },
  {
   "cell_type": "code",
   "execution_count": 80,
   "metadata": {
    "collapsed": false
   },
   "outputs": [
    {
     "name": "stdout",
     "output_type": "stream",
     "text": [
      "CPU times: user 23.1 s, sys: 2.16 s, total: 25.3 s\n",
      "Wall time: 18.8 s\n"
     ]
    }
   ],
   "source": [
    "%%time\n",
    "\n",
    "save_result('m8', z.run_model(df_m8,K_FOLDS))\n"
   ]
  },
  {
   "cell_type": "code",
   "execution_count": 81,
   "metadata": {
    "collapsed": true
   },
   "outputs": [],
   "source": [
    "lm,_,_ = z.ols(df_m8,avoid_plow=True, remove_plow_by_step=True)\n",
    "to_html(lm,'m8')\n",
    "del df_m8"
   ]
  },
  {
   "cell_type": "code",
   "execution_count": 82,
   "metadata": {
    "collapsed": false
   },
   "outputs": [
    {
     "data": {
      "image/png": "[encoded data removed]",
      "text/plain": [
       "<matplotlib.figure.Figure at 0x10a8b3950>"
      ]
     },
     "metadata": {},
     "output_type": "display_data"
    }
   ],
   "source": [
    "plot_score()"
   ]
  },
  {
   "cell_type": "code",
   "execution_count": 83,
   "metadata": {
    "collapsed": false
   },
   "outputs": [
    {
     "data": {
      "text/plain": [
       "(315, 325)"
      ]
     },
     "execution_count": 83,
     "metadata": {},
     "output_type": "execute_result"
    },
    {
     "data": {
      "image/png": "[encoded data removed]",
      "text/plain": [
       "<matplotlib.figure.Figure at 0x113e565d0>"
      ]
     },
     "metadata": {},
     "output_type": "display_data"
    }
   ],
   "source": [
    "plot_rmser2()\n",
    "ylim(0.155,0.17)\n",
    "xlim(315,325)"
   ]
  },
  {
   "cell_type": "markdown",
   "metadata": {},
   "source": [
    "## 8.2 Remover variaveis correlacionadas por quantidade: m9"
   ]
  },
  {
   "cell_type": "code",
   "execution_count": 84,
   "metadata": {
    "collapsed": true
   },
   "outputs": [],
   "source": [
    "df_m9 = z.prep_statsmodels(df)"
   ]
  },
  {
   "cell_type": "code",
   "execution_count": 85,
   "metadata": {
    "collapsed": false
   },
   "outputs": [
    {
     "name": "stdout",
     "output_type": "stream",
     "text": [
      "Erro ao tentar excluir dist_centro_lng.\n",
      "Erro ao tentar excluir se_anos_estudo.\n"
     ]
    },
    {
     "data": {
      "text/plain": [
       "(28111, 223)"
      ]
     },
     "execution_count": 85,
     "metadata": {},
     "output_type": "execute_result"
    }
   ],
   "source": [
    "df_m9 = z.prep_statsmodels(df)\n",
    "for i in vars_auto_corr1:\n",
    "    try:\n",
    "        del df_m9[i]\n",
    "    except:\n",
    "        print 'Erro ao tentar excluir {}.'.format(i)\n",
    "df_m9.shape"
   ]
  },
  {
   "cell_type": "code",
   "execution_count": 86,
   "metadata": {
    "collapsed": false
   },
   "outputs": [
    {
     "data": {
      "text/plain": [
       "Series([], dtype: float64)"
      ]
     },
     "execution_count": 86,
     "metadata": {},
     "output_type": "execute_result"
    }
   ],
   "source": [
    "# Verificar se tem constantes\n",
    "std_ = df_m9.std()\n",
    "std_[std_<0.001]"
   ]
  },
  {
   "cell_type": "code",
   "execution_count": 87,
   "metadata": {
    "collapsed": false,
    "scrolled": true
   },
   "outputs": [
    {
     "name": "stdout",
     "output_type": "stream",
     "text": [
      "CPU times: user 26.2 s, sys: 2.88 s, total: 29.1 s\n",
      "Wall time: 22.9 s\n"
     ]
    }
   ],
   "source": [
    "%%time\n",
    "save_result('m9', z.run_model(df_m9,K_FOLDS))"
   ]
  },
  {
   "cell_type": "code",
   "execution_count": 88,
   "metadata": {
    "collapsed": true
   },
   "outputs": [],
   "source": [
    "lm,_,_ = z.ols(df_m9,avoid_plow=True, remove_plow_by_step=True)\n",
    "to_html(lm,'m9')\n",
    "del df_m9"
   ]
  },
  {
   "cell_type": "code",
   "execution_count": 89,
   "metadata": {
    "collapsed": false
   },
   "outputs": [
    {
     "data": {
      "image/png": "[encoded data removed]",
      "text/plain": [
       "<matplotlib.figure.Figure at 0x127862590>"
      ]
     },
     "metadata": {},
     "output_type": "display_data"
    }
   ],
   "source": [
    "plot_score()"
   ]
  },
  {
   "cell_type": "code",
   "execution_count": 90,
   "metadata": {
    "collapsed": false
   },
   "outputs": [
    {
     "data": {
      "image/png": "[encoded data removed]",
      "text/plain": [
       "<matplotlib.figure.Figure at 0x10b2ebe90>"
      ]
     },
     "metadata": {},
     "output_type": "display_data"
    }
   ],
   "source": [
    "plot_rmser2()\n",
    "xlim(317,320);\n",
    "ylim(0.155,0.17);"
   ]
  },
  {
   "cell_type": "markdown",
   "metadata": {},
   "source": [
    "# 9. Seleção manual: m10"
   ]
  },
  {
   "cell_type": "markdown",
   "metadata": {},
   "source": [
    "## 9.1 Identificar variáveis correlacionadas"
   ]
  },
  {
   "cell_type": "markdown",
   "metadata": {},
   "source": [
    "### 9.1.1 Acessiblidade"
   ]
  },
  {
   "cell_type": "code",
   "execution_count": 40,
   "metadata": {
    "collapsed": false
   },
   "outputs": [
    {
     "name": "stdout",
     "output_type": "stream",
     "text": [
      "Coluna               | Autocorrelacionada com                            \n",
      "se_crm_violento      : ['se_perc_alfabetizacao(-0.88)', 'se_renda(-0.88)', 'se_idh(-0.88)']\n",
      "se_renda             : ['se_idh(0.95)', 'se_crm_roubo(-0.95)']           \n",
      "se_anos_estudo       : ['se_crm_violento(-0.90)', 'se_perc_alfabetizacao(0.96)', 'se_renda(0.97)', 'se_idh(0.99)', 'se_crm_roubo(-0.95)']\n",
      "se_idh               : ['se_crm_roubo(-0.94)']                           \n",
      "se_perc_alfabetizacao : ['se_renda(0.89)', 'se_idh(0.97)', 'se_crm_roubo(-0.86)']\n"
     ]
    }
   ],
   "source": [
    "vars_se = [i for i in df.columns if i.find('se_') > -1]\n",
    "df_se = df[vars_se]\n",
    "corr_se = df_se.corr()\n",
    "z.print_autocorr(corr_se)"
   ]
  },
  {
   "cell_type": "code",
   "execution_count": 41,
   "metadata": {
    "collapsed": false
   },
   "outputs": [
    {
     "name": "stdout",
     "output_type": "stream",
     "text": [
      "Nao ha colunas correlacionadas entre si.\n"
     ]
    }
   ],
   "source": [
    "vars_ig_se = ['se_renda', 'se_perc_alfabetizacao','se_anos_estudo',\n",
    "              'se_crm_violento','se_crm_roubo','se_saneamento']\n",
    "z.print_autocorr(corr_se, vars_ig_se)"
   ]
  },
  {
   "cell_type": "code",
   "execution_count": 42,
   "metadata": {
    "collapsed": true
   },
   "outputs": [],
   "source": [
    "del vars_se,df_se,corr_se"
   ]
  },
  {
   "cell_type": "markdown",
   "metadata": {},
   "source": [
    "### 9.1.2 Distância"
   ]
  },
  {
   "cell_type": "code",
   "execution_count": 43,
   "metadata": {
    "collapsed": false
   },
   "outputs": [
    {
     "name": "stdout",
     "output_type": "stream",
     "text": [
      "Coluna               | Autocorrelacionada com                            \n",
      "dist_saude_publica   : ['dist_centro_lat(0.80)', 'dist_trem(0.87)', 'dist_lagoa(-0.87)']\n",
      "dist_bombeiro        : ['dist_centro_lng(0.81)', 'dist_centro(0.82)']    \n",
      "dist_delegacia       : ['dist_centro(0.91)', 'dist_metro(0.97)', 'dist_centro_lat(0.81)', 'dist_trem(0.89)']\n",
      "dist_centro_lng      : ['dist_centro(0.96)', 'dist_metro(0.87)']         \n",
      "dist_praia           : ['dist_centro_lat(-0.91)', 'dist_trem(-0.84)', 'dist_lagoa(0.84)']\n",
      "dist_centro          : ['dist_metro(0.97)']                              \n",
      "dist_metro           : ['dist_trem(0.84)']                               \n",
      "dist_centro_lat      : ['dist_trem(0.98)', 'dist_lagoa(-0.90)']          \n",
      "dist_trem            : ['dist_lagoa(-0.94)']                             \n"
     ]
    }
   ],
   "source": [
    "vars_dist = [i for i in df.columns if i.find('dist_') > -1]\n",
    "df_dist = df[vars_dist]\n",
    "corr_dist = df_dist.corr()\n",
    "z.print_autocorr(corr_dist)"
   ]
  },
  {
   "cell_type": "code",
   "execution_count": 44,
   "metadata": {
    "collapsed": false
   },
   "outputs": [
    {
     "name": "stdout",
     "output_type": "stream",
     "text": [
      "Nao ha colunas correlacionadas entre si.\n"
     ]
    }
   ],
   "source": [
    "vars_ig_dist = ['dist_centro_lat','dist_centro_lng','dist_saude_publica',\n",
    "         'dist_bombeiro','dist_delegacia','dist_trem','dist_lagoa','dist_metro']\n",
    "\n",
    "z.print_autocorr(corr_dist,vars_ig_dist)"
   ]
  },
  {
   "cell_type": "code",
   "execution_count": 45,
   "metadata": {
    "collapsed": true
   },
   "outputs": [],
   "source": [
    "del vars_dist,df_dist,corr_dist"
   ]
  },
  {
   "cell_type": "markdown",
   "metadata": {},
   "source": [
    "### 9.1.3 Variáveis dummies"
   ]
  },
  {
   "cell_type": "code",
   "execution_count": 46,
   "metadata": {
    "collapsed": true
   },
   "outputs": [],
   "source": [
    "vars_dm = [i for i in df.columns if i.find('dm_')>-1]"
   ]
  },
  {
   "cell_type": "code",
   "execution_count": 47,
   "metadata": {
    "collapsed": false
   },
   "outputs": [
    {
     "name": "stdout",
     "output_type": "stream",
     "text": [
      "Coluna               | Autocorrelacionada com                            \n",
      "dm_churrasqueira     : ['dm_sauna(0.89)']                                \n",
      "dm_salao_jogos       : ['dm_churrasqueira(0.81)', 'dm_est_visitantes(0.85)', 'dm_sauna(0.85)']\n",
      "dm_banheira          : ['dm_creche(0.87)', 'dm_est_visitantes(0.83)']    \n",
      "dm_creche            : ['dm_est_visitantes(0.88)']                       \n",
      "dm_duplex            : ['dm_cobertura(0.80)']                            \n",
      "dm_piscina           : ['dm_salao_festas(0.85)', 'dm_salao_jogos(0.84)', 'dm_play(0.81)', 'dm_churrasqueira(0.94)', 'dm_sauna(0.95)']\n",
      "dm_play              : ['dm_churrasqueira(0.81)', 'dm_sauna(0.82)']      \n",
      "dm_salao_festas      : ['dm_play(0.95)', 'dm_churrasqueira(0.85)', 'dm_sauna(0.85)']\n"
     ]
    }
   ],
   "source": [
    "df_dm = df[vars_dm]\n",
    "z.print_autocorr(df_dm.corr())"
   ]
  },
  {
   "cell_type": "code",
   "execution_count": 48,
   "metadata": {
    "collapsed": false
   },
   "outputs": [
    {
     "name": "stdout",
     "output_type": "stream",
     "text": [
      "Nao ha colunas correlacionadas entre si.\n"
     ]
    }
   ],
   "source": [
    "vars_ig_dm = ['dm_churrasqueira','dm_duplex','dm_salao_jogos','dm_est_visitantes',\n",
    "        'dm_salao_festas','dm_banheira','dm_sauna','dm_play']\n",
    "\n",
    "z.print_autocorr(df_dm.corr(), vars_ig_dm)"
   ]
  },
  {
   "cell_type": "code",
   "execution_count": 49,
   "metadata": {
    "collapsed": true
   },
   "outputs": [],
   "source": [
    "del vars_dm,df_dm"
   ]
  },
  {
   "cell_type": "markdown",
   "metadata": {},
   "source": [
    "## 9.2 Executar modelo"
   ]
  },
  {
   "cell_type": "code",
   "execution_count": 65,
   "metadata": {
    "collapsed": true
   },
   "outputs": [],
   "source": [
    "df_m10 = z.prep_statsmodels(df, False)\n",
    "del df_m10['bairro_g']"
   ]
  },
  {
   "cell_type": "code",
   "execution_count": 66,
   "metadata": {
    "collapsed": false
   },
   "outputs": [],
   "source": [
    "vars_ig = vars_ig_se+vars_ig_dm+vars_ig_dist"
   ]
  },
  {
   "cell_type": "code",
   "execution_count": 67,
   "metadata": {
    "collapsed": false,
    "scrolled": true
   },
   "outputs": [
    {
     "name": "stdout",
     "output_type": "stream",
     "text": [
      "Nao ha colunas correlacionadas entre si.\n"
     ]
    }
   ],
   "source": [
    "z.print_autocorr(df_m10, vars_ig)"
   ]
  },
  {
   "cell_type": "code",
   "execution_count": 68,
   "metadata": {
    "collapsed": false
   },
   "outputs": [
    {
     "name": "stdout",
     "output_type": "stream",
     "text": [
      "Variavel se_anos_estudo nao existe no modelo.\n",
      "Variavel dist_centro_lat nao existe no modelo.\n",
      "Variavel dist_centro_lng nao existe no modelo.\n"
     ]
    },
    {
     "data": {
      "text/plain": [
       "(28111, 56)"
      ]
     },
     "execution_count": 68,
     "metadata": {},
     "output_type": "execute_result"
    }
   ],
   "source": [
    "for i in vars_ig:\n",
    "    try:\n",
    "        del df_m10[i]\n",
    "    except Exception:\n",
    "        print 'Variavel {} nao existe no modelo.'.format(i)\n",
    "df_m10.shape"
   ]
  },
  {
   "cell_type": "markdown",
   "metadata": {},
   "source": [
    "## 9.3 Tradicional: m10trad"
   ]
  },
  {
   "cell_type": "code",
   "execution_count": 54,
   "metadata": {
    "collapsed": false
   },
   "outputs": [
    {
     "name": "stdout",
     "output_type": "stream",
     "text": [
      "CPU times: user 2.73 s, sys: 426 ms, total: 3.16 s\n",
      "Wall time: 2.73 s\n"
     ]
    }
   ],
   "source": [
    "%%time\n",
    "save_result('m10trad', z.run_model(df_m10, K_FOLDS))"
   ]
  },
  {
   "cell_type": "code",
   "execution_count": 55,
   "metadata": {
    "collapsed": true
   },
   "outputs": [],
   "source": [
    "lm,_,_ = z.ols(df_m10,avoid_plow=True, remove_plow_by_step=True)\n",
    "to_html(lm,'m10trad')\n"
   ]
  },
  {
   "cell_type": "markdown",
   "metadata": {},
   "source": [
    "### 9.3.1 Lag Espacial: m10lag"
   ]
  },
  {
   "cell_type": "code",
   "execution_count": 69,
   "metadata": {
    "collapsed": false
   },
   "outputs": [],
   "source": [
    "w = z.getW()\n",
    "df_m10['preco_lag'] = pysal.lag_spatial(w,df_m10.preco)"
   ]
  },
  {
   "cell_type": "code",
   "execution_count": null,
   "metadata": {
    "collapsed": false
   },
   "outputs": [],
   "source": [
    "%%time\n",
    "save_result('m10lag', z.run_model(df_m10, K_FOLDS))"
   ]
  },
  {
   "cell_type": "code",
   "execution_count": null,
   "metadata": {
    "collapsed": true
   },
   "outputs": [],
   "source": [
    "lm,_,_ = z.ols(df_m10,avoid_plow=True, remove_plow_by_step=True)\n",
    "to_html(lm,'m10lag')\n",
    "del df_m10"
   ]
  },
  {
   "cell_type": "code",
   "execution_count": 59,
   "metadata": {
    "collapsed": false
   },
   "outputs": [
    {
     "data": {
      "image/png": "[encoded data removed]",
      "text/plain": [
       "<matplotlib.figure.Figure at 0x109ce36d0>"
      ]
     },
     "metadata": {},
     "output_type": "display_data"
    }
   ],
   "source": [
    "plot_score()"
   ]
  },
  {
   "cell_type": "code",
   "execution_count": 60,
   "metadata": {
    "collapsed": false
   },
   "outputs": [
    {
     "data": {
      "image/png": "[encoded data removed]",
      "text/plain": [
       "<matplotlib.figure.Figure at 0x11cc00590>"
      ]
     },
     "metadata": {},
     "output_type": "display_data"
    }
   ],
   "source": [
    "plot_rmser2()"
   ]
  },
  {
   "cell_type": "code",
   "execution_count": 61,
   "metadata": {
    "collapsed": false
   },
   "outputs": [
    {
     "data": {
      "text/plain": [
       "(315, 325)"
      ]
     },
     "execution_count": 61,
     "metadata": {},
     "output_type": "execute_result"
    },
    {
     "data": {
      "image/png": "[encoded data removed]",
      "text/plain": [
       "<matplotlib.figure.Figure at 0x1281e5e50>"
      ]
     },
     "metadata": {},
     "output_type": "display_data"
    }
   ],
   "source": [
    "plot_rmser2()\n",
    "xlim(315,325)"
   ]
  },
  {
   "cell_type": "markdown",
   "metadata": {},
   "source": [
    "# Testes da última regressão\n",
    "\n",
    "http://statsmodels.sourceforge.net/devel/examples/notebooks/generated/regression_diagnostics.html"
   ]
  },
  {
   "cell_type": "markdown",
   "metadata": {},
   "source": [
    "## Normalidade dos resíduos"
   ]
  },
  {
   "cell_type": "code",
   "execution_count": 79,
   "metadata": {
    "collapsed": false
   },
   "outputs": [
    {
     "data": {
      "text/plain": [
       "[('Jarque-Bera', 105065.0729196179),\n",
       " ('Chi^2 two-tail prob.', 0.0),\n",
       " ('Skew', 1.4530117089764092),\n",
       " ('Kurtosis', 12.01416704647791)]"
      ]
     },
     "execution_count": 79,
     "metadata": {},
     "output_type": "execute_result"
    }
   ],
   "source": [
    "\n",
    "import itertools\n",
    "import statsmodels.stats.api as sms\n",
    "from statsmodels.compat import lzip\n",
    "name = ['Jarque-Bera', 'Chi^2 two-tail prob.', 'Skew', 'Kurtosis']\n",
    "test = sms.jarque_bera(lm.resid)\n",
    "lzip(name, test)"
   ]
  },
  {
   "cell_type": "markdown",
   "metadata": {},
   "source": [
    "# Heteroscedasticidade\n",
    "Teste de Breusch-Pagan\n",
    "\n",
    "Baseado no teste multiplicador de Lagrange, o teste de Breusch-Pagan é bastante utilizado para testar a hipótese nula de que as variâncias dos erros são iguais (homoscedasticidade) versus a hipótese alternativa de que as variâncias dos erros são uma função multiplicativa de uma ou mais variáveis, sendo que esta(s) variável(eis) pode(m) pertencer ou não ao modelo em questão."
   ]
  },
  {
   "cell_type": "code",
   "execution_count": 81,
   "metadata": {
    "collapsed": false
   },
   "outputs": [
    {
     "data": {
      "text/plain": [
       "[('Lagrange multiplier statistic', 4581.9736603426018),\n",
       " ('p-value', 0.0),\n",
       " ('f-value', 143.85944847815045),\n",
       " ('f p-value', 0.0)]"
      ]
     },
     "execution_count": 81,
     "metadata": {},
     "output_type": "execute_result"
    }
   ],
   "source": [
    "# Há evidências de que as variâncias não são iguais\n",
    "# Ho é rejeitada se p-value < 0.05\n",
    "name = ['Lagrange multiplier statistic', 'p-value',\n",
    "        'f-value', 'f p-value']\n",
    "test = sms.het_breushpagan(lm.resid, lm.model.exog)\n",
    "lzip(name, test)"
   ]
  },
  {
   "cell_type": "code",
   "execution_count": 83,
   "metadata": {
    "collapsed": false
   },
   "outputs": [
    {
     "data": {
      "text/plain": [
       "[('F statistic', 0.92481965421553003), ('p-value', 0.99999813470199517)]"
      ]
     },
     "execution_count": 83,
     "metadata": {},
     "output_type": "execute_result"
    }
   ],
   "source": [
    "# Testa homoscedasticidade\n",
    "# The null hypothesis for the GQ test is homoskedasticity. \n",
    "# Não há evidências de que pode-se rejeitar Ho.\n",
    "name = ['F statistic', 'p-value']\n",
    "test = sms.het_goldfeldquandt(lm.resid, lm.model.exog)\n",
    "lzip(name, test)"
   ]
  },
  {
   "cell_type": "markdown",
   "metadata": {},
   "source": [
    "# Verificar com somente variáveis básicas"
   ]
  },
  {
   "cell_type": "code",
   "execution_count": 23,
   "metadata": {
    "collapsed": false
   },
   "outputs": [
    {
     "data": {
      "text/html": [
       "<div style=\"max-height:1000px;max-width:1500px;overflow:auto;\">\n",
       "<table border=\"1\" class=\"dataframe\">\n",
       "  <thead>\n",
       "    <tr style=\"text-align: right;\">\n",
       "      <th></th>\n",
       "      <th>rmse_train</th>\n",
       "      <th>rmse_test</th>\n",
       "      <th>r2</th>\n",
       "    </tr>\n",
       "    <tr>\n",
       "      <th>model</th>\n",
       "      <th></th>\n",
       "      <th></th>\n",
       "      <th></th>\n",
       "    </tr>\n",
       "  </thead>\n",
       "  <tbody>\n",
       "    <tr>\n",
       "      <th>m1</th>\n",
       "      <td>358.640252</td>\n",
       "      <td>361.022507</td>\n",
       "      <td>0.794023</td>\n",
       "    </tr>\n",
       "    <tr>\n",
       "      <th>m2</th>\n",
       "      <td>314.862875</td>\n",
       "      <td>318.136192</td>\n",
       "      <td>0.841249</td>\n",
       "    </tr>\n",
       "    <tr>\n",
       "      <th>m3</th>\n",
       "      <td>317.539812</td>\n",
       "      <td>320.040699</td>\n",
       "      <td>0.839577</td>\n",
       "    </tr>\n",
       "    <tr>\n",
       "      <th>m4</th>\n",
       "      <td>316.420277</td>\n",
       "      <td>319.845501</td>\n",
       "      <td>0.839675</td>\n",
       "    </tr>\n",
       "    <tr>\n",
       "      <th>m5</th>\n",
       "      <td>314.791103</td>\n",
       "      <td>318.141165</td>\n",
       "      <td>0.841321</td>\n",
       "    </tr>\n",
       "    <tr>\n",
       "      <th>m6</th>\n",
       "      <td>320.835695</td>\n",
       "      <td>322.535652</td>\n",
       "      <td>0.835172</td>\n",
       "    </tr>\n",
       "    <tr>\n",
       "      <th>m7</th>\n",
       "      <td>314.862875</td>\n",
       "      <td>318.136192</td>\n",
       "      <td>0.841249</td>\n",
       "    </tr>\n",
       "    <tr>\n",
       "      <th>m8</th>\n",
       "      <td>316.420277</td>\n",
       "      <td>319.845501</td>\n",
       "      <td>0.839675</td>\n",
       "    </tr>\n",
       "    <tr>\n",
       "      <th>m9</th>\n",
       "      <td>316.420277</td>\n",
       "      <td>319.845501</td>\n",
       "      <td>0.839675</td>\n",
       "    </tr>\n",
       "    <tr>\n",
       "      <th>m10trad</th>\n",
       "      <td>452.533740</td>\n",
       "      <td>455.258153</td>\n",
       "      <td>0.672057</td>\n",
       "    </tr>\n",
       "    <tr>\n",
       "      <th>m10lag</th>\n",
       "      <td>328.330672</td>\n",
       "      <td>329.686185</td>\n",
       "      <td>0.827382</td>\n",
       "    </tr>\n",
       "  </tbody>\n",
       "</table>\n",
       "</div>"
      ],
      "text/plain": [
       "         rmse_train   rmse_test        r2\n",
       "model                                    \n",
       "m1       358.640252  361.022507  0.794023\n",
       "m2       314.862875  318.136192  0.841249\n",
       "m3       317.539812  320.040699  0.839577\n",
       "m4       316.420277  319.845501  0.839675\n",
       "m5       314.791103  318.141165  0.841321\n",
       "m6       320.835695  322.535652  0.835172\n",
       "m7       314.862875  318.136192  0.841249\n",
       "m8       316.420277  319.845501  0.839675\n",
       "m9       316.420277  319.845501  0.839675\n",
       "m10trad  452.533740  455.258153  0.672057\n",
       "m10lag   328.330672  329.686185  0.827382"
      ]
     },
     "execution_count": 23,
     "metadata": {},
     "output_type": "execute_result"
    }
   ],
   "source": [
    "z.pd.DataFrame.from_csv('./modelo_selecionado/score_lm.csv')"
   ]
  },
  {
   "cell_type": "code",
   "execution_count": 15,
   "metadata": {
    "collapsed": false
   },
   "outputs": [
    {
     "data": {
      "text/plain": [
       "(569.30129697117252, 569.47456588070713, 0.48100513055342009)"
      ]
     },
     "execution_count": 15,
     "metadata": {},
     "output_type": "execute_result"
    }
   ],
   "source": [
    "df11 = df[['preco','area','garagem','quartos','suites']]\n",
    "z.run_model(df11, K_FOLDS)"
   ]
  },
  {
   "cell_type": "code",
   "execution_count": 18,
   "metadata": {
    "collapsed": false
   },
   "outputs": [
    {
     "data": {
      "text/plain": [
       "(343.96371305754047, 344.00730527150915, 0.81055362624773919)"
      ]
     },
     "execution_count": 18,
     "metadata": {},
     "output_type": "execute_result"
    }
   ],
   "source": [
    "w = z.getW()\n",
    "df11_lag = df11.copy()\n",
    "df11_lag['preco_lag'] = pysal.lag_spatial(w,df11_lag.preco)\n",
    "z.run_model(df11_lag, K_FOLDS)"
   ]
  },
  {
   "cell_type": "code",
   "execution_count": 32,
   "metadata": {
    "collapsed": false
   },
   "outputs": [
    {
     "data": {
      "text/plain": [
       "(340.31692082451514, 340.64463831942675, 0.81454860910956439)"
      ]
     },
     "execution_count": 32,
     "metadata": {},
     "output_type": "execute_result"
    }
   ],
   "source": [
    "reload(z)\n",
    "df12_lag = df11_lag.copy()\n",
    "df12_lag = z.prep_statsmodels(df12_lag, False)\n",
    "z.run_model(df12_lag, K_FOLDS)"
   ]
  },
  {
   "cell_type": "markdown",
   "metadata": {},
   "source": [
    "# 10. Avaliar evolução do modelo escolhido, m10, adicionando uma variável por vez"
   ]
  },
  {
   "cell_type": "code",
   "execution_count": 114,
   "metadata": {
    "collapsed": false
   },
   "outputs": [
    {
     "name": "stdout",
     "output_type": "stream",
     "text": [
      "CPU times: user 9 µs, sys: 1 µs, total: 10 µs\n",
      "Wall time: 13.1 µs\n"
     ]
    }
   ],
   "source": [
    "%%time \n",
    "import re\n",
    "import IPython\n",
    "\n",
    "\n",
    "if False:\n",
    "\n",
    "\n",
    "    score_vars = []\n",
    "    cols = []\n",
    "    for var_ in dcorrabs.index.tolist():\n",
    "        if var_ in df_m10.columns.tolist():\n",
    "            cols.append(var_)\n",
    "            dfx = df_m10[['preco']+cols]\n",
    "            print 'Modelo com {} variaveis.  Ultima: {}'.\\\n",
    "                format(dfx.shape[1]-1,var_)\n",
    "            lm,_,_ = z.ols(dfx, [],[],False, True)\n",
    "            score_vars.append(['n_{}'.format(i), z.rmse(lm.resid), \n",
    "                              lm.rsquared, dfx.shape[1]-1])\n",
    "    \n",
    "    \n",
    "    IPython.display.clear_output()    \n",
    "\n",
    "    score_vars = array(score_vars);\n",
    "    x_name = score_vars[:,0];\n",
    "    y_rmse = score_vars[:,1];\n",
    "    f,a = subplots();\n",
    "    f.set_size_inches(12,6);\n",
    "    a.scatter(range(len(cols)),y_rmse);\n",
    "    xticks(range(len(cols)),cols, rotation=90);\n",
    "    xlim(-1,len(cols));\n",
    "    ylabel('RMSE')\n",
    "\n",
    "    savefig('../texto/img/vars_evolucao_rmse.png');    \n",
    "    z.pd.DataFrame(score_vars , \n",
    "        columns=['model','rmse_train','rmse_test']).\\\n",
    "        to_csv('./modelo_selecionado/score_variaveis.csv', index=False)\n",
    "\n"
   ]
  },
  {
   "cell_type": "code",
   "execution_count": 115,
   "metadata": {
    "collapsed": false,
    "scrolled": false
   },
   "outputs": [
    {
     "data": {
      "image/png": "[encoded data removed]",
      "text/plain": [
       "<IPython.core.display.Image object>"
      ]
     },
     "execution_count": 115,
     "metadata": {},
     "output_type": "execute_result"
    }
   ],
   "source": [
    "IPython.display.Image(filename='../texto/img/vars_evolucao_rmse.png')"
   ]
  },
  {
   "cell_type": "markdown",
   "metadata": {},
   "source": [
    "# 11. Salvar resultados"
   ]
  },
  {
   "cell_type": "code",
   "execution_count": 116,
   "metadata": {
    "collapsed": false
   },
   "outputs": [],
   "source": [
    "z.pd.DataFrame(score , \n",
    "    columns=['model','rmse_train','rmse_test','r2']).\\\n",
    "    to_csv('./modelo_selecionado/score_lm.csv', index=False)\n"
   ]
  },
  {
   "cell_type": "code",
   "execution_count": 117,
   "metadata": {
    "collapsed": false
   },
   "outputs": [],
   "source": [
    "# Copia arquivos\n",
    "!cp ./modelos/m10lag.bin ./modelo_selecionado/\n",
    "!cp ./modelos/m10trad.bin ./modelo_selecionado/"
   ]
  },
  {
   "cell_type": "code",
   "execution_count": null,
   "metadata": {
    "collapsed": true
   },
   "outputs": [],
   "source": []
  }
 ],
 "metadata": {
  "kernelspec": {
   "display_name": "Python 2",
   "language": "python",
   "name": "python2"
  },
  "language_info": {
   "codemirror_mode": {
    "name": "ipython",
    "version": 2
   },
   "file_extension": ".py",
   "mimetype": "text/x-python",
   "name": "python",
   "nbconvert_exporter": "python",
   "pygments_lexer": "ipython2",
   "version": "2.7.10"
  }
 },
 "nbformat": 4,
 "nbformat_minor": 0
}
