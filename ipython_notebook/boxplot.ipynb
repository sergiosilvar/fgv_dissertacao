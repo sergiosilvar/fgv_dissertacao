{
 "metadata": {
  "name": "",
  "signature": "sha256:fd7c6176a6f8dc7c121d8b0e90a7962a7964bf75a0be7f65195383e82132e4e1"
 },
 "nbformat": 3,
 "nbformat_minor": 0,
 "worksheets": [
  {
   "cells": [
    {
     "cell_type": "code",
     "collapsed": false,
     "input": [
      "%pylab inline"
     ],
     "language": "python",
     "metadata": {},
     "outputs": [
      {
       "output_type": "stream",
       "stream": "stdout",
       "text": [
        "Populating the interactive namespace from numpy and matplotlib\n"
       ]
      }
     ],
     "prompt_number": 1
    },
    {
     "cell_type": "code",
     "collapsed": false,
     "input": [
      "import zap_util\n",
      "reload(zap_util)"
     ],
     "language": "python",
     "metadata": {},
     "outputs": [
      {
       "metadata": {},
       "output_type": "pyout",
       "prompt_number": 5,
       "text": [
        "<module 'zap_util' from 'zap_util.py'>"
       ]
      }
     ],
     "prompt_number": 5
    },
    {
     "cell_type": "code",
     "collapsed": false,
     "input": [
      "dfi = zap_util.get('select * from vw_imovel_todos')"
     ],
     "language": "python",
     "metadata": {},
     "outputs": [],
     "prompt_number": 15
    },
    {
     "cell_type": "code",
     "collapsed": false,
     "input": [
      "dfv = zap_util.get('select * from vw_imovel')"
     ],
     "language": "python",
     "metadata": {},
     "outputs": [],
     "prompt_number": 8
    },
    {
     "cell_type": "code",
     "collapsed": false,
     "input": [
      "dfi.describe()\n"
     ],
     "language": "python",
     "metadata": {},
     "outputs": [
      {
       "html": [
        "<div style=\"max-height:1000px;max-width:1500px;overflow:auto;\">\n",
        "<table border=\"1\" class=\"dataframe\">\n",
        "  <thead>\n",
        "    <tr style=\"text-align: right;\">\n",
        "      <th></th>\n",
        "      <th>area</th>\n",
        "      <th>preco</th>\n",
        "      <th>condominio</th>\n",
        "      <th>m2</th>\n",
        "      <th>garagem</th>\n",
        "      <th>quartos</th>\n",
        "      <th>suites</th>\n",
        "    </tr>\n",
        "  </thead>\n",
        "  <tbody>\n",
        "    <tr>\n",
        "      <th>count</th>\n",
        "      <td> 91091.000000</td>\n",
        "      <td>  91091.000000</td>\n",
        "      <td>   71633.000000</td>\n",
        "      <td> 91091.000000</td>\n",
        "      <td> 73134.000000</td>\n",
        "      <td> 91036.000000</td>\n",
        "      <td> 54936.000000</td>\n",
        "    </tr>\n",
        "    <tr>\n",
        "      <th>mean</th>\n",
        "      <td>   122.805261</td>\n",
        "      <td>   1363.201331</td>\n",
        "      <td>      16.939438</td>\n",
        "      <td>    10.085383</td>\n",
        "      <td>     2.343151</td>\n",
        "      <td>     2.620018</td>\n",
        "      <td>     1.437127</td>\n",
        "    </tr>\n",
        "    <tr>\n",
        "      <th>std</th>\n",
        "      <td>   103.460854</td>\n",
        "      <td>   2866.452231</td>\n",
        "      <td>    3736.678348</td>\n",
        "      <td>     6.676997</td>\n",
        "      <td>    39.423763</td>\n",
        "      <td>     1.298548</td>\n",
        "      <td>     1.070491</td>\n",
        "    </tr>\n",
        "    <tr>\n",
        "      <th>min</th>\n",
        "      <td>     3.000000</td>\n",
        "      <td>     40.000000</td>\n",
        "      <td>       0.001000</td>\n",
        "      <td>     0.381426</td>\n",
        "      <td>     1.000000</td>\n",
        "      <td>     1.000000</td>\n",
        "      <td>     1.000000</td>\n",
        "    </tr>\n",
        "    <tr>\n",
        "      <th>25%</th>\n",
        "      <td>    70.000000</td>\n",
        "      <td>    470.000000</td>\n",
        "      <td>       0.400000</td>\n",
        "      <td>     5.800000</td>\n",
        "      <td>     1.000000</td>\n",
        "      <td>     2.000000</td>\n",
        "      <td>     1.000000</td>\n",
        "    </tr>\n",
        "    <tr>\n",
        "      <th>50%</th>\n",
        "      <td>    90.000000</td>\n",
        "      <td>    800.000000</td>\n",
        "      <td>       0.650000</td>\n",
        "      <td>     8.320559</td>\n",
        "      <td>     1.000000</td>\n",
        "      <td>     3.000000</td>\n",
        "      <td>     1.000000</td>\n",
        "    </tr>\n",
        "    <tr>\n",
        "      <th>75%</th>\n",
        "      <td>   142.000000</td>\n",
        "      <td>   1520.000000</td>\n",
        "      <td>       1.000000</td>\n",
        "      <td>    12.250000</td>\n",
        "      <td>     2.000000</td>\n",
        "      <td>     3.000000</td>\n",
        "      <td>     2.000000</td>\n",
        "    </tr>\n",
        "    <tr>\n",
        "      <th>max</th>\n",
        "      <td> 12930.000000</td>\n",
        "      <td> 650000.000000</td>\n",
        "      <td> 1000000.000000</td>\n",
        "      <td>   427.900000</td>\n",
        "      <td>  2012.000000</td>\n",
        "      <td>   234.000000</td>\n",
        "      <td>   150.000000</td>\n",
        "    </tr>\n",
        "  </tbody>\n",
        "</table>\n",
        "<p>8 rows \u00d7 7 columns</p>\n",
        "</div>"
       ],
       "metadata": {},
       "output_type": "pyout",
       "prompt_number": 30,
       "text": [
        "               area          preco      condominio            m2  \\\n",
        "count  91091.000000   91091.000000    71633.000000  91091.000000   \n",
        "mean     122.805261    1363.201331       16.939438     10.085383   \n",
        "std      103.460854    2866.452231     3736.678348      6.676997   \n",
        "min        3.000000      40.000000        0.001000      0.381426   \n",
        "25%       70.000000     470.000000        0.400000      5.800000   \n",
        "50%       90.000000     800.000000        0.650000      8.320559   \n",
        "75%      142.000000    1520.000000        1.000000     12.250000   \n",
        "max    12930.000000  650000.000000  1000000.000000    427.900000   \n",
        "\n",
        "            garagem       quartos        suites  \n",
        "count  73134.000000  91036.000000  54936.000000  \n",
        "mean       2.343151      2.620018      1.437127  \n",
        "std       39.423763      1.298548      1.070491  \n",
        "min        1.000000      1.000000      1.000000  \n",
        "25%        1.000000      2.000000      1.000000  \n",
        "50%        1.000000      3.000000      1.000000  \n",
        "75%        2.000000      3.000000      2.000000  \n",
        "max     2012.000000    234.000000    150.000000  \n",
        "\n",
        "[8 rows x 7 columns]"
       ]
      }
     ],
     "prompt_number": 30
    },
    {
     "cell_type": "code",
     "collapsed": false,
     "input": [
      "scatter(dfv.lng,dfv.preco,marker='.',color='red')\n",
      "xlabel(r'Oeste $\\to$ Leste')"
     ],
     "language": "python",
     "metadata": {},
     "outputs": [
      {
       "metadata": {},
       "output_type": "pyout",
       "prompt_number": 13,
       "text": [
        "<matplotlib.text.Text at 0x338864e0>"
       ]
      },
      {
       "metadata": {},
       "output_type": "display_data",
       "png": "[encoded data removed]",
       "text": [
        "<matplotlib.figure.Figure at 0x33a41cc0>"
       ]
      }
     ],
     "prompt_number": 13
    },
    {
     "cell_type": "code",
     "collapsed": false,
     "input": [
      "scatter(df.lat,df.m2,marker='.')\n",
      "xlabel(r'Sul $\\to$ Norte')"
     ],
     "language": "python",
     "metadata": {},
     "outputs": []
    },
    {
     "cell_type": "code",
     "collapsed": false,
     "input": [
      "boxplot(dfi.preco.as_matrix())"
     ],
     "language": "python",
     "metadata": {},
     "outputs": [
      {
       "metadata": {},
       "output_type": "pyout",
       "prompt_number": 31,
       "text": [
        "{'boxes': [<matplotlib.lines.Line2D at 0x37beeef0>],\n",
        " 'caps': [<matplotlib.lines.Line2D at 0x37989e80>,\n",
        "  <matplotlib.lines.Line2D at 0x379894e0>],\n",
        " 'fliers': [<matplotlib.lines.Line2D at 0x37beedd8>,\n",
        "  <matplotlib.lines.Line2D at 0x379a79e8>],\n",
        " 'medians': [<matplotlib.lines.Line2D at 0x37bee710>],\n",
        " 'whiskers': [<matplotlib.lines.Line2D at 0x37bfdf60>,\n",
        "  <matplotlib.lines.Line2D at 0x37bfde80>]}"
       ]
      },
      {
       "metadata": {},
       "output_type": "display_data",
       "png": "[encoded data removed]",
       "text": [
        "<matplotlib.figure.Figure at 0x37855518>"
       ]
      }
     ],
     "prompt_number": 31
    },
    {
     "cell_type": "code",
     "collapsed": false,
     "input": [],
     "language": "python",
     "metadata": {},
     "outputs": [],
     "prompt_number": 45
    }
   ],
   "metadata": {}
  }
 ]
}