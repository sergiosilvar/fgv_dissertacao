{
 "metadata": {
  "name": "",
  "signature": "sha256:a1eb2dfb00f8a24a04c642a1ff798c65970924e5de11e2328ff8bc6ff3e19a25"
 },
 "nbformat": 3,
 "nbformat_minor": 0,
 "worksheets": [
  {
   "cells": [
    {
     "cell_type": "markdown",
     "metadata": {},
     "source": [
      "# Acomanhamento da modelagem e resultados.\n",
      "1. [Vari\u00e1veis intr\u00ednsecas](Variaveis intrinsecas.ipynb): Constru\u00e7\u00e3o de vari\u00e1veis intr\u00ednsecas aos respectivos im\u00f3veis com base na descri\u00e7\u00e3o textual do an\u00fancio. Todas essas caracter\u00edsticas s\u00e3o booleanas, onde o valor 1 indica a presen\u00e7a da caracter\u00edstica, e o valor 0 sua aus\u00eancia.\n",
      "1. [Vari\u00e1veis espaciais](Variaveis Espaciais.ipynb): Constru\u00e7\u00e3o de vari\u00e1veis num\u00e9ricas com base na localiza\u00e7\u00e3o geogr\u00e1fica.\n",
      "1. [Vari\u00e1veis s\u00f3cio econ\u00f4micas](Variaveis Socio Economicas.ipynb): Constru\u00e7\u00e3o de vari\u00e1veis s\u00f3cio econ\u00f4micas compartilhadas por v\u00e1rios im\u00f3veis.\n",
      "1. [Tratar variaveis intrinsecas](Tratar variaveis intrinsecas.ipynb): Tratamento das caracter\u00edsticas num\u00e9ricas (quartos, \u00e1rea, pre\u00e7o) que foram coletadas durante o webscrapping.\n",
      "1. [Regress\u00e3o Linear](Regressao Linear.ipynb) - Estimativas baseadas em Regress\u00e3o Linear.\n",
      "1. [Regress\u00e3o Lienar SemiLog](Regressao Linear-SemiLog.ipynb) - Estimativas baseadas em Regress\u00e3o Linear com o log(y).\n",
      "1. [Regress\u00e3o Linear (trabalho)](Regressao Linear (trabalho).ipynb) - Regress\u00e3o Linear para a disserta\u00e7\u00e3o.\n",
      "1. [Autoccorelacao Espacial](Autoccorelacao Espacial.ipynb) - Estudos sobre a autocorrela\u00e7\u00e3o espacial.\n",
      "1. [Analises](Analises.ipynb) - Algumas an\u00e1lises inicais. Arquivo adicionado em 12/janeiro.\n",
      "1. [Resultados](Resultados.ipynb) - Resultados para a disserta\u00e7\u00e3o. Nenhum resultado ainda validado.\n"
     ]
    },
    {
     "cell_type": "markdown",
     "metadata": {},
     "source": [
      "### Reuni\u00e3o 6-fev-15\n",
      "\n",
      "+ Gerar regress\u00e3o separando vari\u00e1veis intr\u00ednsicas, extr\u00ednsicas.\n",
      "+ Gerar regress\u00e3o das vari\u00e1veis extr\u00ednsicas por bairro (top 10), por tipo espec\u00edfico de apartamento.\n",
      "+ "
     ]
    }
   ],
   "metadata": {}
  }
 ]
}