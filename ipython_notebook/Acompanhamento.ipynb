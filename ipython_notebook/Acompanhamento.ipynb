{
 "metadata": {
  "name": "",
  "signature": "sha256:50ec7610219e6997f67eb1969bae18a39568645f91ed5457d42d1bc18822926b"
 },
 "nbformat": 3,
 "nbformat_minor": 0,
 "worksheets": [
  {
   "cells": [
    {
     "cell_type": "markdown",
     "metadata": {},
     "source": [
      "# Acomanhamento da modelagem e resultados.\n",
      "+ [Caracter\u00edsticas num\u00e9ricas](Caracteristicas Numericas.ipynb): Tratamento das caracter\u00edsticas num\u00e9ricas (quartos, \u00e1rea, pre\u00e7o) que foram coletadas durante o webscrapping.\n",
      "+ [Caracter\u00edsticas explorat\u00f3rias](Caracteristicas Exploratorias.ipynb): Constru\u00e7\u00e3o de demais caracater\u00edsticas categ\u00f3ricas com base na descri\u00e7\u00e3o textual do an\u00fancio.\n",
      "+ [Caracter\u00edsticas espaciais](Caracteristicas Espaciais.ipynb): Constru\u00e7\u00e3o de caracter\u00edsticas num\u00e9ricas com base na localiza\u00e7\u00e3o geogr\u00e1fica.\n",
      "\n",
      "## Banco de Dados\n",
      "[Backup do banco de dados](\"../ZAP_postgresql.backup.20150109.tar\") - Clique no link abaixo para download do backup do banco de dados PostGIS."
     ]
    },
    {
     "cell_type": "code",
     "collapsed": false,
     "input": [],
     "language": "python",
     "metadata": {},
     "outputs": []
    }
   ],
   "metadata": {}
  }
 ]
}