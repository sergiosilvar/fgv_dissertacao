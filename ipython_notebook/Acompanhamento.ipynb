{
 "metadata": {
  "name": "",
  "signature": "sha256:bfd1eab22bb373412ca16e00cb4e294d5ccc50d974c300514264d9bbebce2ce2"
 },
 "nbformat": 3,
 "nbformat_minor": 0,
 "worksheets": [
  {
   "cells": [
    {
     "cell_type": "markdown",
     "metadata": {},
     "source": [
      "# Acomanhamento da modelagem e resultados.\n",
      "1. [Tratar variaveis primarias](Tratamento variaveis primarias.ipynb): Tratamento das caracter\u00edsticas num\u00e9ricas (quartos, \u00e1rea, pre\u00e7o) que foram coletadas durante o webscrapping.\n",
      "1. [Caracter\u00edsticas intr\u00ednsecas](Caracteristicas intrinsecas.ipynb): Constru\u00e7\u00e3o caracater\u00edsticas intr\u00ednsecas aos respectivos im\u00f3veis com base na descri\u00e7\u00e3o textual do an\u00fancio. Todas essas caracter\u00edsticas s\u00e3o booleanas, onde o valor 1 indica a presen\u00e7a da caracter\u00edstica, e o valor 0 sua aus\u00eancia.\n",
      "1. [Caracter\u00edsticas espaciais](Caracteristicas Espaciais.ipynb): Constru\u00e7\u00e3o de caracter\u00edsticas num\u00e9ricas com base na localiza\u00e7\u00e3o geogr\u00e1fica.\n",
      "1. [Analises](Analises.ipynb) - Algumas an\u00e1lises inicais. Arquivo adicionado em 12/janeiro.\n",
      "1. [Regress\u00e3o Linear](Regressao Linear.ipynb) - Estimativas baseadas em Regress\u00e3o Linear.\n",
      "1. [Autoccorelacao Espacial](Autoccorelacao Espacial.ipynb) - Estudos sobre a autocorrela\u00e7\u00e3o espacial.\n"
     ]
    },
    {
     "cell_type": "markdown",
     "metadata": {},
     "source": [
      "### Reuni\u00e3o 6-fev-15\n",
      "\n",
      "+ Gerar regress\u00e3o separando vari\u00e1veis intr\u00ednsicas, extr\u00ednsicas.\n",
      "+ Gerar regress\u00e3o das vari\u00e1veis extr\u00ednsicas por bairro (top 10), por tipo espec\u00edfico de apartamento.\n",
      "+ "
     ]
    }
   ],
   "metadata": {}
  }
 ]
}