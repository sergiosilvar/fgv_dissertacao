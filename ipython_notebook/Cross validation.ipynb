{
 "cells": [
  {
   "cell_type": "code",
   "execution_count": 17,
   "metadata": {
    "collapsed": false
   },
   "outputs": [],
   "source": [
    "import zap_util as z\n",
    "from sklearn import linear_model, cross_validation"
   ]
  },
  {
   "cell_type": "code",
   "execution_count": 60,
   "metadata": {
    "collapsed": false
   },
   "outputs": [
    {
     "data": {
      "text/plain": [
       "Series([], dtype: int64)"
      ]
     },
     "execution_count": 60,
     "metadata": {},
     "output_type": "execute_result"
    }
   ],
   "source": [
    "df = z.get_imoveis_dataframe(False)"
   ]
  },
  {
   "cell_type": "code",
   "execution_count": 50,
   "metadata": {
    "collapsed": false
   },
   "outputs": [],
   "source": []
  },
  {
   "cell_type": "code",
   "execution_count": 51,
   "metadata": {
    "collapsed": false
   },
   "outputs": [],
   "source": []
  },
  {
   "cell_type": "code",
   "execution_count": 52,
   "metadata": {
    "collapsed": false
   },
   "outputs": [],
   "source": [
    "var_sel  = list(set(df.columns.tolist()) - set(var_ignore))\n",
    "X = df[var_sel] \n",
    "y = df.preco"
   ]
  },
  {
   "cell_type": "code",
   "execution_count": 54,
   "metadata": {
    "collapsed": false
   },
   "outputs": [],
   "source": [
    "clf = linear_model.LinearRegression()\n",
    "lr = clf.fit(X,y)"
   ]
  },
  {
   "cell_type": "code",
   "execution_count": 57,
   "metadata": {
    "collapsed": false
   },
   "outputs": [
    {
     "data": {
      "text/plain": [
       "Index([u'b_Jardim Sulacap', u'b_Lapa', u'b_Santo Cristo', u'dist_saude_privada', u'se_crm_violento', u'b_Bras de Pina', u'b_Manguinhos', u'dm_playground', u'b_Vargem Grande', u'dm_hidrometro', u'b_Jardim Botanico', u'b_Abolicao', u'b_Acari', u'b_Gamboa', u'b_Rocinha', u'dm_salao_de_festas', u'b_Santa Teresa', u'b_Mangueira', u'b_Bangu', u'b_Bento Ribeiro', u'b_Lagoa', u'b_Engenho de Dentro', u'b_Engenho Novo', u'b_Anchieta', u'b_Rocha Miranda', u'dm_salao_de_jogos', u'suite_2', u'b_Ipanema', u'b_Cosmos', u'b_Magalhaes Bastos', u'b_Paciencia', u'b_Benfica', u'dm_elevadores', u'b_Senador Vasconcelos', u'b_Gardenia Azul', u'b_Encantado', u'b_Rio Comprido', u'b_Iraja', u'dist_praia', u'b_Guaratiba', u'dm_varanda', u'dm_children_care', u'dm_quarto_de_empregada', u'b_Penha Circular', u'b_Freguesia _Jacarepagua_', u'garagem_4', u'b_Vila Valqueire', u'b_Jardim America', u'garagem_1', u'garagem_2', u'se_perc_alfabetizacao', u'b_Sao Conrado', u'b_Honorio Gurgel', u'b_Lins de Vasconcelos', u'dm_triplex', u'b_Praca da Bandeira', u'dm_ano', u'b_Sepetiba', u'b_Laranjeiras', u'b_Quintino Bocaiuva', u'b_Engenho da Rainha', u'dm_unidades', u'b_Cachambi', u'b_Parada de Lucas', u'dm_fundos', u'dm_andar_alto', u'dm_mezanino', u'b_Cosme Velho', u'b_Vidigal', u'b_Taquara', u'b_Meier', u'b_Ramos', u'lng', u'dm_seguranca', u'b_Praia da Bandeira', u'dm_estacionamento_visitantes', u'dm_linear', u'dm_blindex', u'dist_favela', u'b_Senador Camara', u'b_Vaz Lobo', u'suite_3', u'dm_andar', u'suite_1', u'b_Cidade Nova', u'b_Higienopolis', u'dm_sala_de_jantar', u'dm_dependencia', u'b_Barra da Tijuca', u'b_Ribeira', u'b_Leblon', u'b_Galeao', u'b_Rocha', u'dist_saude_publica', u'dist_bombeiro', u'dm_jardim', u'b_Turiacu', u'dm_duplex', u'b_Freguesia _Ilha_', u'b_Praca Seca', ...], dtype='object')"
      ]
     },
     "execution_count": 57,
     "metadata": {},
     "output_type": "execute_result"
    }
   ],
   "source": []
  }
 ],
 "metadata": {
  "kernelspec": {
   "display_name": "Python 2",
   "language": "python",
   "name": "python2"
  },
  "language_info": {
   "codemirror_mode": {
    "name": "ipython",
    "version": 2
   },
   "file_extension": ".py",
   "mimetype": "text/x-python",
   "name": "python",
   "nbconvert_exporter": "python",
   "pygments_lexer": "ipython2",
   "version": "2.7.9"
  }
 },
 "nbformat": 4,
 "nbformat_minor": 0
}
