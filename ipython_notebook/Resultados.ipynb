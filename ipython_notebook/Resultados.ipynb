{
 "metadata": {
  "name": "",
  "signature": "sha256:e03fe416130543daee77cde61f4c4f341a6725d2cd72b3f71094fb9a4c3ddd86"
 },
 "nbformat": 3,
 "nbformat_minor": 0,
 "worksheets": [
  {
   "cells": [
    {
     "cell_type": "code",
     "collapsed": false,
     "input": [
      "%pylab inline\n",
      "\n",
      "import zap_util as z\n",
      "import statsmodels.api as sm\n",
      "import statsmodels.formula.api as smf\n",
      "import pysal\n",
      "\n",
      "from datetime import datetime\n"
     ],
     "language": "python",
     "metadata": {},
     "outputs": [
      {
       "output_type": "stream",
       "stream": "stdout",
       "text": [
        "Populating the interactive namespace from numpy and matplotlib\n"
       ]
      }
     ],
     "prompt_number": 24
    },
    {
     "cell_type": "code",
     "collapsed": false,
     "input": [
      "df = z.get(\"select * from vw_imovel where bairro_g = '{}'\".format('Tijuca'))\n",
      "df.fillna(0, inplace=1)\n",
      "df.isnull().sum()"
     ],
     "language": "python",
     "metadata": {},
     "outputs": [
      {
       "metadata": {},
       "output_type": "pyout",
       "prompt_number": 18,
       "text": [
        "area              0\n",
        "preco             0\n",
        "condominio        0\n",
        "m2                0\n",
        "garagem           0\n",
        "quartos           0\n",
        "suites            0\n",
        "lat               0\n",
        "lng               0\n",
        "dt_criacao        0\n",
        "dt_publicacao     0\n",
        "dt_visita         0\n",
        "dt_atualizacao    0\n",
        "descricao         0\n",
        "url               0\n",
        "url_foto          0\n",
        "rua               0\n",
        "bairro            0\n",
        "cidade            0\n",
        "estado            0\n",
        "cep               0\n",
        "geom              0\n",
        "bairro_g          0\n",
        "dtype: int64"
       ]
      }
     ],
     "prompt_number": 18
    },
    {
     "cell_type": "code",
     "collapsed": false,
     "input": [
      "df.describe()"
     ],
     "language": "python",
     "metadata": {},
     "outputs": [
      {
       "html": [
        "<div style=\"max-height:1000px;max-width:1500px;overflow:auto;\">\n",
        "<table border=\"1\" class=\"dataframe\">\n",
        "  <thead>\n",
        "    <tr style=\"text-align: right;\">\n",
        "      <th></th>\n",
        "      <th>area</th>\n",
        "      <th>preco</th>\n",
        "      <th>condominio</th>\n",
        "      <th>m2</th>\n",
        "      <th>garagem</th>\n",
        "      <th>quartos</th>\n",
        "      <th>suites</th>\n",
        "      <th>lat</th>\n",
        "      <th>lng</th>\n",
        "    </tr>\n",
        "  </thead>\n",
        "  <tbody>\n",
        "    <tr>\n",
        "      <th>count</th>\n",
        "      <td> 4019.000000</td>\n",
        "      <td> 4019.000000</td>\n",
        "      <td> 4019.000000</td>\n",
        "      <td> 4019.000000</td>\n",
        "      <td> 4019.000000</td>\n",
        "      <td> 4019.000000</td>\n",
        "      <td> 4019.000000</td>\n",
        "      <td> 4019.000000</td>\n",
        "      <td> 4019.000000</td>\n",
        "    </tr>\n",
        "    <tr>\n",
        "      <th>mean</th>\n",
        "      <td>  104.030356</td>\n",
        "      <td>  781.262731</td>\n",
        "      <td>    0.527069</td>\n",
        "      <td>    7.666725</td>\n",
        "      <td>    0.998507</td>\n",
        "      <td>    2.608858</td>\n",
        "      <td>    0.613585</td>\n",
        "      <td>  -22.927163</td>\n",
        "      <td>  -43.232908</td>\n",
        "    </tr>\n",
        "    <tr>\n",
        "      <th>std</th>\n",
        "      <td>   40.775839</td>\n",
        "      <td>  330.847305</td>\n",
        "      <td>    0.328254</td>\n",
        "      <td>    1.885386</td>\n",
        "      <td>    0.737260</td>\n",
        "      <td>    0.706424</td>\n",
        "      <td>    0.600087</td>\n",
        "      <td>    0.006721</td>\n",
        "      <td>    0.010544</td>\n",
        "    </tr>\n",
        "    <tr>\n",
        "      <th>min</th>\n",
        "      <td>   25.000000</td>\n",
        "      <td>  180.000000</td>\n",
        "      <td>    0.000000</td>\n",
        "      <td>    1.640000</td>\n",
        "      <td>    0.000000</td>\n",
        "      <td>    1.000000</td>\n",
        "      <td>    0.000000</td>\n",
        "      <td>  -22.946804</td>\n",
        "      <td>  -43.262349</td>\n",
        "    </tr>\n",
        "    <tr>\n",
        "      <th>25%</th>\n",
        "      <td>   76.000000</td>\n",
        "      <td>  550.000000</td>\n",
        "      <td>    0.347500</td>\n",
        "      <td>    6.392305</td>\n",
        "      <td>    1.000000</td>\n",
        "      <td>    2.000000</td>\n",
        "      <td>    0.000000</td>\n",
        "      <td>  -22.931902</td>\n",
        "      <td>  -43.241025</td>\n",
        "    </tr>\n",
        "    <tr>\n",
        "      <th>50%</th>\n",
        "      <td>   93.000000</td>\n",
        "      <td>  714.000000</td>\n",
        "      <td>    0.520000</td>\n",
        "      <td>    7.575758</td>\n",
        "      <td>    1.000000</td>\n",
        "      <td>    3.000000</td>\n",
        "      <td>    1.000000</td>\n",
        "      <td>  -22.926590</td>\n",
        "      <td>  -43.233879</td>\n",
        "    </tr>\n",
        "    <tr>\n",
        "      <th>75%</th>\n",
        "      <td>  120.000000</td>\n",
        "      <td>  900.000000</td>\n",
        "      <td>    0.700000</td>\n",
        "      <td>    8.750000</td>\n",
        "      <td>    1.000000</td>\n",
        "      <td>    3.000000</td>\n",
        "      <td>    1.000000</td>\n",
        "      <td>  -22.921895</td>\n",
        "      <td>  -43.224377</td>\n",
        "    </tr>\n",
        "    <tr>\n",
        "      <th>max</th>\n",
        "      <td>  300.000000</td>\n",
        "      <td> 4708.000000</td>\n",
        "      <td>    2.000000</td>\n",
        "      <td>   24.444444</td>\n",
        "      <td>    4.000000</td>\n",
        "      <td>    4.000000</td>\n",
        "      <td>    4.000000</td>\n",
        "      <td>  -22.913198</td>\n",
        "      <td>  -43.211982</td>\n",
        "    </tr>\n",
        "  </tbody>\n",
        "</table>\n",
        "</div>"
       ],
       "metadata": {},
       "output_type": "pyout",
       "prompt_number": 19,
       "text": [
        "              area        preco   condominio           m2      garagem  \\\n",
        "count  4019.000000  4019.000000  4019.000000  4019.000000  4019.000000   \n",
        "mean    104.030356   781.262731     0.527069     7.666725     0.998507   \n",
        "std      40.775839   330.847305     0.328254     1.885386     0.737260   \n",
        "min      25.000000   180.000000     0.000000     1.640000     0.000000   \n",
        "25%      76.000000   550.000000     0.347500     6.392305     1.000000   \n",
        "50%      93.000000   714.000000     0.520000     7.575758     1.000000   \n",
        "75%     120.000000   900.000000     0.700000     8.750000     1.000000   \n",
        "max     300.000000  4708.000000     2.000000    24.444444     4.000000   \n",
        "\n",
        "           quartos       suites          lat          lng  \n",
        "count  4019.000000  4019.000000  4019.000000  4019.000000  \n",
        "mean      2.608858     0.613585   -22.927163   -43.232908  \n",
        "std       0.706424     0.600087     0.006721     0.010544  \n",
        "min       1.000000     0.000000   -22.946804   -43.262349  \n",
        "25%       2.000000     0.000000   -22.931902   -43.241025  \n",
        "50%       3.000000     1.000000   -22.926590   -43.233879  \n",
        "75%       3.000000     1.000000   -22.921895   -43.224377  \n",
        "max       4.000000     4.000000   -22.913198   -43.211982  "
       ]
      }
     ],
     "prompt_number": 19
    },
    {
     "cell_type": "code",
     "collapsed": false,
     "input": [
      "numeric_columns = (df.dtypes[(df.dtypes==float64) | (df.dtypes==int64)]).index\n",
      "df = df[numeric_columns]"
     ],
     "language": "python",
     "metadata": {},
     "outputs": [],
     "prompt_number": 21
    },
    {
     "cell_type": "code",
     "collapsed": false,
     "input": [
      "df = df[numeric_columns]\n",
      "formula = z.prep_formula(df, 'df', 'preco')[0]\n",
      "lm = sm.formula.ols(formula,df).fit()\n",
      "print lm.summary()\n"
     ],
     "language": "python",
     "metadata": {},
     "outputs": [
      {
       "output_type": "stream",
       "stream": "stdout",
       "text": [
        "                            OLS Regression Results                            \n",
        "==============================================================================\n",
        "Dep. Variable:               df.preco   R-squared:                       0.694\n",
        "Model:                            OLS   Adj. R-squared:                  0.694\n",
        "Method:                 Least Squares   F-statistic:                     1301.\n",
        "Date:                Mon, 16 Feb 2015   Prob (F-statistic):               0.00\n",
        "Time:                        00:55:30   Log-Likelihood:                -26638.\n",
        "No. Observations:                4019   AIC:                         5.329e+04\n",
        "Df Residuals:                    4011   BIC:                         5.334e+04\n",
        "Df Model:                           7                                         \n",
        "Covariance Type:            nonrobust                                         \n",
        "=================================================================================\n",
        "                    coef    std err          t      P>|t|      [95.0% Conf. Int.]\n",
        "---------------------------------------------------------------------------------\n",
        "Intercept      8.854e+04    1.2e+04      7.403      0.000      6.51e+04  1.12e+05\n",
        "df.suites        86.9831      5.700     15.259      0.000        75.807    98.159\n",
        "df.quartos       51.0579      5.648      9.040      0.000        39.985    62.131\n",
        "df.area           3.8345      0.106     36.108      0.000         3.626     4.043\n",
        "df.garagem       98.3641      4.928     19.962      0.000        88.703   108.025\n",
        "df.condominio    98.8065     10.113      9.771      0.000        78.980   118.633\n",
        "df.lat         8789.9784    888.067      9.898      0.000      7048.874  1.05e+04\n",
        "df.lng        -2614.6269    564.124     -4.635      0.000     -3720.622 -1508.631\n",
        "==============================================================================\n",
        "Omnibus:                     2634.523   Durbin-Watson:                   2.051\n",
        "Prob(Omnibus):                  0.000   Jarque-Bera (JB):           166313.741\n",
        "Skew:                           2.413   Prob(JB):                         0.00\n",
        "Kurtosis:                      34.143   Cond. No.                     5.01e+05\n",
        "==============================================================================\n",
        "\n",
        "Warnings:\n",
        "[1] Standard Errors assume that the covariance matrix of the errors is correctly specified.\n",
        "[2] The condition number is large, 5.01e+05. This might indicate that there are\n",
        "strong multicollinearity or other numerical problems.\n"
       ]
      }
     ],
     "prompt_number": 23
    },
    {
     "cell_type": "code",
     "collapsed": false,
     "input": [
      "t1 = datetime.now()\n",
      "w = pysal.kernelW(df[['lat','lng']].values,k=1)\n",
      "t2 = datetime.now()\n",
      "delta = t2-t1\n",
      "print 'Kernel com {} pontos durou {} min.'.format(len(df), delta.seconds/60.0)\n",
      "w.transform='R'"
     ],
     "language": "python",
     "metadata": {},
     "outputs": [
      {
       "output_type": "stream",
       "stream": "stdout",
       "text": [
        "Kernel com 4019 pontos durou 0.833333333333 min.\n"
       ]
      }
     ],
     "prompt_number": 100
    },
    {
     "cell_type": "code",
     "collapsed": false,
     "input": [
      "X = df[['suites','quartos','area','garagem','condominio','lat','lng']].values\n",
      "y = df.preco.values\n",
      "y.reshape((len(y),1))\n",
      "ols = pysal.spreg.OLS(y[:,None], X, w )\n",
      "\n"
     ],
     "language": "python",
     "metadata": {},
     "outputs": [
      {
       "ename": "Exception",
       "evalue": "All entries on diagonal must equal 0.",
       "output_type": "pyerr",
       "traceback": [
        "\u001b[1;31m---------------------------------------------------------------------------\u001b[0m\n\u001b[1;31mException\u001b[0m                                 Traceback (most recent call last)",
        "\u001b[1;32m<ipython-input-101-ae40b16ac27b>\u001b[0m in \u001b[0;36m<module>\u001b[1;34m()\u001b[0m\n\u001b[0;32m      2\u001b[0m \u001b[0my\u001b[0m \u001b[1;33m=\u001b[0m \u001b[0mdf\u001b[0m\u001b[1;33m.\u001b[0m\u001b[0mpreco\u001b[0m\u001b[1;33m.\u001b[0m\u001b[0mvalues\u001b[0m\u001b[1;33m\u001b[0m\u001b[0m\n\u001b[0;32m      3\u001b[0m \u001b[0my\u001b[0m\u001b[1;33m.\u001b[0m\u001b[0mreshape\u001b[0m\u001b[1;33m(\u001b[0m\u001b[1;33m(\u001b[0m\u001b[0mlen\u001b[0m\u001b[1;33m(\u001b[0m\u001b[0my\u001b[0m\u001b[1;33m)\u001b[0m\u001b[1;33m,\u001b[0m\u001b[1;36m1\u001b[0m\u001b[1;33m)\u001b[0m\u001b[1;33m)\u001b[0m\u001b[1;33m\u001b[0m\u001b[0m\n\u001b[1;32m----> 4\u001b[1;33m \u001b[0mols\u001b[0m \u001b[1;33m=\u001b[0m \u001b[0mpysal\u001b[0m\u001b[1;33m.\u001b[0m\u001b[0mspreg\u001b[0m\u001b[1;33m.\u001b[0m\u001b[0mOLS\u001b[0m\u001b[1;33m(\u001b[0m\u001b[0my\u001b[0m\u001b[1;33m[\u001b[0m\u001b[1;33m:\u001b[0m\u001b[1;33m,\u001b[0m\u001b[0mNone\u001b[0m\u001b[1;33m]\u001b[0m\u001b[1;33m,\u001b[0m \u001b[0mX\u001b[0m\u001b[1;33m,\u001b[0m \u001b[0mw\u001b[0m \u001b[1;33m)\u001b[0m\u001b[1;33m\u001b[0m\u001b[0m\n\u001b[0m\u001b[0;32m      5\u001b[0m \u001b[1;33m\u001b[0m\u001b[0m\n",
        "\u001b[1;32mC:\\Users\\sergio\\AppData\\Local\\Enthought\\Canopy\\User\\lib\\site-packages\\pysal\\spreg\\ols.pyc\u001b[0m in \u001b[0;36m__init__\u001b[1;34m(self, y, x, w, robust, gwk, sig2n_k, nonspat_diag, spat_diag, moran, white_test, vm, name_y, name_x, name_w, name_gwk, name_ds)\u001b[0m\n\u001b[0;32m    428\u001b[0m         \u001b[0mn\u001b[0m \u001b[1;33m=\u001b[0m \u001b[0mUSER\u001b[0m\u001b[1;33m.\u001b[0m\u001b[0mcheck_arrays\u001b[0m\u001b[1;33m(\u001b[0m\u001b[0my\u001b[0m\u001b[1;33m,\u001b[0m \u001b[0mx\u001b[0m\u001b[1;33m)\u001b[0m\u001b[1;33m\u001b[0m\u001b[0m\n\u001b[0;32m    429\u001b[0m         \u001b[0mUSER\u001b[0m\u001b[1;33m.\u001b[0m\u001b[0mcheck_y\u001b[0m\u001b[1;33m(\u001b[0m\u001b[0my\u001b[0m\u001b[1;33m,\u001b[0m \u001b[0mn\u001b[0m\u001b[1;33m)\u001b[0m\u001b[1;33m\u001b[0m\u001b[0m\n\u001b[1;32m--> 430\u001b[1;33m         \u001b[0mUSER\u001b[0m\u001b[1;33m.\u001b[0m\u001b[0mcheck_weights\u001b[0m\u001b[1;33m(\u001b[0m\u001b[0mw\u001b[0m\u001b[1;33m,\u001b[0m \u001b[0my\u001b[0m\u001b[1;33m)\u001b[0m\u001b[1;33m\u001b[0m\u001b[0m\n\u001b[0m\u001b[0;32m    431\u001b[0m         \u001b[0mUSER\u001b[0m\u001b[1;33m.\u001b[0m\u001b[0mcheck_robust\u001b[0m\u001b[1;33m(\u001b[0m\u001b[0mrobust\u001b[0m\u001b[1;33m,\u001b[0m \u001b[0mgwk\u001b[0m\u001b[1;33m)\u001b[0m\u001b[1;33m\u001b[0m\u001b[0m\n\u001b[0;32m    432\u001b[0m         \u001b[0mUSER\u001b[0m\u001b[1;33m.\u001b[0m\u001b[0mcheck_spat_diag\u001b[0m\u001b[1;33m(\u001b[0m\u001b[0mspat_diag\u001b[0m\u001b[1;33m,\u001b[0m \u001b[0mw\u001b[0m\u001b[1;33m)\u001b[0m\u001b[1;33m\u001b[0m\u001b[0m\n",
        "\u001b[1;32mC:\\Users\\sergio\\AppData\\Local\\Enthought\\Canopy\\User\\lib\\site-packages\\pysal\\spreg\\user_output.pyc\u001b[0m in \u001b[0;36mcheck_weights\u001b[1;34m(w, y, w_required)\u001b[0m\n\u001b[0;32m    460\u001b[0m         \u001b[1;31m# check to make sure all entries equal 0\u001b[0m\u001b[1;33m\u001b[0m\u001b[1;33m\u001b[0m\u001b[0m\n\u001b[0;32m    461\u001b[0m         \u001b[1;32mif\u001b[0m \u001b[0mdiag\u001b[0m\u001b[1;33m.\u001b[0m\u001b[0mmin\u001b[0m\u001b[1;33m(\u001b[0m\u001b[1;33m)\u001b[0m \u001b[1;33m!=\u001b[0m \u001b[1;36m0\u001b[0m\u001b[1;33m:\u001b[0m\u001b[1;33m\u001b[0m\u001b[0m\n\u001b[1;32m--> 462\u001b[1;33m             \u001b[1;32mraise\u001b[0m \u001b[0mException\u001b[0m\u001b[1;33m,\u001b[0m \u001b[1;34m\"All entries on diagonal must equal 0.\"\u001b[0m\u001b[1;33m\u001b[0m\u001b[0m\n\u001b[0m\u001b[0;32m    463\u001b[0m         \u001b[1;32mif\u001b[0m \u001b[0mdiag\u001b[0m\u001b[1;33m.\u001b[0m\u001b[0mmax\u001b[0m\u001b[1;33m(\u001b[0m\u001b[1;33m)\u001b[0m \u001b[1;33m!=\u001b[0m \u001b[1;36m0\u001b[0m\u001b[1;33m:\u001b[0m\u001b[1;33m\u001b[0m\u001b[0m\n\u001b[0;32m    464\u001b[0m             \u001b[1;32mraise\u001b[0m \u001b[0mException\u001b[0m\u001b[1;33m,\u001b[0m \u001b[1;34m\"All entries on diagonal must equal 0.\"\u001b[0m\u001b[1;33m\u001b[0m\u001b[0m\n",
        "\u001b[1;31mException\u001b[0m: All entries on diagonal must equal 0."
       ]
      }
     ],
     "prompt_number": 101
    },
    {
     "cell_type": "code",
     "collapsed": false,
     "input": [
      "m = w.full()"
     ],
     "language": "python",
     "metadata": {},
     "outputs": [],
     "prompt_number": 109
    },
    {
     "cell_type": "code",
     "collapsed": false,
     "input": [
      "del m"
     ],
     "language": "python",
     "metadata": {},
     "outputs": [],
     "prompt_number": 122
    }
   ],
   "metadata": {}
  }
 ]
}