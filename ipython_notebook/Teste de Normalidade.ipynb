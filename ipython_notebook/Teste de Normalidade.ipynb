{
 "metadata": {
  "name": "",
  "signature": "sha256:7c46491a6256e21791c4d9104c23959d816713688965c5f5ab7b499066f41ad3"
 },
 "nbformat": 3,
 "nbformat_minor": 0,
 "worksheets": [
  {
   "cells": [
    {
     "cell_type": "code",
     "collapsed": false,
     "input": [
      "%pylab inline\n",
      "import zap_util\n",
      "reload(zap_util)\n",
      "df = zap_util.get('select * from vw_imovel_todos')\n",
      "numeric_columns = (df.dtypes[(df.dtypes==float64) | (df.dtypes==int64)]).index\n",
      "from scipy.stats import zscore\n",
      "dfz = df[numeric_columns].apply(zscore)\n"
     ],
     "language": "python",
     "metadata": {},
     "outputs": [
      {
       "output_type": "stream",
       "stream": "stdout",
       "text": [
        "Populating the interactive namespace from numpy and matplotlib\n"
       ]
      }
     ],
     "prompt_number": 1
    },
    {
     "cell_type": "code",
     "collapsed": false,
     "input": [
      "df.describe()\n"
     ],
     "language": "python",
     "metadata": {},
     "outputs": [
      {
       "html": [
        "<div style=\"max-height:1000px;max-width:1500px;overflow:auto;\">\n",
        "<table border=\"1\" class=\"dataframe\">\n",
        "  <thead>\n",
        "    <tr style=\"text-align: right;\">\n",
        "      <th></th>\n",
        "      <th>area</th>\n",
        "      <th>preco</th>\n",
        "      <th>condominio</th>\n",
        "      <th>m2</th>\n",
        "      <th>garagem</th>\n",
        "      <th>quartos</th>\n",
        "      <th>suites</th>\n",
        "    </tr>\n",
        "  </thead>\n",
        "  <tbody>\n",
        "    <tr>\n",
        "      <th>count</th>\n",
        "      <td> 91091.000000</td>\n",
        "      <td>  91091.000000</td>\n",
        "      <td>   71633.000000</td>\n",
        "      <td> 91091.000000</td>\n",
        "      <td> 73134.000000</td>\n",
        "      <td> 91036.000000</td>\n",
        "      <td> 54936.000000</td>\n",
        "    </tr>\n",
        "    <tr>\n",
        "      <th>mean</th>\n",
        "      <td>   122.805261</td>\n",
        "      <td>   1363.201331</td>\n",
        "      <td>      16.939438</td>\n",
        "      <td>    10.085383</td>\n",
        "      <td>     2.343151</td>\n",
        "      <td>     2.620018</td>\n",
        "      <td>     1.437127</td>\n",
        "    </tr>\n",
        "    <tr>\n",
        "      <th>std</th>\n",
        "      <td>   103.460854</td>\n",
        "      <td>   2866.452231</td>\n",
        "      <td>    3736.678348</td>\n",
        "      <td>     6.676997</td>\n",
        "      <td>    39.423763</td>\n",
        "      <td>     1.298548</td>\n",
        "      <td>     1.070491</td>\n",
        "    </tr>\n",
        "    <tr>\n",
        "      <th>min</th>\n",
        "      <td>     3.000000</td>\n",
        "      <td>     40.000000</td>\n",
        "      <td>       0.001000</td>\n",
        "      <td>     0.381426</td>\n",
        "      <td>     1.000000</td>\n",
        "      <td>     1.000000</td>\n",
        "      <td>     1.000000</td>\n",
        "    </tr>\n",
        "    <tr>\n",
        "      <th>25%</th>\n",
        "      <td>    70.000000</td>\n",
        "      <td>    470.000000</td>\n",
        "      <td>       0.400000</td>\n",
        "      <td>     5.800000</td>\n",
        "      <td>     1.000000</td>\n",
        "      <td>     2.000000</td>\n",
        "      <td>     1.000000</td>\n",
        "    </tr>\n",
        "    <tr>\n",
        "      <th>50%</th>\n",
        "      <td>    90.000000</td>\n",
        "      <td>    800.000000</td>\n",
        "      <td>       0.650000</td>\n",
        "      <td>     8.320559</td>\n",
        "      <td>     1.000000</td>\n",
        "      <td>     3.000000</td>\n",
        "      <td>     1.000000</td>\n",
        "    </tr>\n",
        "    <tr>\n",
        "      <th>75%</th>\n",
        "      <td>   142.000000</td>\n",
        "      <td>   1520.000000</td>\n",
        "      <td>       1.000000</td>\n",
        "      <td>    12.250000</td>\n",
        "      <td>     2.000000</td>\n",
        "      <td>     3.000000</td>\n",
        "      <td>     2.000000</td>\n",
        "    </tr>\n",
        "    <tr>\n",
        "      <th>max</th>\n",
        "      <td> 12930.000000</td>\n",
        "      <td> 650000.000000</td>\n",
        "      <td> 1000000.000000</td>\n",
        "      <td>   427.900000</td>\n",
        "      <td>  2012.000000</td>\n",
        "      <td>   234.000000</td>\n",
        "      <td>   150.000000</td>\n",
        "    </tr>\n",
        "  </tbody>\n",
        "</table>\n",
        "<p>8 rows \u00d7 7 columns</p>\n",
        "</div>"
       ],
       "metadata": {},
       "output_type": "pyout",
       "prompt_number": 2,
       "text": [
        "               area          preco      condominio            m2  \\\n",
        "count  91091.000000   91091.000000    71633.000000  91091.000000   \n",
        "mean     122.805261    1363.201331       16.939438     10.085383   \n",
        "std      103.460854    2866.452231     3736.678348      6.676997   \n",
        "min        3.000000      40.000000        0.001000      0.381426   \n",
        "25%       70.000000     470.000000        0.400000      5.800000   \n",
        "50%       90.000000     800.000000        0.650000      8.320559   \n",
        "75%      142.000000    1520.000000        1.000000     12.250000   \n",
        "max    12930.000000  650000.000000  1000000.000000    427.900000   \n",
        "\n",
        "            garagem       quartos        suites  \n",
        "count  73134.000000  91036.000000  54936.000000  \n",
        "mean       2.343151      2.620018      1.437127  \n",
        "std       39.423763      1.298548      1.070491  \n",
        "min        1.000000      1.000000      1.000000  \n",
        "25%        1.000000      2.000000      1.000000  \n",
        "50%        1.000000      3.000000      1.000000  \n",
        "75%        2.000000      3.000000      2.000000  \n",
        "max     2012.000000    234.000000    150.000000  \n",
        "\n",
        "[8 rows x 7 columns]"
       ]
      }
     ],
     "prompt_number": 2
    },
    {
     "cell_type": "code",
     "collapsed": false,
     "input": [
      "hist(df.preco);"
     ],
     "language": "python",
     "metadata": {},
     "outputs": [
      {
       "metadata": {},
       "output_type": "display_data",
       "png": "[encoded data removed]",
       "text": [
        "<matplotlib.figure.Figure at 0x9408fd0>"
       ]
      }
     ],
     "prompt_number": 12
    },
    {
     "cell_type": "code",
     "collapsed": false,
     "input": [
      "#df = df[df.preco < 10000]\n",
      "hist(df.preco,bins =100);"
     ],
     "language": "python",
     "metadata": {},
     "outputs": [
      {
       "metadata": {},
       "output_type": "display_data",
       "png": "[encoded data removed]",
       "text": [
        "<matplotlib.figure.Figure at 0x965c160>"
       ]
      }
     ],
     "prompt_number": 13
    },
    {
     "cell_type": "code",
     "collapsed": false,
     "input": [
      "hist(dfz.preco,bins =100);\n"
     ],
     "language": "python",
     "metadata": {},
     "outputs": [
      {
       "metadata": {},
       "output_type": "display_data",
       "png": "[encoded data removed]",
       "text": [
        "<matplotlib.figure.Figure at 0x3d16358>"
       ]
      }
     ],
     "prompt_number": 6
    },
    {
     "cell_type": "code",
     "collapsed": false,
     "input": [
      "preco = sort(df.preco)\n",
      "x = range(len(preco))\n",
      "scatter(x,preco)"
     ],
     "language": "python",
     "metadata": {},
     "outputs": [
      {
       "metadata": {},
       "output_type": "pyout",
       "prompt_number": 11,
       "text": [
        "<matplotlib.collections.PathCollection at 0x9a9f3c8>"
       ]
      },
      {
       "metadata": {},
       "output_type": "display_data",
       "png": "[encoded data removed]",
       "text": [
        "<matplotlib.figure.Figure at 0x947b400>"
       ]
      }
     ],
     "prompt_number": 11
    },
    {
     "cell_type": "code",
     "collapsed": false,
     "input": [
      "from scipy.stats import norm as norm"
     ],
     "language": "python",
     "metadata": {},
     "outputs": [],
     "prompt_number": 14
    },
    {
     "cell_type": "code",
     "collapsed": false,
     "input": [
      "x = 0.9345\n",
      "p = norm.ppf(x, loc=0, scale=1)\n",
      "y = norm.cdf(p, loc=0, scale=1 )\n",
      "x,y"
     ],
     "language": "python",
     "metadata": {},
     "outputs": [
      {
       "metadata": {},
       "output_type": "pyout",
       "prompt_number": 28,
       "text": [
        "(0.9345, 0.9345)"
       ]
      }
     ],
     "prompt_number": 28
    },
    {
     "cell_type": "code",
     "collapsed": false,
     "input": [
      "sd = df.preco.std()\n",
      "mu = df.preco.mean()\n",
      "norm.ppf(1363, loc=mu, scale=sd)"
     ],
     "language": "python",
     "metadata": {},
     "outputs": [
      {
       "metadata": {},
       "output_type": "pyout",
       "prompt_number": 40,
       "text": [
        "nan"
       ]
      }
     ],
     "prompt_number": 40
    }
   ],
   "metadata": {}
  }
 ]
}