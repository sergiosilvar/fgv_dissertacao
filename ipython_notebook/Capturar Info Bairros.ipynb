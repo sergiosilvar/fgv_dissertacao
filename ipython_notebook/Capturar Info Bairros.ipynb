{
 "metadata": {
  "name": "",
  "signature": "sha256:2bb85a9185d1f4d0b6e3684fa4c1005d2338776abfddf7909ee653fc901a9d65"
 },
 "nbformat": 3,
 "nbformat_minor": 0,
 "worksheets": [
  {
   "cells": [
    {
     "cell_type": "code",
     "collapsed": false,
     "input": [
      "\n",
      "import urllib2\n",
      "\n"
     ],
     "language": "python",
     "metadata": {},
     "outputs": [],
     "prompt_number": 39
    },
    {
     "cell_type": "markdown",
     "metadata": {},
     "source": [
      "# S\u00edntese de bairros do aplicativo Bairros Cariocas, Instituto Pereira Passos"
     ]
    },
    {
     "cell_type": "code",
     "collapsed": false,
     "input": [
      "DIR = './../armazen_dados_rj/bairros/'\n",
      "for i in range(1,162):\n",
      "    page = urllib2.urlopen('http://portalgeo.rio.rj.gov.br/bairroscariocas/mostra_sintese.php?area={:0>3}'.format(i))\n",
      "    page_content = page.read()\n",
      "    with open(DIR+'{:0>3}.html'.format(i), 'w') as fid:\n",
      "        fid.write(page_content)"
     ],
     "language": "python",
     "metadata": {},
     "outputs": [],
     "prompt_number": 39
    },
    {
     "cell_type": "markdown",
     "metadata": {},
     "source": [
      "# Boletins do Instituto de Seguran\u00e7a P\u00falica do RJ"
     ]
    },
    {
     "cell_type": "code",
     "collapsed": false,
     "input": [
      "# Lista de datas de publica\u00e7\u00e3o.\n",
      "import zap_util as z\n",
      "\n",
      "d = z.get('select id, dt_publicacao from vw_imovel')\n",
      "x = d.dt_publicacao.apply(lambda x: x[6:]+'/'+x[3:5] ).value_counts()\n",
      "x.sort_index()"
     ],
     "language": "python",
     "metadata": {},
     "outputs": [
      {
       "metadata": {},
       "output_type": "pyout",
       "prompt_number": 29,
       "text": [
        "2013/01        1\n",
        "2013/06        2\n",
        "2013/07        1\n",
        "2013/08        3\n",
        "2013/09        2\n",
        "2013/10      100\n",
        "2013/11       54\n",
        "2013/12       46\n",
        "2014/01      148\n",
        "2014/02      275\n",
        "2014/03      780\n",
        "2014/04     2670\n",
        "2014/05    23699\n",
        "2014/06     1546\n",
        "2014/07     3750\n",
        "2014/08     7496\n",
        "2014/09     2369\n",
        "2014/10    10639\n",
        "dtype: int64"
       ]
      }
     ],
     "prompt_number": 29
    },
    {
     "cell_type": "code",
     "collapsed": false,
     "input": [
      "# Download dos arquivos do ISP.\n",
      "DIR = './../instituto_seguranca_publica/xls/'\n",
      "arqs = ['2013{:0>2}'.format(i) for i in range(10,13)]+['2014{:0>2}'.format(i) for i in range(1,11)]\n",
      "\n",
      "for arq in arqs:\n",
      "    url = 'http://arquivos.proderj.rj.gov.br/isp_imagens/Uploads/DO{}.xls'.format(arq)\n",
      "    req = urllib2.urlopen(url)\n",
      "    CHUNK = 16 * 1024\n",
      "    with open(DIR+'{}.xls'.format(arq), 'wb') as fp:\n",
      "      while True:\n",
      "        chunk = req.read(CHUNK)\n",
      "        if not chunk: break\n",
      "        fp.write(chunk)\n"
     ],
     "language": "python",
     "metadata": {},
     "outputs": [],
     "prompt_number": 42
    },
    {
     "cell_type": "code",
     "collapsed": false,
     "input": [],
     "language": "python",
     "metadata": {},
     "outputs": [],
     "prompt_number": 38
    },
    {
     "cell_type": "code",
     "collapsed": false,
     "input": [],
     "language": "python",
     "metadata": {},
     "outputs": [],
     "prompt_number": 42
    },
    {
     "cell_type": "code",
     "collapsed": false,
     "input": [],
     "language": "python",
     "metadata": {},
     "outputs": []
    }
   ],
   "metadata": {}
  }
 ]
}