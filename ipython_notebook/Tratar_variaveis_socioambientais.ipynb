{
 "cells": [
  {
   "cell_type": "markdown",
   "metadata": {},
   "source": [
    "# Tratar variáveis socioeconômicas\n",
    "\n",
    "Script para verificar as variáveis socioeconômicas."
   ]
  },
  {
   "cell_type": "code",
   "execution_count": 104,
   "metadata": {
    "collapsed": false
   },
   "outputs": [
    {
     "name": "stdout",
     "output_type": "stream",
     "text": [
      "Populating the interactive namespace from numpy and matplotlib\n"
     ]
    }
   ],
   "source": [
    "%pylab inline\n",
    "import zap_util as z\n",
    "z.set_style()"
   ]
  },
  {
   "cell_type": "markdown",
   "metadata": {},
   "source": [
    "## Listagem de bairros por AISP"
   ]
  },
  {
   "cell_type": "code",
   "execution_count": 11,
   "metadata": {
    "collapsed": false
   },
   "outputs": [
    {
     "data": {
      "text/html": [
       "<div style=\"max-height:1000px;max-width:1500px;overflow:auto;\">\n",
       "<table border=\"1\" class=\"dataframe\">\n",
       "  <thead>\n",
       "    <tr style=\"text-align: right;\">\n",
       "      <th></th>\n",
       "      <th>aisp</th>\n",
       "      <th>nome</th>\n",
       "    </tr>\n",
       "  </thead>\n",
       "  <tbody>\n",
       "    <tr>\n",
       "      <th>0  </th>\n",
       "      <td>  2</td>\n",
       "      <td>                   Catete</td>\n",
       "    </tr>\n",
       "    <tr>\n",
       "      <th>1  </th>\n",
       "      <td>  2</td>\n",
       "      <td>              Cosme Velho</td>\n",
       "    </tr>\n",
       "    <tr>\n",
       "      <th>2  </th>\n",
       "      <td>  2</td>\n",
       "      <td>                 Flamengo</td>\n",
       "    </tr>\n",
       "    <tr>\n",
       "      <th>3  </th>\n",
       "      <td>  2</td>\n",
       "      <td>                   Glória</td>\n",
       "    </tr>\n",
       "    <tr>\n",
       "      <th>4  </th>\n",
       "      <td>  2</td>\n",
       "      <td>              Laranjeiras</td>\n",
       "    </tr>\n",
       "    <tr>\n",
       "      <th>5  </th>\n",
       "      <td>  2</td>\n",
       "      <td>                 Botafogo</td>\n",
       "    </tr>\n",
       "    <tr>\n",
       "      <th>6  </th>\n",
       "      <td>  2</td>\n",
       "      <td>                  Humaitá</td>\n",
       "    </tr>\n",
       "    <tr>\n",
       "      <th>7  </th>\n",
       "      <td>  2</td>\n",
       "      <td>                     Urca</td>\n",
       "    </tr>\n",
       "    <tr>\n",
       "      <th>8  </th>\n",
       "      <td>  3</td>\n",
       "      <td>                 Cachambi</td>\n",
       "    </tr>\n",
       "    <tr>\n",
       "      <th>9  </th>\n",
       "      <td>  3</td>\n",
       "      <td>                    Méier</td>\n",
       "    </tr>\n",
       "    <tr>\n",
       "      <th>10 </th>\n",
       "      <td>  3</td>\n",
       "      <td>                 Abolição</td>\n",
       "    </tr>\n",
       "    <tr>\n",
       "      <th>11 </th>\n",
       "      <td>  3</td>\n",
       "      <td>                Encantado</td>\n",
       "    </tr>\n",
       "    <tr>\n",
       "      <th>12 </th>\n",
       "      <td>  3</td>\n",
       "      <td>                  Piedade</td>\n",
       "    </tr>\n",
       "    <tr>\n",
       "      <th>13 </th>\n",
       "      <td>  3</td>\n",
       "      <td>                  Pilares</td>\n",
       "    </tr>\n",
       "    <tr>\n",
       "      <th>14 </th>\n",
       "      <td>  3</td>\n",
       "      <td>             Engenho Novo</td>\n",
       "    </tr>\n",
       "    <tr>\n",
       "      <th>15 </th>\n",
       "      <td>  3</td>\n",
       "      <td>                   Jacaré</td>\n",
       "    </tr>\n",
       "    <tr>\n",
       "      <th>16 </th>\n",
       "      <td>  3</td>\n",
       "      <td>              Jacarezinho</td>\n",
       "    </tr>\n",
       "    <tr>\n",
       "      <th>17 </th>\n",
       "      <td>  3</td>\n",
       "      <td>                Riachuelo</td>\n",
       "    </tr>\n",
       "    <tr>\n",
       "      <th>18 </th>\n",
       "      <td>  3</td>\n",
       "      <td>                    Rocha</td>\n",
       "    </tr>\n",
       "    <tr>\n",
       "      <th>19 </th>\n",
       "      <td>  3</td>\n",
       "      <td>                  Sampaio</td>\n",
       "    </tr>\n",
       "    <tr>\n",
       "      <th>20 </th>\n",
       "      <td>  3</td>\n",
       "      <td>     São Francisco Xavier</td>\n",
       "    </tr>\n",
       "    <tr>\n",
       "      <th>21 </th>\n",
       "      <td>  3</td>\n",
       "      <td>               Água Santa</td>\n",
       "    </tr>\n",
       "    <tr>\n",
       "      <th>22 </th>\n",
       "      <td>  3</td>\n",
       "      <td>        Engenho de Dentro</td>\n",
       "    </tr>\n",
       "    <tr>\n",
       "      <th>23 </th>\n",
       "      <td>  3</td>\n",
       "      <td>      Lins de Vasconcelos</td>\n",
       "    </tr>\n",
       "    <tr>\n",
       "      <th>24 </th>\n",
       "      <td>  3</td>\n",
       "      <td>          Todos os Santos</td>\n",
       "    </tr>\n",
       "    <tr>\n",
       "      <th>25 </th>\n",
       "      <td>  3</td>\n",
       "      <td>             Del Castilho</td>\n",
       "    </tr>\n",
       "    <tr>\n",
       "      <th>26 </th>\n",
       "      <td>  3</td>\n",
       "      <td>        Engenho da Rainha</td>\n",
       "    </tr>\n",
       "    <tr>\n",
       "      <th>27 </th>\n",
       "      <td>  3</td>\n",
       "      <td>                  Inhaúma</td>\n",
       "    </tr>\n",
       "    <tr>\n",
       "      <th>28 </th>\n",
       "      <td>  3</td>\n",
       "      <td>           Maria da Graça</td>\n",
       "    </tr>\n",
       "    <tr>\n",
       "      <th>29 </th>\n",
       "      <td>  3</td>\n",
       "      <td>             Tomás Coelho</td>\n",
       "    </tr>\n",
       "    <tr>\n",
       "      <th>...</th>\n",
       "      <td>...</td>\n",
       "      <td>...</td>\n",
       "    </tr>\n",
       "    <tr>\n",
       "      <th>134</th>\n",
       "      <td> 27</td>\n",
       "      <td>                 Sepetiba</td>\n",
       "    </tr>\n",
       "    <tr>\n",
       "      <th>135</th>\n",
       "      <td> 31</td>\n",
       "      <td>          Barra da Tijuca</td>\n",
       "    </tr>\n",
       "    <tr>\n",
       "      <th>136</th>\n",
       "      <td> 31</td>\n",
       "      <td>                Itanhangá</td>\n",
       "    </tr>\n",
       "    <tr>\n",
       "      <th>137</th>\n",
       "      <td> 31</td>\n",
       "      <td>                      Joá</td>\n",
       "    </tr>\n",
       "    <tr>\n",
       "      <th>138</th>\n",
       "      <td> 31</td>\n",
       "      <td> Recreio dos Bandeirantes</td>\n",
       "    </tr>\n",
       "    <tr>\n",
       "      <th>139</th>\n",
       "      <td> 31</td>\n",
       "      <td>       Barra de Guaratiba</td>\n",
       "    </tr>\n",
       "    <tr>\n",
       "      <th>140</th>\n",
       "      <td> 31</td>\n",
       "      <td>                  Camorim</td>\n",
       "    </tr>\n",
       "    <tr>\n",
       "      <th>141</th>\n",
       "      <td> 31</td>\n",
       "      <td>                  Grumari</td>\n",
       "    </tr>\n",
       "    <tr>\n",
       "      <th>142</th>\n",
       "      <td> 31</td>\n",
       "      <td>            Vargem Grande</td>\n",
       "    </tr>\n",
       "    <tr>\n",
       "      <th>143</th>\n",
       "      <td> 31</td>\n",
       "      <td>           Vargem Pequena</td>\n",
       "    </tr>\n",
       "    <tr>\n",
       "      <th>144</th>\n",
       "      <td> 40</td>\n",
       "      <td>             Campo Grande</td>\n",
       "    </tr>\n",
       "    <tr>\n",
       "      <th>145</th>\n",
       "      <td> 40</td>\n",
       "      <td>                   Cosmos</td>\n",
       "    </tr>\n",
       "    <tr>\n",
       "      <th>146</th>\n",
       "      <td> 40</td>\n",
       "      <td>                 Inhoaíba</td>\n",
       "    </tr>\n",
       "    <tr>\n",
       "      <th>147</th>\n",
       "      <td> 40</td>\n",
       "      <td>               Santíssimo</td>\n",
       "    </tr>\n",
       "    <tr>\n",
       "      <th>148</th>\n",
       "      <td> 40</td>\n",
       "      <td>      Senador Vasconcelos</td>\n",
       "    </tr>\n",
       "    <tr>\n",
       "      <th>149</th>\n",
       "      <td> 41</td>\n",
       "      <td>                  Colégio</td>\n",
       "    </tr>\n",
       "    <tr>\n",
       "      <th>150</th>\n",
       "      <td> 41</td>\n",
       "      <td>                    Irajá</td>\n",
       "    </tr>\n",
       "    <tr>\n",
       "      <th>151</th>\n",
       "      <td> 41</td>\n",
       "      <td>      Vicente de Carvalho</td>\n",
       "    </tr>\n",
       "    <tr>\n",
       "      <th>152</th>\n",
       "      <td> 41</td>\n",
       "      <td>              Vila Kosmos</td>\n",
       "    </tr>\n",
       "    <tr>\n",
       "      <th>153</th>\n",
       "      <td> 41</td>\n",
       "      <td>            Vila da Penha</td>\n",
       "    </tr>\n",
       "    <tr>\n",
       "      <th>154</th>\n",
       "      <td> 41</td>\n",
       "      <td>             Vista Alegre</td>\n",
       "    </tr>\n",
       "    <tr>\n",
       "      <th>155</th>\n",
       "      <td> 41</td>\n",
       "      <td>                 Anchieta</td>\n",
       "    </tr>\n",
       "    <tr>\n",
       "      <th>156</th>\n",
       "      <td> 41</td>\n",
       "      <td>                Guadalupe</td>\n",
       "    </tr>\n",
       "    <tr>\n",
       "      <th>157</th>\n",
       "      <td> 41</td>\n",
       "      <td>          Parque Anchieta</td>\n",
       "    </tr>\n",
       "    <tr>\n",
       "      <th>158</th>\n",
       "      <td> 41</td>\n",
       "      <td>   Ricardo de Albuquerque</td>\n",
       "    </tr>\n",
       "    <tr>\n",
       "      <th>159</th>\n",
       "      <td> 41</td>\n",
       "      <td>                    Acari</td>\n",
       "    </tr>\n",
       "    <tr>\n",
       "      <th>160</th>\n",
       "      <td> 41</td>\n",
       "      <td>             Barros Filho</td>\n",
       "    </tr>\n",
       "    <tr>\n",
       "      <th>161</th>\n",
       "      <td> 41</td>\n",
       "      <td>             Costa Barros</td>\n",
       "    </tr>\n",
       "    <tr>\n",
       "      <th>162</th>\n",
       "      <td> 41</td>\n",
       "      <td>          Parque Colúmbia</td>\n",
       "    </tr>\n",
       "    <tr>\n",
       "      <th>163</th>\n",
       "      <td> 41</td>\n",
       "      <td>                   Pavuna</td>\n",
       "    </tr>\n",
       "  </tbody>\n",
       "</table>\n",
       "<p>164 rows × 2 columns</p>\n",
       "</div>"
      ],
      "text/plain": [
       "     aisp                      nome\n",
       "0       2                    Catete\n",
       "1       2               Cosme Velho\n",
       "2       2                  Flamengo\n",
       "3       2                    Glória\n",
       "4       2               Laranjeiras\n",
       "5       2                  Botafogo\n",
       "6       2                   Humaitá\n",
       "7       2                      Urca\n",
       "8       3                  Cachambi\n",
       "9       3                     Méier\n",
       "10      3                  Abolição\n",
       "11      3                 Encantado\n",
       "12      3                   Piedade\n",
       "13      3                   Pilares\n",
       "14      3              Engenho Novo\n",
       "15      3                    Jacaré\n",
       "16      3               Jacarezinho\n",
       "17      3                 Riachuelo\n",
       "18      3                     Rocha\n",
       "19      3                   Sampaio\n",
       "20      3      São Francisco Xavier\n",
       "21      3                Água Santa\n",
       "22      3         Engenho de Dentro\n",
       "23      3       Lins de Vasconcelos\n",
       "24      3           Todos os Santos\n",
       "25      3              Del Castilho\n",
       "26      3         Engenho da Rainha\n",
       "27      3                   Inhaúma\n",
       "28      3            Maria da Graça\n",
       "29      3              Tomás Coelho\n",
       "..    ...                       ...\n",
       "134    27                  Sepetiba\n",
       "135    31           Barra da Tijuca\n",
       "136    31                 Itanhangá\n",
       "137    31                       Joá\n",
       "138    31  Recreio dos Bandeirantes\n",
       "139    31        Barra de Guaratiba\n",
       "140    31                   Camorim\n",
       "141    31                   Grumari\n",
       "142    31             Vargem Grande\n",
       "143    31            Vargem Pequena\n",
       "144    40              Campo Grande\n",
       "145    40                    Cosmos\n",
       "146    40                  Inhoaíba\n",
       "147    40                Santíssimo\n",
       "148    40       Senador Vasconcelos\n",
       "149    41                   Colégio\n",
       "150    41                     Irajá\n",
       "151    41       Vicente de Carvalho\n",
       "152    41               Vila Kosmos\n",
       "153    41             Vila da Penha\n",
       "154    41              Vista Alegre\n",
       "155    41                  Anchieta\n",
       "156    41                 Guadalupe\n",
       "157    41           Parque Anchieta\n",
       "158    41    Ricardo de Albuquerque\n",
       "159    41                     Acari\n",
       "160    41              Barros Filho\n",
       "161    41              Costa Barros\n",
       "162    41           Parque Colúmbia\n",
       "163    41                    Pavuna\n",
       "\n",
       "[164 rows x 2 columns]"
      ]
     },
     "execution_count": 11,
     "metadata": {},
     "output_type": "execute_result"
    }
   ],
   "source": [
    "# Áreas Integradas de Segurança Púlica.\n",
    "aisp = z.pd.DataFrame.from_csv('./../instituto_seguranca_publica/aisp_bairro.csv', index_col=None)\n",
    "aisp"
   ]
  },
  {
   "cell_type": "code",
   "execution_count": 60,
   "metadata": {
    "collapsed": false
   },
   "outputs": [
    {
     "data": {
      "text/html": [
       "<div style=\"max-height:1000px;max-width:1500px;overflow:auto;\">\n",
       "<table border=\"1\" class=\"dataframe\">\n",
       "  <thead>\n",
       "    <tr style=\"text-align: right;\">\n",
       "      <th></th>\n",
       "      <th>AISP</th>\n",
       "      <th>Bairros</th>\n",
       "    </tr>\n",
       "    <tr>\n",
       "      <th>aisp</th>\n",
       "      <th></th>\n",
       "      <th></th>\n",
       "    </tr>\n",
       "  </thead>\n",
       "  <tbody>\n",
       "    <tr>\n",
       "      <th>2 </th>\n",
       "      <td>  2</td>\n",
       "      <td> Botafogo, Catete, Cosme Velho, Flamengo, Glóri...</td>\n",
       "    </tr>\n",
       "    <tr>\n",
       "      <th>3 </th>\n",
       "      <td>  3</td>\n",
       "      <td> Abolição, Cachambi, Del Castilho, Encantado, E...</td>\n",
       "    </tr>\n",
       "    <tr>\n",
       "      <th>4 </th>\n",
       "      <td>  4</td>\n",
       "      <td> Caju, Catumbi, Centro, Cidade Nova, Estácio, M...</td>\n",
       "    </tr>\n",
       "    <tr>\n",
       "      <th>5 </th>\n",
       "      <td>  5</td>\n",
       "      <td> Centro, Gamboa, Lapa, Paqueta, Santa Teresa, S...</td>\n",
       "    </tr>\n",
       "    <tr>\n",
       "      <th>6 </th>\n",
       "      <td>  6</td>\n",
       "      <td> Alto da Boa Vista, Andaraí, Grajaú, Tijuca, Vi...</td>\n",
       "    </tr>\n",
       "    <tr>\n",
       "      <th>9 </th>\n",
       "      <td>  9</td>\n",
       "      <td> Bento Ribeiro, Campinho, Cascadura, Cavalcanti...</td>\n",
       "    </tr>\n",
       "    <tr>\n",
       "      <th>14</th>\n",
       "      <td> 14</td>\n",
       "      <td> Bangu, Campo dos Afonsos, Deodoro, Gericinó, J...</td>\n",
       "    </tr>\n",
       "    <tr>\n",
       "      <th>16</th>\n",
       "      <td> 16</td>\n",
       "      <td> Brás de Pina, Complexo do Alemao, Cordovil, Ja...</td>\n",
       "    </tr>\n",
       "    <tr>\n",
       "      <th>17</th>\n",
       "      <td> 17</td>\n",
       "      <td> Bancários, Cacuia, Cidade Universitária, Cocot...</td>\n",
       "    </tr>\n",
       "    <tr>\n",
       "      <th>18</th>\n",
       "      <td> 18</td>\n",
       "      <td> Anil, Cidade de Deus, Curicica, Freguesia _Jac...</td>\n",
       "    </tr>\n",
       "    <tr>\n",
       "      <th>19</th>\n",
       "      <td> 19</td>\n",
       "      <td>                                  Copacabana, Leme</td>\n",
       "    </tr>\n",
       "    <tr>\n",
       "      <th>22</th>\n",
       "      <td> 22</td>\n",
       "      <td> Benfica, Bonsucesso, Higienópolis, Manguinhos,...</td>\n",
       "    </tr>\n",
       "    <tr>\n",
       "      <th>23</th>\n",
       "      <td> 23</td>\n",
       "      <td> Gávea, Ipanema, Jardim Botânico, Lagoa, Leblon...</td>\n",
       "    </tr>\n",
       "    <tr>\n",
       "      <th>27</th>\n",
       "      <td> 27</td>\n",
       "      <td> Guaratiba, Paciência, Pedra de Guaratiba, Sant...</td>\n",
       "    </tr>\n",
       "    <tr>\n",
       "      <th>31</th>\n",
       "      <td> 31</td>\n",
       "      <td> Barra da Tijuca, Barra de Guaratiba, Camorim, ...</td>\n",
       "    </tr>\n",
       "    <tr>\n",
       "      <th>40</th>\n",
       "      <td> 40</td>\n",
       "      <td> Campo Grande, Cosmos, Inhoaíba, Santíssimo, Se...</td>\n",
       "    </tr>\n",
       "    <tr>\n",
       "      <th>41</th>\n",
       "      <td> 41</td>\n",
       "      <td> Acari, Anchieta, Barros Filho, Colégio, Costa ...</td>\n",
       "    </tr>\n",
       "  </tbody>\n",
       "</table>\n",
       "</div>"
      ],
      "text/plain": [
       "      AISP                                            Bairros\n",
       "aisp                                                         \n",
       "2        2  Botafogo, Catete, Cosme Velho, Flamengo, Glóri...\n",
       "3        3  Abolição, Cachambi, Del Castilho, Encantado, E...\n",
       "4        4  Caju, Catumbi, Centro, Cidade Nova, Estácio, M...\n",
       "5        5  Centro, Gamboa, Lapa, Paqueta, Santa Teresa, S...\n",
       "6        6  Alto da Boa Vista, Andaraí, Grajaú, Tijuca, Vi...\n",
       "9        9  Bento Ribeiro, Campinho, Cascadura, Cavalcanti...\n",
       "14      14  Bangu, Campo dos Afonsos, Deodoro, Gericinó, J...\n",
       "16      16  Brás de Pina, Complexo do Alemao, Cordovil, Ja...\n",
       "17      17  Bancários, Cacuia, Cidade Universitária, Cocot...\n",
       "18      18  Anil, Cidade de Deus, Curicica, Freguesia _Jac...\n",
       "19      19                                   Copacabana, Leme\n",
       "22      22  Benfica, Bonsucesso, Higienópolis, Manguinhos,...\n",
       "23      23  Gávea, Ipanema, Jardim Botânico, Lagoa, Leblon...\n",
       "27      27  Guaratiba, Paciência, Pedra de Guaratiba, Sant...\n",
       "31      31  Barra da Tijuca, Barra de Guaratiba, Camorim, ...\n",
       "40      40  Campo Grande, Cosmos, Inhoaíba, Santíssimo, Se...\n",
       "41      41  Acari, Anchieta, Barros Filho, Colégio, Costa ..."
      ]
     },
     "execution_count": 60,
     "metadata": {},
     "output_type": "execute_result"
    }
   ],
   "source": [
    "# Agrupar pelo código do AISP.\n",
    "g = aisp.groupby('aisp')\n",
    "gb = g.aggregate(lambda x : ', '.join(sorted(x)))\n",
    "gb['AISP'] = gb.index\n",
    "gb['Bairros'] = gb.nome\n",
    "del gb['nome']\n",
    "gb[['AISP','Bairros']]"
   ]
  },
  {
   "cell_type": "markdown",
   "metadata": {},
   "source": [
    "#### Salvar tabela para o documento LATEX."
   ]
  },
  {
   "cell_type": "code",
   "execution_count": 63,
   "metadata": {
    "collapsed": false
   },
   "outputs": [],
   "source": [
    "z.pd.set_option('display.max_colwidth',-1)\n",
    "with open('./../texto/img/tbl_bairros_aisp.tex','w') as f:\n",
    "    s = gb.to_latex(index=False, )\n",
    "    s += ''\n",
    "    f.write(s.encode('utf-8'))"
   ]
  },
  {
   "cell_type": "markdown",
   "metadata": {},
   "source": [
    "## Visualizações da variáveis socioeconômicas."
   ]
  },
  {
   "cell_type": "code",
   "execution_count": 95,
   "metadata": {
    "collapsed": false
   },
   "outputs": [
    {
     "data": {
      "text/html": [
       "<div style=\"max-height:1000px;max-width:1500px;overflow:auto;\">\n",
       "<table border=\"1\" class=\"dataframe\">\n",
       "  <thead>\n",
       "    <tr style=\"text-align: right;\">\n",
       "      <th></th>\n",
       "      <th>index</th>\n",
       "      <th>se_anos_estudo</th>\n",
       "      <th>se_perc_alfabetizacao</th>\n",
       "      <th>se_renda</th>\n",
       "      <th>se_saneamento</th>\n",
       "      <th>se_idh</th>\n",
       "      <th>se_crm_roubo</th>\n",
       "      <th>se_crm_violento</th>\n",
       "    </tr>\n",
       "  </thead>\n",
       "  <tbody>\n",
       "    <tr>\n",
       "      <th>count</th>\n",
       "      <td> 161.000000</td>\n",
       "      <td> 161.000000</td>\n",
       "      <td> 161.000000</td>\n",
       "      <td> 161.000000</td>\n",
       "      <td> 161.000000</td>\n",
       "      <td> 161.000000</td>\n",
       "      <td> 161.000000</td>\n",
       "      <td> 161.000000</td>\n",
       "    </tr>\n",
       "    <tr>\n",
       "      <th>mean</th>\n",
       "      <td> 80.000000</td>\n",
       "      <td> 8.352174</td>\n",
       "      <td> 97.311573</td>\n",
       "      <td> 1931.945528</td>\n",
       "      <td> 0.912236</td>\n",
       "      <td> 0.840027</td>\n",
       "      <td> 1455.035931</td>\n",
       "      <td> 686.739609</td>\n",
       "    </tr>\n",
       "    <tr>\n",
       "      <th>std</th>\n",
       "      <td> 46.620811</td>\n",
       "      <td> 2.154657</td>\n",
       "      <td> 1.923924</td>\n",
       "      <td> 1459.179621</td>\n",
       "      <td> 0.143975</td>\n",
       "      <td> 0.065726</td>\n",
       "      <td> 887.606510</td>\n",
       "      <td> 337.135620</td>\n",
       "    </tr>\n",
       "    <tr>\n",
       "      <th>min</th>\n",
       "      <td> 0.000000</td>\n",
       "      <td> 3.880000</td>\n",
       "      <td> 85.330000</td>\n",
       "      <td> 571.010000</td>\n",
       "      <td> 0.000000</td>\n",
       "      <td> 0.711408</td>\n",
       "      <td> 374.149360</td>\n",
       "      <td> 423.449787</td>\n",
       "    </tr>\n",
       "    <tr>\n",
       "      <th>25%</th>\n",
       "      <td> 40.000000</td>\n",
       "      <td> 6.950000</td>\n",
       "      <td> 96.630000</td>\n",
       "      <td> 1085.850000</td>\n",
       "      <td> 0.905568</td>\n",
       "      <td> 0.798364</td>\n",
       "      <td> 777.602554</td>\n",
       "      <td> 539.180020</td>\n",
       "    </tr>\n",
       "    <tr>\n",
       "      <th>50%</th>\n",
       "      <td> 80.000000</td>\n",
       "      <td> 7.800000</td>\n",
       "      <td> 97.680000</td>\n",
       "      <td> 1395.590000</td>\n",
       "      <td> 0.963885</td>\n",
       "      <td> 0.838543</td>\n",
       "      <td> 1422.348026</td>\n",
       "      <td> 577.233233</td>\n",
       "    </tr>\n",
       "    <tr>\n",
       "      <th>75%</th>\n",
       "      <td> 120.000000</td>\n",
       "      <td> 9.810000</td>\n",
       "      <td> 98.510000</td>\n",
       "      <td> 2103.470000</td>\n",
       "      <td> 0.991115</td>\n",
       "      <td> 0.877972</td>\n",
       "      <td> 1740.699949</td>\n",
       "      <td> 724.358959</td>\n",
       "    </tr>\n",
       "    <tr>\n",
       "      <th>max</th>\n",
       "      <td> 160.000000</td>\n",
       "      <td> 13.890000</td>\n",
       "      <td> 100.000000</td>\n",
       "      <td> 8286.460000</td>\n",
       "      <td> 0.999774</td>\n",
       "      <td> 0.970435</td>\n",
       "      <td> 4871.753940</td>\n",
       "      <td> 3306.226945</td>\n",
       "    </tr>\n",
       "  </tbody>\n",
       "</table>\n",
       "</div>"
      ],
      "text/plain": [
       "            index  se_anos_estudo  se_perc_alfabetizacao     se_renda  \\\n",
       "count  161.000000  161.000000      161.000000             161.000000    \n",
       "mean   80.000000   8.352174        97.311573              1931.945528   \n",
       "std    46.620811   2.154657        1.923924               1459.179621   \n",
       "min    0.000000    3.880000        85.330000              571.010000    \n",
       "25%    40.000000   6.950000        96.630000              1085.850000   \n",
       "50%    80.000000   7.800000        97.680000              1395.590000   \n",
       "75%    120.000000  9.810000        98.510000              2103.470000   \n",
       "max    160.000000  13.890000       100.000000             8286.460000   \n",
       "\n",
       "       se_saneamento      se_idh  se_crm_roubo  se_crm_violento  \n",
       "count  161.000000     161.000000  161.000000    161.000000       \n",
       "mean   0.912236       0.840027    1455.035931   686.739609       \n",
       "std    0.143975       0.065726    887.606510    337.135620       \n",
       "min    0.000000       0.711408    374.149360    423.449787       \n",
       "25%    0.905568       0.798364    777.602554    539.180020       \n",
       "50%    0.963885       0.838543    1422.348026   577.233233       \n",
       "75%    0.991115       0.877972    1740.699949   724.358959       \n",
       "max    0.999774       0.970435    4871.753940   3306.226945      "
      ]
     },
     "execution_count": 95,
     "metadata": {},
     "output_type": "execute_result"
    }
   ],
   "source": [
    "df = z.get('select * from _var_socioecon','gid')\n",
    "df.describe()"
   ]
  },
  {
   "cell_type": "code",
   "execution_count": 108,
   "metadata": {
    "collapsed": false
   },
   "outputs": [],
   "source": [
    "DIR = '../texto/img/'\n",
    "def plot(column, legend):\n",
    "    z.plot_boxhist(df[column].values, u'Variável '+column, \n",
    "        legend  )\n",
    "    savefig(DIR+'var_'+column+'_boxhist.png')"
   ]
  },
  {
   "cell_type": "code",
   "execution_count": 109,
   "metadata": {
    "collapsed": false
   },
   "outputs": [
    {
     "data": {
      "image/png": "[encoded data removed]",
      "text/plain": [
       "<matplotlib.figure.Figure at 0x10f99abd0>"
      ]
     },
     "metadata": {},
     "output_type": "display_data"
    }
   ],
   "source": [
    "plot('se_anos_estudo',u'Média de anos de estudo')"
   ]
  },
  {
   "cell_type": "code",
   "execution_count": 110,
   "metadata": {
    "collapsed": false
   },
   "outputs": [
    {
     "data": {
      "image/png": "[encoded data removed]",
      "text/plain": [
       "<matplotlib.figure.Figure at 0x11012ed10>"
      ]
     },
     "metadata": {},
     "output_type": "display_data"
    }
   ],
   "source": [
    "plot('se_perc_alfabetizacao', u'Percentual de alfabetização')"
   ]
  },
  {
   "cell_type": "code",
   "execution_count": 120,
   "metadata": {
    "collapsed": false
   },
   "outputs": [
    {
     "data": {
      "image/png": "[encoded data removed]",
      "text/plain": [
       "<matplotlib.figure.Figure at 0x10fddcb50>"
      ]
     },
     "metadata": {},
     "output_type": "display_data"
    }
   ],
   "source": [
    "plot('se_renda','Renda Nominal em R\\$')"
   ]
  },
  {
   "cell_type": "code",
   "execution_count": 115,
   "metadata": {
    "collapsed": false
   },
   "outputs": [
    {
     "data": {
      "image/png": "[encoded data removed]",
      "text/plain": [
       "<matplotlib.figure.Figure at 0x10f9b3b50>"
      ]
     },
     "metadata": {},
     "output_type": "display_data"
    }
   ],
   "source": [
    "plot('se_saneamento', u'Percentual de saneamento básico')"
   ]
  },
  {
   "cell_type": "code",
   "execution_count": 116,
   "metadata": {
    "collapsed": false
   },
   "outputs": [
    {
     "data": {
      "image/png": "[encoded data removed]",
      "text/plain": [
       "<matplotlib.figure.Figure at 0x10fde1290>"
      ]
     },
     "metadata": {},
     "output_type": "display_data"
    }
   ],
   "source": [
    "plot('se_idh', u'Índice de Desenvolvimento Humano Municipal')"
   ]
  },
  {
   "cell_type": "code",
   "execution_count": 118,
   "metadata": {
    "collapsed": false
   },
   "outputs": [
    {
     "data": {
      "image/png": "[encoded data removed]",
      "text/plain": [
       "<matplotlib.figure.Figure at 0x10f90fbd0>"
      ]
     },
     "metadata": {},
     "output_type": "display_data"
    }
   ],
   "source": [
    "plot('se_crm_roubo', u'Índice de Crimes de Roubos')"
   ]
  },
  {
   "cell_type": "code",
   "execution_count": 119,
   "metadata": {
    "collapsed": false
   },
   "outputs": [
    {
     "data": {
      "image/png": "[encoded data removed]",
      "text/plain": [
       "<matplotlib.figure.Figure at 0x1104a3950>"
      ]
     },
     "metadata": {},
     "output_type": "display_data"
    }
   ],
   "source": [
    "plot('se_crm_violento', u'Índice de Crimes Violentos')"
   ]
  },
  {
   "cell_type": "code",
   "execution_count": null,
   "metadata": {
    "collapsed": false
   },
   "outputs": [],
   "source": []
  }
 ],
 "metadata": {
  "kernelspec": {
   "display_name": "Python 2",
   "language": "python",
   "name": "python2"
  },
  "language_info": {
   "codemirror_mode": {
    "name": "ipython",
    "version": 2
   },
   "file_extension": ".py",
   "mimetype": "text/x-python",
   "name": "python",
   "nbconvert_exporter": "python",
   "pygments_lexer": "ipython2",
   "version": "2.7.9"
  }
 },
 "nbformat": 4,
 "nbformat_minor": 0
}
