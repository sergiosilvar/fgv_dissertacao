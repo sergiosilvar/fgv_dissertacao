{
 "cells": [
  {
   "cell_type": "markdown",
   "metadata": {},
   "source": [
    "# Variávies sócioambientais\n",
    "\n",
    "\n",
    "Este Notebook constrói as variáveis sócioeconômicas selecionadas para o modelo de regressão."
   ]
  },
  {
   "cell_type": "markdown",
   "metadata": {},
   "source": [
    "\n",
    "## Variável 'Média de Anos de Estudo por Bairro'"
   ]
  },
  {
   "cell_type": "code",
   "execution_count": 1,
   "metadata": {
    "collapsed": false
   },
   "outputs": [],
   "source": [
    "import zap_util as z\n",
    "from xlrd import open_workbook"
   ]
  },
  {
   "cell_type": "code",
   "execution_count": 2,
   "metadata": {
    "collapsed": false
   },
   "outputs": [
    {
     "name": "stdout",
     "output_type": "stream",
     "text": [
      "Tabela bairro tem 161 itens e arquivo tem 158 itens.\n"
     ]
    }
   ],
   "source": [
    "b = z.get('select gid,nome_s as nome from bairro', id_=None)\n",
    "wb = open_workbook('./../armazen_dados_rj/488.xls', encoding_override=True)\n",
    "ws = wb.sheet_by_index(0)\n",
    "nomes = ws.col_values(0,1)\n",
    "anos = ws.col_values(1,1)\n",
    "df = z.pd.DataFrame()\n",
    "df['nome'] = [str.strip(z.remove_acento(n)) for n in nomes]\n",
    "df['se_anos_estudo'] = anos\n",
    "\n",
    "print 'Tabela bairro tem {} itens e arquivo tem {} itens.'.format(len(b), len(df))\n"
   ]
  },
  {
   "cell_type": "code",
   "execution_count": 3,
   "metadata": {
    "collapsed": false
   },
   "outputs": [
    {
     "data": {
      "text/plain": [
       "{'Freguesia _Ilha_',\n",
       " 'Freguesia _Jacarepagua_',\n",
       " 'Gericino',\n",
       " 'Lapa',\n",
       " 'Osvaldo Cruz',\n",
       " 'Vasco da Gama'}"
      ]
     },
     "execution_count": 3,
     "metadata": {},
     "output_type": "execute_result"
    }
   ],
   "source": [
    "# Bairros no banco de dados mas não  no arquivo.\n",
    "set(b.nome.tolist()) - set(df.nome.tolist())\n"
   ]
  },
  {
   "cell_type": "code",
   "execution_count": 4,
   "metadata": {
    "collapsed": false
   },
   "outputs": [
    {
     "data": {
      "text/plain": [
       "{'Freguesia (Ilha)', 'Freguesia (Jacarepagua)', 'Oswaldo Cruz'}"
      ]
     },
     "execution_count": 4,
     "metadata": {},
     "output_type": "execute_result"
    }
   ],
   "source": [
    "# Bairros no arquivo mas não no banco de dados.\n",
    "set(df.nome.tolist()) - set(b.nome.tolist())"
   ]
  },
  {
   "cell_type": "code",
   "execution_count": 5,
   "metadata": {
    "collapsed": false
   },
   "outputs": [],
   "source": [
    "# Ajustar nomes do arquivo para serem igual ao do banco de dados.\n",
    "df.loc[df.nome == 'Freguesia (Ilha)', 'nome'] = 'Freguesia _Ilha_'\n",
    "df.loc[df.nome == 'Freguesia (Jacarepagua)','nome'] = 'Freguesia _Jacarepagua_'\n",
    "df.loc[df.nome == 'Oswaldo Cruz','nome'] = 'Osvaldo Cruz'"
   ]
  },
  {
   "cell_type": "code",
   "execution_count": 6,
   "metadata": {
    "collapsed": false
   },
   "outputs": [
    {
     "data": {
      "text/plain": [
       "{'Gericino', 'Lapa', 'Vasco da Gama'}"
      ]
     },
     "execution_count": 6,
     "metadata": {},
     "output_type": "execute_result"
    }
   ],
   "source": [
    "# Verificar novamente bairros no banco de dados mas não  no arquivo.\n",
    "# Esses bairros realmente não estão no arquivo.\n",
    "set(b.nome.tolist()) - set(df.nome.tolist())"
   ]
  },
  {
   "cell_type": "code",
   "execution_count": 7,
   "metadata": {
    "collapsed": false
   },
   "outputs": [],
   "source": [
    "b = z.pd.merge(b,df,on=['nome'], how='left')"
   ]
  },
  {
   "cell_type": "code",
   "execution_count": 8,
   "metadata": {
    "collapsed": false
   },
   "outputs": [],
   "source": [
    "# Tratamento dos valores ausentes.\n",
    "\n",
    "def media(coluna, bairros):\n",
    "    soma = 0\n",
    "    for v in bairros:\n",
    "        soma += b[b.nome==v][coluna].values[0]\n",
    "    return soma/len(bairros)\n",
    "\n",
    "\n",
    "# Gericino\n",
    "b.ix[b.nome=='Gericino','se_anos_estudo'] = \\\n",
    "    media('se_anos_estudo',['Bangu','Padre Miguel', 'Realengo'])\n",
    "\n",
    "# Lapa\n",
    "b.ix[b.nome=='Lapa','se_anos_estudo'] = \\\n",
    "    media('se_anos_estudo',['Centro', 'Santa Teresa', 'Gloria'])\n",
    "\n",
    "# Vasco da Gama\n",
    "b.ix[b.nome=='Vasco da Gama', 'se_anos_estudo'] = \\\n",
    "    media('se_anos_estudo', ['Sao Cristovao','Caju','Benfica'])"
   ]
  },
  {
   "cell_type": "markdown",
   "metadata": {},
   "source": [
    "# Variável 'Percentual Alfabetização'"
   ]
  },
  {
   "cell_type": "code",
   "execution_count": 9,
   "metadata": {
    "collapsed": false
   },
   "outputs": [
    {
     "name": "stdout",
     "output_type": "stream",
     "text": [
      "Tabela bairro tem 161 itens e arquivo tem 160 itens.\n"
     ]
    }
   ],
   "source": [
    "wb = open_workbook('./../armazen_dados_rj/3132.xls')\n",
    "ws = wb.sheet_by_index(0)\n",
    "nomes = ws.col_values(0,1)\n",
    "perc_alfabetizacao = ws.col_values(1,1)\n",
    "df = z.pd.DataFrame()\n",
    "df['nome'] = [str.strip(z.remove_acento(n)) for n in nomes]\n",
    "df['se_perc_alfabetizacao'] = perc_alfabetizacao\n",
    "\n",
    "print 'Tabela bairro tem {} itens e arquivo tem {} itens.'.format(len(b), len(df))"
   ]
  },
  {
   "cell_type": "code",
   "execution_count": 10,
   "metadata": {
    "collapsed": false
   },
   "outputs": [
    {
     "data": {
      "text/plain": [
       "{'Lapa', 'Vila Kosmos'}"
      ]
     },
     "execution_count": 10,
     "metadata": {},
     "output_type": "execute_result"
    }
   ],
   "source": [
    "# Bairros no banco de dados mas não  no arquivo.\n",
    "set(b.nome.tolist()) - set(df.nome.tolist())"
   ]
  },
  {
   "cell_type": "code",
   "execution_count": 11,
   "metadata": {
    "collapsed": false
   },
   "outputs": [
    {
     "data": {
      "text/plain": [
       "{'Vila Cosmos'}"
      ]
     },
     "execution_count": 11,
     "metadata": {},
     "output_type": "execute_result"
    }
   ],
   "source": [
    "# Bairros no arquivo mas não no banco de dados.\n",
    "set(df.nome.tolist()) - set(b.nome.tolist())"
   ]
  },
  {
   "cell_type": "code",
   "execution_count": 12,
   "metadata": {
    "collapsed": false
   },
   "outputs": [],
   "source": [
    "# Ajustar nomes do arquivo para serem igual ao do banco de dados.\n",
    "df.loc[df.nome == 'Vila Cosmos', 'nome'] = 'Vila Kosmos'\n"
   ]
  },
  {
   "cell_type": "code",
   "execution_count": 13,
   "metadata": {
    "collapsed": false
   },
   "outputs": [
    {
     "data": {
      "text/plain": [
       "{'Lapa'}"
      ]
     },
     "execution_count": 13,
     "metadata": {},
     "output_type": "execute_result"
    }
   ],
   "source": [
    "# Verificar novamente bairros no banco de dados mas não  no arquivo.\n",
    "# Esses bairros realmente não estão no arquivo.\n",
    "set(b.nome.tolist()) - set(df.nome.tolist())"
   ]
  },
  {
   "cell_type": "code",
   "execution_count": 14,
   "metadata": {
    "collapsed": false
   },
   "outputs": [],
   "source": [
    "b = z.pd.merge(b,df,on=['nome'], how='left')"
   ]
  },
  {
   "cell_type": "code",
   "execution_count": 15,
   "metadata": {
    "collapsed": false
   },
   "outputs": [],
   "source": [
    "# Tratamento dos valores ausentes.\n",
    "\n",
    "# Lapa\n",
    "b.ix[b.nome=='Lapa','se_perc_alfabetizacao'] = \\\n",
    "    media('se_perc_alfabetizacao',['Centro', 'Santa Teresa', 'Gloria'])\n"
   ]
  },
  {
   "cell_type": "markdown",
   "metadata": {},
   "source": [
    "# Variável 'Rendimento Nominal Médio'"
   ]
  },
  {
   "cell_type": "code",
   "execution_count": 16,
   "metadata": {
    "collapsed": false
   },
   "outputs": [
    {
     "name": "stdout",
     "output_type": "stream",
     "text": [
      "Tabela bairro tem 161 itens e arquivo tem 160 itens.\n"
     ]
    }
   ],
   "source": [
    "wb = open_workbook('./../armazen_dados_rj/3151.xls')\n",
    "ws = wb.sheet_by_index(0)\n",
    "nomes = ws.col_values(0,1)\n",
    "rend = ws.col_values(1,1)\n",
    "df = z.pd.DataFrame()\n",
    "df['nome'] = [str.strip(z.remove_acento(n)) for n in nomes]\n",
    "df['se_renda'] = rend\n",
    "\n",
    "print 'Tabela bairro tem {} itens e arquivo tem {} itens.'.format(len(b), len(df))"
   ]
  },
  {
   "cell_type": "code",
   "execution_count": 17,
   "metadata": {
    "collapsed": false
   },
   "outputs": [
    {
     "data": {
      "text/plain": [
       "{'Lapa', 'Sao Cristovao'}"
      ]
     },
     "execution_count": 17,
     "metadata": {},
     "output_type": "execute_result"
    }
   ],
   "source": [
    "# Bairros no banco de dados mas não  no arquivo.\n",
    "set(b.nome.tolist()) - set(df.nome.tolist())"
   ]
  },
  {
   "cell_type": "code",
   "execution_count": 18,
   "metadata": {
    "collapsed": false
   },
   "outputs": [
    {
     "data": {
      "text/plain": [
       "{'Imperial de Sao Cristovao'}"
      ]
     },
     "execution_count": 18,
     "metadata": {},
     "output_type": "execute_result"
    }
   ],
   "source": [
    "# Bairros no arquivo mas não no banco de dados.\n",
    "set(df.nome.tolist()) - set(b.nome.tolist())"
   ]
  },
  {
   "cell_type": "code",
   "execution_count": 19,
   "metadata": {
    "collapsed": false
   },
   "outputs": [],
   "source": [
    "# Ajustar nomes do arquivo para serem igual ao do banco de dados.\n",
    "df.loc[df.nome == 'Imperial de Sao Cristovao', 'nome'] = 'Sao Cristovao'\n"
   ]
  },
  {
   "cell_type": "code",
   "execution_count": 20,
   "metadata": {
    "collapsed": false
   },
   "outputs": [
    {
     "data": {
      "text/plain": [
       "{'Lapa'}"
      ]
     },
     "execution_count": 20,
     "metadata": {},
     "output_type": "execute_result"
    }
   ],
   "source": [
    "# Verificar novamente bairros no banco de dados mas não  no arquivo.\n",
    "# Esses bairros realmente não estão no arquivo.\n",
    "set(b.nome.tolist()) - set(df.nome.tolist())"
   ]
  },
  {
   "cell_type": "code",
   "execution_count": 21,
   "metadata": {
    "collapsed": false
   },
   "outputs": [],
   "source": [
    "b = z.pd.merge(b,df,on=['nome'], how='left')"
   ]
  },
  {
   "cell_type": "code",
   "execution_count": 22,
   "metadata": {
    "collapsed": false
   },
   "outputs": [],
   "source": [
    "# Tratamento dos valores ausentes.\n",
    "\n",
    "# Lapa\n",
    "b.ix[b.nome=='Lapa','se_renda'] = \\\n",
    "    media('se_renda',['Centro', 'Santa Teresa', 'Gloria'])\n"
   ]
  },
  {
   "cell_type": "markdown",
   "metadata": {},
   "source": [
    "# Variável 'Saneamento'."
   ]
  },
  {
   "cell_type": "code",
   "execution_count": 23,
   "metadata": {
    "collapsed": false
   },
   "outputs": [
    {
     "name": "stdout",
     "output_type": "stream",
     "text": [
      "Tabela bairro tem 161 itens e arquivo tem 161 itens.\n"
     ]
    }
   ],
   "source": [
    "wb = open_workbook('./../armazen_dados_rj/3169.xls')\n",
    "ws = wb.sheet_by_index(0)\n",
    "nomes = ws.col_values(0,1)\n",
    "sanea = ws.col_values(1,1)\n",
    "df = z.pd.DataFrame()\n",
    "df['nome'] = [str.strip(z.remove_acento(n)) for n in nomes]\n",
    "df['se_saneamento'] = sanea\n",
    "\n",
    "\n",
    "print 'Tabela bairro tem {} itens e arquivo tem {} itens.'.format(len(b), len(df))"
   ]
  },
  {
   "cell_type": "code",
   "execution_count": 24,
   "metadata": {
    "collapsed": false
   },
   "outputs": [
    {
     "data": {
      "text/plain": [
       "set()"
      ]
     },
     "execution_count": 24,
     "metadata": {},
     "output_type": "execute_result"
    }
   ],
   "source": [
    "# Bairros no banco de dados mas não  no arquivo.\n",
    "set(b.nome.tolist()) - set(df.nome.tolist())"
   ]
  },
  {
   "cell_type": "code",
   "execution_count": 25,
   "metadata": {
    "collapsed": false
   },
   "outputs": [
    {
     "data": {
      "text/plain": [
       "set()"
      ]
     },
     "execution_count": 25,
     "metadata": {},
     "output_type": "execute_result"
    }
   ],
   "source": [
    "# Bairros no arquivo mas não no banco de dados.\n",
    "set(df.nome.tolist()) - set(b.nome.tolist())"
   ]
  },
  {
   "cell_type": "code",
   "execution_count": 26,
   "metadata": {
    "collapsed": false
   },
   "outputs": [],
   "source": [
    "# Arquivo não tem dados válidos para Lapa.\n",
    "df.loc[df.nome == 'Lapa','se_saneamento'] = None\n",
    "df['se_saneamento'] = df['se_saneamento'].astype(float)"
   ]
  },
  {
   "cell_type": "code",
   "execution_count": 27,
   "metadata": {
    "collapsed": false
   },
   "outputs": [],
   "source": [
    "b = z.pd.merge(b,df,on=['nome'], how='left')"
   ]
  },
  {
   "cell_type": "code",
   "execution_count": 28,
   "metadata": {
    "collapsed": false
   },
   "outputs": [],
   "source": [
    "# Tratamento dos valores ausentes.\n",
    "\n",
    "# Lapa\n",
    "b.ix[b.nome=='Lapa','se_saneamento'] = \\\n",
    "    media('se_saneamento',['Centro', 'Santa Teresa', 'Gloria'])\n"
   ]
  },
  {
   "cell_type": "markdown",
   "metadata": {},
   "source": [
    "# Variável IDH"
   ]
  },
  {
   "cell_type": "code",
   "execution_count": 29,
   "metadata": {
    "collapsed": false
   },
   "outputs": [
    {
     "name": "stdout",
     "output_type": "stream",
     "text": [
      "Tabela bairro tem 161 itens e arquivo tem 159 itens.\n"
     ]
    }
   ],
   "source": [
    "wb = open_workbook('./../armazen_dados_rj/1172.xls')\n",
    "ws = wb.sheet_by_index(0)\n",
    "nomes = ws.col_values(0,1)\n",
    "idh = ws.col_values(1,1)\n",
    "df = z.pd.DataFrame()\n",
    "df['nome'] = [str.strip(z.remove_acento(n)) for n in nomes]\n",
    "df['se_idh'] = idh\n",
    "\n",
    "\n",
    "print 'Tabela bairro tem {} itens e arquivo tem {} itens.'.format(len(b), len(df))"
   ]
  },
  {
   "cell_type": "code",
   "execution_count": 30,
   "metadata": {
    "collapsed": false
   },
   "outputs": [
    {
     "data": {
      "text/plain": [
       "{'Gericino', 'Lapa'}"
      ]
     },
     "execution_count": 30,
     "metadata": {},
     "output_type": "execute_result"
    }
   ],
   "source": [
    "# Bairros no banco de dados mas não  no arquivo.\n",
    "set(b.nome.tolist()) - set(df.nome.tolist())"
   ]
  },
  {
   "cell_type": "code",
   "execution_count": 31,
   "metadata": {
    "collapsed": false
   },
   "outputs": [
    {
     "data": {
      "text/plain": [
       "set()"
      ]
     },
     "execution_count": 31,
     "metadata": {},
     "output_type": "execute_result"
    }
   ],
   "source": [
    "# Bairros no arquivo mas não no banco de dados.\n",
    "set(df.nome.tolist()) - set(b.nome.tolist())"
   ]
  },
  {
   "cell_type": "code",
   "execution_count": 32,
   "metadata": {
    "collapsed": false
   },
   "outputs": [],
   "source": [
    "b = z.pd.merge(b,df,on=['nome'], how='left')"
   ]
  },
  {
   "cell_type": "code",
   "execution_count": 33,
   "metadata": {
    "collapsed": false
   },
   "outputs": [],
   "source": [
    "# Tratamento de valores ausentes.\n",
    "\n",
    "# Gericino\n",
    "b.ix[b.nome=='Gericino','se_idh'] = media('se_idh',['Bangu','Padre Miguel', 'Realengo'])\n",
    "\n",
    "# Lapa\n",
    "b.ix[b.nome=='Lapa','se_idh'] = media('se_idh',['Centro', 'Santa Teresa', 'Gloria'])\n"
   ]
  },
  {
   "cell_type": "code",
   "execution_count": 34,
   "metadata": {
    "collapsed": false
   },
   "outputs": [
    {
     "data": {
      "text/plain": [
       "gid                      0\n",
       "nome                     0\n",
       "se_anos_estudo           0\n",
       "se_perc_alfabetizacao    0\n",
       "se_renda                 0\n",
       "se_saneamento            0\n",
       "se_idh                   0\n",
       "dtype: int64"
      ]
     },
     "execution_count": 34,
     "metadata": {},
     "output_type": "execute_result"
    }
   ],
   "source": [
    "# Verificar se restou algum valor nulo.\n",
    "b.isnull().sum()"
   ]
  },
  {
   "cell_type": "markdown",
   "metadata": {},
   "source": [
    "# Índices de Criminalidade\n",
    "\n",
    "Os índices de criminalidade foram obtidos do Institudo de Segurança Pública do RJ pelo notebook [Capturar Info Bairros](Capturar Info Bairros.ipynb)."
   ]
  },
  {
   "cell_type": "code",
   "execution_count": 35,
   "metadata": {
    "collapsed": false
   },
   "outputs": [],
   "source": [
    "# AISPs da cidade do Rio de Janeiro.\n",
    "aisp_idx = [2,3,4,5,6,9,14,16,17,18,19,22,23,27,31,40,41]\n",
    "\n",
    "from xlrd import open_workbook, cellname\n",
    "\n",
    "# Repositório dos arquivos baixados.\n",
    "DIR = './../instituto_seguranca_publica/xls/'\n",
    "\n",
    "# Construir nomes dos arquivos.\n",
    "x = ['2014{:0>2}'.format(i) for i in range(1,11)]\n",
    "arqs = ['2013{:0>2}'.format(i) for i in range(10,13)]+ x\n",
    "\n",
    "# Helper para indexar coluna no Excel por sua letra.\n",
    "def colindex(colname):\n",
    "    cols_ = 'ABCDEFGHIJKLMNOPQRSTUVWXYZ'\n",
    "    return cols_.index(colname)\n",
    "\n",
    "\n",
    "# Índices de criminalidade por AISP.\n",
    "indices = {}\n",
    "\n",
    "# Carregar os índices a partir dos arquivos.\n",
    "for arq in arqs[:]:\n",
    "    \n",
    "    wb = open_workbook(DIR+arq+'.xls')\n",
    "    \n",
    "    for i in aisp_idx[:]:\n",
    "        crimes = indices.setdefault(i, {})\n",
    "        try:\n",
    "            ws = wb.sheet_by_name(u'Aisp {}'.format(i))\n",
    "        except:\n",
    "            ws = wb.sheet_by_name(u'Aisp{}'.format(i))\n",
    "        col = colindex('S')\n",
    "        crimes['se_crm_violento'] = crimes.setdefault('se_crm_violento',0) + \\\n",
    "            sum(ws.col_values(col,6, 11))\n",
    "        crimes['se_crm_roubo'] = crimes.setdefault('se_crm_roubo',0) + \\\n",
    "            sum(ws.col_values(col, 22, 33))\n",
    "    \n",
    "        del ws\n",
    "    del wb\n",
    "    \n",
    "df_aisp = z.pd.DataFrame(indices).T    \n",
    "df_aisp['aisp'] = df_aisp.index"
   ]
  },
  {
   "cell_type": "code",
   "execution_count": 36,
   "metadata": {
    "collapsed": false
   },
   "outputs": [],
   "source": [
    "# De <-> para entre AISP e Bairro.\n",
    "nome = './../instituto_seguranca_publica/aisp_bairro.csv'\n",
    "aisp_bairro = z.pd.DataFrame.from_csv(nome, index_col=None)\n",
    "\n",
    "# Remover acentos.\n",
    "aisp_bairro['nome'] =  aisp_bairro.nome.apply(z.remove_acento)\n",
    "\n",
    "\n"
   ]
  },
  {
   "cell_type": "code",
   "execution_count": 37,
   "metadata": {
    "collapsed": false
   },
   "outputs": [
    {
     "data": {
      "text/plain": [
       "set()"
      ]
     },
     "execution_count": 37,
     "metadata": {},
     "output_type": "execute_result"
    }
   ],
   "source": [
    "# Listar bairros no banco de dados mas não de<->para.\n",
    "# As correções necessárias foram feitas.\n",
    "set(b.nome.tolist()) - set(aisp_bairro.nome.tolist())"
   ]
  },
  {
   "cell_type": "code",
   "execution_count": 38,
   "metadata": {
    "collapsed": false
   },
   "outputs": [
    {
     "data": {
      "text/plain": [
       "set()"
      ]
     },
     "execution_count": 38,
     "metadata": {},
     "output_type": "execute_result"
    }
   ],
   "source": [
    "# Listar bairros no banco de dados mas não de<->para.\n",
    "# As correções necessárias foram feitas.\n",
    "set(aisp_bairro.nome.tolist()) - set(b.nome.tolist())"
   ]
  },
  {
   "cell_type": "code",
   "execution_count": 39,
   "metadata": {
    "collapsed": false
   },
   "outputs": [],
   "source": [
    "# Bairros em um único AISP.\n",
    "g = aisp_bairro.groupby('nome')\n",
    "s = g.size()\n",
    "df_bairro = b[['gid','nome']]\n",
    "nomes_unico_aisp = s[s == 1].index.tolist()\n",
    "b1 = z.pd.merge(\n",
    "    df_bairro[df_bairro.nome.isin(nomes_unico_aisp)], \n",
    "    aisp_bairro, on=['nome'], how='left')\n",
    "b1_aisp = z.pd.merge(b1, df_aisp, on=['aisp'], how='left')\n",
    "del b1_aisp['aisp'],b1\n",
    "\n",
    "\n"
   ]
  },
  {
   "cell_type": "code",
   "execution_count": 40,
   "metadata": {
    "collapsed": false
   },
   "outputs": [],
   "source": [
    "# Calcular média dos indicadores para bairros em mais de um AISP.\n",
    "\n",
    "data = []\n",
    "for i in s[s>1].index.tolist():\n",
    "    aispids = g.get_group(i).aisp.unique().tolist()\n",
    "    data.append({'nome':i,\n",
    "            'gid':b[(b.nome==i)].index.tolist()[0],\n",
    "            'se_crm_roubo':df_aisp.loc[aispids].mean().se_crm_roubo,\n",
    "            'se_crm_violento':df_aisp.loc[aispids].mean().se_crm_roubo\n",
    "            })\n",
    "    \n",
    "b2_aisp = z.pd.DataFrame(data)    \n",
    "\n",
    "    "
   ]
  },
  {
   "cell_type": "code",
   "execution_count": 41,
   "metadata": {
    "collapsed": false
   },
   "outputs": [
    {
     "data": {
      "text/html": [
       "<div style=\"max-height:1000px;max-width:1500px;overflow:auto;\">\n",
       "<table border=\"1\" class=\"dataframe\">\n",
       "  <thead>\n",
       "    <tr style=\"text-align: right;\">\n",
       "      <th></th>\n",
       "      <th>nome</th>\n",
       "      <th>se_crm_roubo</th>\n",
       "      <th>se_crm_violento</th>\n",
       "    </tr>\n",
       "    <tr>\n",
       "      <th>gid</th>\n",
       "      <th></th>\n",
       "      <th></th>\n",
       "      <th></th>\n",
       "    </tr>\n",
       "  </thead>\n",
       "  <tbody>\n",
       "    <tr>\n",
       "      <th>1</th>\n",
       "      <td>Paqueta</td>\n",
       "      <td>4871.753940</td>\n",
       "      <td>1730.203982</td>\n",
       "    </tr>\n",
       "    <tr>\n",
       "      <th>4</th>\n",
       "      <td>Galeao</td>\n",
       "      <td>506.370607</td>\n",
       "      <td>528.446144</td>\n",
       "    </tr>\n",
       "    <tr>\n",
       "      <th>8</th>\n",
       "      <td>Campo Grande</td>\n",
       "      <td>548.152777</td>\n",
       "      <td>750.171811</td>\n",
       "    </tr>\n",
       "    <tr>\n",
       "      <th>15</th>\n",
       "      <td>Jardim Guanabara</td>\n",
       "      <td>506.370607</td>\n",
       "      <td>528.446144</td>\n",
       "    </tr>\n",
       "    <tr>\n",
       "      <th>25</th>\n",
       "      <td>Pitangueiras</td>\n",
       "      <td>506.370607</td>\n",
       "      <td>528.446144</td>\n",
       "    </tr>\n",
       "    <tr>\n",
       "      <th>20</th>\n",
       "      <td>Bangu</td>\n",
       "      <td>1422.348026</td>\n",
       "      <td>630.102144</td>\n",
       "    </tr>\n",
       "    <tr>\n",
       "      <th>33</th>\n",
       "      <td>Parque Anchieta</td>\n",
       "      <td>2138.462156</td>\n",
       "      <td>538.945453</td>\n",
       "    </tr>\n",
       "    <tr>\n",
       "      <th>28</th>\n",
       "      <td>Penha</td>\n",
       "      <td>1247.621093</td>\n",
       "      <td>539.180020</td>\n",
       "    </tr>\n",
       "    <tr>\n",
       "      <th>30</th>\n",
       "      <td>Ribeira</td>\n",
       "      <td>506.370607</td>\n",
       "      <td>528.446144</td>\n",
       "    </tr>\n",
       "    <tr>\n",
       "      <th>41</th>\n",
       "      <td>Mare</td>\n",
       "      <td>1005.882404</td>\n",
       "      <td>548.783181</td>\n",
       "    </tr>\n",
       "    <tr>\n",
       "      <th>42</th>\n",
       "      <td>Vila Militar</td>\n",
       "      <td>1422.348026</td>\n",
       "      <td>630.102144</td>\n",
       "    </tr>\n",
       "    <tr>\n",
       "      <th>46</th>\n",
       "      <td>Realengo</td>\n",
       "      <td>1422.348026</td>\n",
       "      <td>630.102144</td>\n",
       "    </tr>\n",
       "    <tr>\n",
       "      <th>43</th>\n",
       "      <td>Cidade Universitaria</td>\n",
       "      <td>506.370607</td>\n",
       "      <td>528.446144</td>\n",
       "    </tr>\n",
       "    <tr>\n",
       "      <th>50</th>\n",
       "      <td>Paciencia</td>\n",
       "      <td>374.149360</td>\n",
       "      <td>724.667841</td>\n",
       "    </tr>\n",
       "    <tr>\n",
       "      <th>53</th>\n",
       "      <td>Vaz Lobo</td>\n",
       "      <td>2121.794262</td>\n",
       "      <td>724.358959</td>\n",
       "    </tr>\n",
       "    <tr>\n",
       "      <th>63</th>\n",
       "      <td>Santa Cruz</td>\n",
       "      <td>374.149360</td>\n",
       "      <td>724.667841</td>\n",
       "    </tr>\n",
       "    <tr>\n",
       "      <th>67</th>\n",
       "      <td>Campo dos Afonsos</td>\n",
       "      <td>1422.348026</td>\n",
       "      <td>630.102144</td>\n",
       "    </tr>\n",
       "    <tr>\n",
       "      <th>70</th>\n",
       "      <td>Engenheiro Leal</td>\n",
       "      <td>2121.794262</td>\n",
       "      <td>724.358959</td>\n",
       "    </tr>\n",
       "    <tr>\n",
       "      <th>79</th>\n",
       "      <td>Campinho</td>\n",
       "      <td>2121.794262</td>\n",
       "      <td>724.358959</td>\n",
       "    </tr>\n",
       "    <tr>\n",
       "      <th>90</th>\n",
       "      <td>Inhoaiba</td>\n",
       "      <td>548.152777</td>\n",
       "      <td>750.171811</td>\n",
       "    </tr>\n",
       "    <tr>\n",
       "      <th>106</th>\n",
       "      <td>Taquara</td>\n",
       "      <td>646.448508</td>\n",
       "      <td>764.408423</td>\n",
       "    </tr>\n",
       "    <tr>\n",
       "      <th>116</th>\n",
       "      <td>Santa Teresa</td>\n",
       "      <td>4871.753940</td>\n",
       "      <td>1730.203982</td>\n",
       "    </tr>\n",
       "    <tr>\n",
       "      <th>124</th>\n",
       "      <td>Flamengo</td>\n",
       "      <td>1180.675882</td>\n",
       "      <td>423.449787</td>\n",
       "    </tr>\n",
       "    <tr>\n",
       "      <th>127</th>\n",
       "      <td>Vargem Grande</td>\n",
       "      <td>1167.358492</td>\n",
       "      <td>644.473336</td>\n",
       "    </tr>\n",
       "    <tr>\n",
       "      <th>128</th>\n",
       "      <td>Alto da Boa Vista</td>\n",
       "      <td>1124.097257</td>\n",
       "      <td>588.673608</td>\n",
       "    </tr>\n",
       "    <tr>\n",
       "      <th>126</th>\n",
       "      <td>Guaratiba</td>\n",
       "      <td>374.149360</td>\n",
       "      <td>724.667841</td>\n",
       "    </tr>\n",
       "    <tr>\n",
       "      <th>134</th>\n",
       "      <td>Sepetiba</td>\n",
       "      <td>374.149360</td>\n",
       "      <td>724.667841</td>\n",
       "    </tr>\n",
       "    <tr>\n",
       "      <th>140</th>\n",
       "      <td>Jardim Botanico</td>\n",
       "      <td>777.602554</td>\n",
       "      <td>567.540861</td>\n",
       "    </tr>\n",
       "    <tr>\n",
       "      <th>132</th>\n",
       "      <td>Urca</td>\n",
       "      <td>1180.675882</td>\n",
       "      <td>423.449787</td>\n",
       "    </tr>\n",
       "    <tr>\n",
       "      <th>136</th>\n",
       "      <td>Jacarepagua</td>\n",
       "      <td>646.448508</td>\n",
       "      <td>764.408423</td>\n",
       "    </tr>\n",
       "    <tr>\n",
       "      <th>...</th>\n",
       "      <td>...</td>\n",
       "      <td>...</td>\n",
       "      <td>...</td>\n",
       "    </tr>\n",
       "    <tr>\n",
       "      <th>114</th>\n",
       "      <td>Gloria</td>\n",
       "      <td>1180.675882</td>\n",
       "      <td>423.449787</td>\n",
       "    </tr>\n",
       "    <tr>\n",
       "      <th>115</th>\n",
       "      <td>Rio Comprido</td>\n",
       "      <td>1740.699949</td>\n",
       "      <td>715.936741</td>\n",
       "    </tr>\n",
       "    <tr>\n",
       "      <th>117</th>\n",
       "      <td>Estacio</td>\n",
       "      <td>1740.699949</td>\n",
       "      <td>715.936741</td>\n",
       "    </tr>\n",
       "    <tr>\n",
       "      <th>119</th>\n",
       "      <td>Catumbi</td>\n",
       "      <td>1740.699949</td>\n",
       "      <td>715.936741</td>\n",
       "    </tr>\n",
       "    <tr>\n",
       "      <th>120</th>\n",
       "      <td>Grajau</td>\n",
       "      <td>1124.097257</td>\n",
       "      <td>588.673608</td>\n",
       "    </tr>\n",
       "    <tr>\n",
       "      <th>121</th>\n",
       "      <td>Pechincha</td>\n",
       "      <td>646.448508</td>\n",
       "      <td>764.408423</td>\n",
       "    </tr>\n",
       "    <tr>\n",
       "      <th>122</th>\n",
       "      <td>Andarai</td>\n",
       "      <td>1124.097257</td>\n",
       "      <td>588.673608</td>\n",
       "    </tr>\n",
       "    <tr>\n",
       "      <th>123</th>\n",
       "      <td>Catete</td>\n",
       "      <td>1180.675882</td>\n",
       "      <td>423.449787</td>\n",
       "    </tr>\n",
       "    <tr>\n",
       "      <th>125</th>\n",
       "      <td>Laranjeiras</td>\n",
       "      <td>1180.675882</td>\n",
       "      <td>423.449787</td>\n",
       "    </tr>\n",
       "    <tr>\n",
       "      <th>129</th>\n",
       "      <td>Cosme Velho</td>\n",
       "      <td>1180.675882</td>\n",
       "      <td>423.449787</td>\n",
       "    </tr>\n",
       "    <tr>\n",
       "      <th>133</th>\n",
       "      <td>Cidade de Deus</td>\n",
       "      <td>646.448508</td>\n",
       "      <td>764.408423</td>\n",
       "    </tr>\n",
       "    <tr>\n",
       "      <th>130</th>\n",
       "      <td>Curicica</td>\n",
       "      <td>646.448508</td>\n",
       "      <td>764.408423</td>\n",
       "    </tr>\n",
       "    <tr>\n",
       "      <th>139</th>\n",
       "      <td>Gardenia Azul</td>\n",
       "      <td>646.448508</td>\n",
       "      <td>764.408423</td>\n",
       "    </tr>\n",
       "    <tr>\n",
       "      <th>131</th>\n",
       "      <td>Botafogo</td>\n",
       "      <td>1180.675882</td>\n",
       "      <td>423.449787</td>\n",
       "    </tr>\n",
       "    <tr>\n",
       "      <th>135</th>\n",
       "      <td>Anil</td>\n",
       "      <td>646.448508</td>\n",
       "      <td>764.408423</td>\n",
       "    </tr>\n",
       "    <tr>\n",
       "      <th>137</th>\n",
       "      <td>Camorim</td>\n",
       "      <td>1167.358492</td>\n",
       "      <td>644.473336</td>\n",
       "    </tr>\n",
       "    <tr>\n",
       "      <th>138</th>\n",
       "      <td>Humaita</td>\n",
       "      <td>1180.675882</td>\n",
       "      <td>423.449787</td>\n",
       "    </tr>\n",
       "    <tr>\n",
       "      <th>141</th>\n",
       "      <td>Vargem Pequena</td>\n",
       "      <td>1167.358492</td>\n",
       "      <td>644.473336</td>\n",
       "    </tr>\n",
       "    <tr>\n",
       "      <th>144</th>\n",
       "      <td>Lagoa</td>\n",
       "      <td>777.602554</td>\n",
       "      <td>567.540861</td>\n",
       "    </tr>\n",
       "    <tr>\n",
       "      <th>151</th>\n",
       "      <td>Rocinha</td>\n",
       "      <td>777.602554</td>\n",
       "      <td>567.540861</td>\n",
       "    </tr>\n",
       "    <tr>\n",
       "      <th>148</th>\n",
       "      <td>Leblon</td>\n",
       "      <td>777.602554</td>\n",
       "      <td>567.540861</td>\n",
       "    </tr>\n",
       "    <tr>\n",
       "      <th>152</th>\n",
       "      <td>Pedra de Guaratiba</td>\n",
       "      <td>374.149360</td>\n",
       "      <td>724.667841</td>\n",
       "    </tr>\n",
       "    <tr>\n",
       "      <th>161</th>\n",
       "      <td>Lapa</td>\n",
       "      <td>4871.753940</td>\n",
       "      <td>1730.203982</td>\n",
       "    </tr>\n",
       "    <tr>\n",
       "      <th>159</th>\n",
       "      <td>Deodoro</td>\n",
       "      <td>1422.348026</td>\n",
       "      <td>630.102144</td>\n",
       "    </tr>\n",
       "    <tr>\n",
       "      <th>160</th>\n",
       "      <td>Gericino</td>\n",
       "      <td>1422.348026</td>\n",
       "      <td>630.102144</td>\n",
       "    </tr>\n",
       "    <tr>\n",
       "      <th>3</th>\n",
       "      <td>Bancarios</td>\n",
       "      <td>506.370607</td>\n",
       "      <td>528.446144</td>\n",
       "    </tr>\n",
       "    <tr>\n",
       "      <th>143</th>\n",
       "      <td>Leme</td>\n",
       "      <td>809.532657</td>\n",
       "      <td>805.917270</td>\n",
       "    </tr>\n",
       "    <tr>\n",
       "      <th>20</th>\n",
       "      <td>Centro</td>\n",
       "      <td>3306.226945</td>\n",
       "      <td>3306.226945</td>\n",
       "    </tr>\n",
       "    <tr>\n",
       "      <th>71</th>\n",
       "      <td>Colegio</td>\n",
       "      <td>2130.128209</td>\n",
       "      <td>2130.128209</td>\n",
       "    </tr>\n",
       "    <tr>\n",
       "      <th>23</th>\n",
       "      <td>Tijuca</td>\n",
       "      <td>1432.398603</td>\n",
       "      <td>1432.398603</td>\n",
       "    </tr>\n",
       "  </tbody>\n",
       "</table>\n",
       "<p>161 rows × 3 columns</p>\n",
       "</div>"
      ],
      "text/plain": [
       "                     nome  se_crm_roubo  se_crm_violento\n",
       "gid                                                     \n",
       "1                 Paqueta   4871.753940      1730.203982\n",
       "4                  Galeao    506.370607       528.446144\n",
       "8            Campo Grande    548.152777       750.171811\n",
       "15       Jardim Guanabara    506.370607       528.446144\n",
       "25           Pitangueiras    506.370607       528.446144\n",
       "20                  Bangu   1422.348026       630.102144\n",
       "33        Parque Anchieta   2138.462156       538.945453\n",
       "28                  Penha   1247.621093       539.180020\n",
       "30                Ribeira    506.370607       528.446144\n",
       "41                   Mare   1005.882404       548.783181\n",
       "42           Vila Militar   1422.348026       630.102144\n",
       "46               Realengo   1422.348026       630.102144\n",
       "43   Cidade Universitaria    506.370607       528.446144\n",
       "50              Paciencia    374.149360       724.667841\n",
       "53               Vaz Lobo   2121.794262       724.358959\n",
       "63             Santa Cruz    374.149360       724.667841\n",
       "67      Campo dos Afonsos   1422.348026       630.102144\n",
       "70        Engenheiro Leal   2121.794262       724.358959\n",
       "79               Campinho   2121.794262       724.358959\n",
       "90               Inhoaiba    548.152777       750.171811\n",
       "106               Taquara    646.448508       764.408423\n",
       "116          Santa Teresa   4871.753940      1730.203982\n",
       "124              Flamengo   1180.675882       423.449787\n",
       "127         Vargem Grande   1167.358492       644.473336\n",
       "128     Alto da Boa Vista   1124.097257       588.673608\n",
       "126             Guaratiba    374.149360       724.667841\n",
       "134              Sepetiba    374.149360       724.667841\n",
       "140       Jardim Botanico    777.602554       567.540861\n",
       "132                  Urca   1180.675882       423.449787\n",
       "136           Jacarepagua    646.448508       764.408423\n",
       "..                    ...           ...              ...\n",
       "114                Gloria   1180.675882       423.449787\n",
       "115          Rio Comprido   1740.699949       715.936741\n",
       "117               Estacio   1740.699949       715.936741\n",
       "119               Catumbi   1740.699949       715.936741\n",
       "120                Grajau   1124.097257       588.673608\n",
       "121             Pechincha    646.448508       764.408423\n",
       "122               Andarai   1124.097257       588.673608\n",
       "123                Catete   1180.675882       423.449787\n",
       "125           Laranjeiras   1180.675882       423.449787\n",
       "129           Cosme Velho   1180.675882       423.449787\n",
       "133        Cidade de Deus    646.448508       764.408423\n",
       "130              Curicica    646.448508       764.408423\n",
       "139         Gardenia Azul    646.448508       764.408423\n",
       "131              Botafogo   1180.675882       423.449787\n",
       "135                  Anil    646.448508       764.408423\n",
       "137               Camorim   1167.358492       644.473336\n",
       "138               Humaita   1180.675882       423.449787\n",
       "141        Vargem Pequena   1167.358492       644.473336\n",
       "144                 Lagoa    777.602554       567.540861\n",
       "151               Rocinha    777.602554       567.540861\n",
       "148                Leblon    777.602554       567.540861\n",
       "152    Pedra de Guaratiba    374.149360       724.667841\n",
       "161                  Lapa   4871.753940      1730.203982\n",
       "159               Deodoro   1422.348026       630.102144\n",
       "160              Gericino   1422.348026       630.102144\n",
       "3               Bancarios    506.370607       528.446144\n",
       "143                  Leme    809.532657       805.917270\n",
       "20                 Centro   3306.226945      3306.226945\n",
       "71                Colegio   2130.128209      2130.128209\n",
       "23                 Tijuca   1432.398603      1432.398603\n",
       "\n",
       "[161 rows x 3 columns]"
      ]
     },
     "execution_count": 41,
     "metadata": {},
     "output_type": "execute_result"
    }
   ],
   "source": [
    "# Juntar tudo para salvar no banco.\n",
    "df = z.pd.concat([b1_aisp, b2_aisp])\n",
    "df.index = df.gid\n",
    "del df['gid']\n",
    "df"
   ]
  },
  {
   "cell_type": "markdown",
   "metadata": {},
   "source": [
    "# Salvar variáveis sócio economicas no banco de dados."
   ]
  },
  {
   "cell_type": "code",
   "execution_count": 42,
   "metadata": {
    "collapsed": false
   },
   "outputs": [
    {
     "data": {
      "text/html": [
       "<div style=\"max-height:1000px;max-width:1500px;overflow:auto;\">\n",
       "<table border=\"1\" class=\"dataframe\">\n",
       "  <thead>\n",
       "    <tr style=\"text-align: right;\">\n",
       "      <th></th>\n",
       "      <th>gid</th>\n",
       "      <th>se_anos_estudo</th>\n",
       "      <th>se_perc_alfabetizacao</th>\n",
       "      <th>se_renda</th>\n",
       "      <th>se_saneamento</th>\n",
       "      <th>se_idh</th>\n",
       "      <th>se_crm_roubo</th>\n",
       "      <th>se_crm_violento</th>\n",
       "    </tr>\n",
       "  </thead>\n",
       "  <tbody>\n",
       "    <tr>\n",
       "      <th>count</th>\n",
       "      <td>161.000000</td>\n",
       "      <td>161.000000</td>\n",
       "      <td>161.000000</td>\n",
       "      <td>161.000000</td>\n",
       "      <td>161.000000</td>\n",
       "      <td>161.000000</td>\n",
       "      <td>161.000000</td>\n",
       "      <td>161.000000</td>\n",
       "    </tr>\n",
       "    <tr>\n",
       "      <th>mean</th>\n",
       "      <td>81.000000</td>\n",
       "      <td>8.352174</td>\n",
       "      <td>97.311573</td>\n",
       "      <td>1931.945528</td>\n",
       "      <td>0.912236</td>\n",
       "      <td>0.840027</td>\n",
       "      <td>1455.035931</td>\n",
       "      <td>686.739609</td>\n",
       "    </tr>\n",
       "    <tr>\n",
       "      <th>std</th>\n",
       "      <td>46.620811</td>\n",
       "      <td>2.154657</td>\n",
       "      <td>1.923924</td>\n",
       "      <td>1459.179621</td>\n",
       "      <td>0.143975</td>\n",
       "      <td>0.065726</td>\n",
       "      <td>887.606510</td>\n",
       "      <td>337.135620</td>\n",
       "    </tr>\n",
       "    <tr>\n",
       "      <th>min</th>\n",
       "      <td>1.000000</td>\n",
       "      <td>3.880000</td>\n",
       "      <td>85.330000</td>\n",
       "      <td>571.010000</td>\n",
       "      <td>0.000000</td>\n",
       "      <td>0.711408</td>\n",
       "      <td>374.149360</td>\n",
       "      <td>423.449787</td>\n",
       "    </tr>\n",
       "    <tr>\n",
       "      <th>25%</th>\n",
       "      <td>41.000000</td>\n",
       "      <td>6.950000</td>\n",
       "      <td>96.630000</td>\n",
       "      <td>1085.850000</td>\n",
       "      <td>0.905568</td>\n",
       "      <td>0.798364</td>\n",
       "      <td>777.602554</td>\n",
       "      <td>539.180020</td>\n",
       "    </tr>\n",
       "    <tr>\n",
       "      <th>50%</th>\n",
       "      <td>81.000000</td>\n",
       "      <td>7.800000</td>\n",
       "      <td>97.680000</td>\n",
       "      <td>1395.590000</td>\n",
       "      <td>0.963885</td>\n",
       "      <td>0.838543</td>\n",
       "      <td>1422.348026</td>\n",
       "      <td>577.233233</td>\n",
       "    </tr>\n",
       "    <tr>\n",
       "      <th>75%</th>\n",
       "      <td>121.000000</td>\n",
       "      <td>9.810000</td>\n",
       "      <td>98.510000</td>\n",
       "      <td>2103.470000</td>\n",
       "      <td>0.991115</td>\n",
       "      <td>0.877972</td>\n",
       "      <td>1740.699949</td>\n",
       "      <td>724.358959</td>\n",
       "    </tr>\n",
       "    <tr>\n",
       "      <th>max</th>\n",
       "      <td>161.000000</td>\n",
       "      <td>13.890000</td>\n",
       "      <td>100.000000</td>\n",
       "      <td>8286.460000</td>\n",
       "      <td>0.999774</td>\n",
       "      <td>0.970435</td>\n",
       "      <td>4871.753940</td>\n",
       "      <td>3306.226945</td>\n",
       "    </tr>\n",
       "  </tbody>\n",
       "</table>\n",
       "</div>"
      ],
      "text/plain": [
       "              gid  se_anos_estudo  se_perc_alfabetizacao     se_renda  \\\n",
       "count  161.000000      161.000000             161.000000   161.000000   \n",
       "mean    81.000000        8.352174              97.311573  1931.945528   \n",
       "std     46.620811        2.154657               1.923924  1459.179621   \n",
       "min      1.000000        3.880000              85.330000   571.010000   \n",
       "25%     41.000000        6.950000              96.630000  1085.850000   \n",
       "50%     81.000000        7.800000              97.680000  1395.590000   \n",
       "75%    121.000000        9.810000              98.510000  2103.470000   \n",
       "max    161.000000       13.890000             100.000000  8286.460000   \n",
       "\n",
       "       se_saneamento      se_idh  se_crm_roubo  se_crm_violento  \n",
       "count     161.000000  161.000000    161.000000       161.000000  \n",
       "mean        0.912236    0.840027   1455.035931       686.739609  \n",
       "std         0.143975    0.065726    887.606510       337.135620  \n",
       "min         0.000000    0.711408    374.149360       423.449787  \n",
       "25%         0.905568    0.798364    777.602554       539.180020  \n",
       "50%         0.963885    0.838543   1422.348026       577.233233  \n",
       "75%         0.991115    0.877972   1740.699949       724.358959  \n",
       "max         0.999774    0.970435   4871.753940      3306.226945  "
      ]
     },
     "execution_count": 42,
     "metadata": {},
     "output_type": "execute_result"
    }
   ],
   "source": [
    "# Salvar variáveis de bairros no banco de dados\n",
    "b = z.pd.merge(b,df,on=['nome'], how='left')\n",
    "b.describe()"
   ]
  },
  {
   "cell_type": "code",
   "execution_count": 43,
   "metadata": {
    "collapsed": false
   },
   "outputs": [],
   "source": [
    "# Salva no banco de dados.\n",
    "z.d.salva_dataframe(b, '_var_socioecon')"
   ]
  }
 ],
 "metadata": {
  "kernelspec": {
   "display_name": "Python 2",
   "language": "python",
   "name": "python2"
  },
  "language_info": {
   "codemirror_mode": {
    "name": "ipython",
    "version": 2
   },
   "file_extension": ".py",
   "mimetype": "text/x-python",
   "name": "python",
   "nbconvert_exporter": "python",
   "pygments_lexer": "ipython2",
   "version": "2.7.9"
  }
 },
 "nbformat": 4,
 "nbformat_minor": 0
}
