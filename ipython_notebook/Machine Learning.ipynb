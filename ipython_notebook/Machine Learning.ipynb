{
 "metadata": {
  "name": "",
  "signature": "sha256:f60dccea7548fb5c422133194bc9be60af3e43332de1e56204c95ed59061a2c5"
 },
 "nbformat": 3,
 "nbformat_minor": 0,
 "worksheets": [
  {
   "cells": [
    {
     "cell_type": "code",
     "collapsed": false,
     "input": [
      "%pylab inline\n",
      "import sys,os; \n",
      "import pandas as pd\n",
      "import psycopg2\n",
      "from sklearn import linear_model\n",
      "from mpltools import style\n",
      "style.use('ggplot')\n",
      "\n",
      "x = os.getcwd()\n",
      "l = x.rfind('\\\\')\n",
      "path = x[:l+1]+'capturar_zap'\n",
      "sys.path.append(path)\n",
      "\n",
      "import dataset as d\n"
     ],
     "language": "python",
     "metadata": {},
     "outputs": [
      {
       "output_type": "stream",
       "stream": "stdout",
       "text": [
        "Populating the interactive namespace from numpy and matplotlib\n"
       ]
      },
      {
       "metadata": {},
       "output_type": "pyout",
       "prompt_number": 15,
       "text": [
        "<module 'dataset' from 'D:\\docs\\gdrive\\Mestrado FGV\\Dissertacao\\capturar_zap\\dataset.py'>"
       ]
      }
     ],
     "prompt_number": 15
    },
    {
     "cell_type": "code",
     "collapsed": false,
     "input": [
      "# Connect to an existing database\n",
      "con = psycopg2.connect(\"dbname=zap user=postgres\")\n",
      "#df = pd.io.sql.read_frame('select * from vw_imovel', con, index_col='id')\n",
      "df = d.imoveis_dataframe()\n",
      "numeric_columns = (df.dtypes[(df.dtypes==float64) | (df.dtypes==int64)]).index\n",
      "df.isnull().sum()"
     ],
     "language": "python",
     "metadata": {},
     "outputs": [
      {
       "metadata": {},
       "output_type": "pyout",
       "prompt_number": 17,
       "text": [
        "area                  0\n",
        "preco                 0\n",
        "condominio            0\n",
        "m2                    0\n",
        "garagem               0\n",
        "quartos               0\n",
        "suites                0\n",
        "lat                   0\n",
        "lng                   0\n",
        "dt_criacao            0\n",
        "dt_publicacao         0\n",
        "dt_visita             0\n",
        "dt_atualizacao        0\n",
        "descricao            22\n",
        "url                   0\n",
        "url_foto              0\n",
        "rua               11494\n",
        "bairro                0\n",
        "cidade                0\n",
        "estado                0\n",
        "cep                   0\n",
        "geom                  0\n",
        "bairro_g              0\n",
        "dist_centro           0\n",
        "barra                 0\n",
        "copacabana            0\n",
        "grumari               0\n",
        "guaratiba             0\n",
        "ipanema               0\n",
        "leblon                0\n",
        "leme                  0\n",
        "pepe                  0\n",
        "recreio               0\n",
        "sao_conrado           0\n",
        "vermelha              0\n",
        "dtype: int32"
       ]
      }
     ],
     "prompt_number": 17
    },
    {
     "cell_type": "code",
     "collapsed": false,
     "input": [
      "from sklearn import cross_validation\n",
      "lr = linear_model.LinearRegression()\n",
      "df_train = df[['lat','lng']]\n",
      "lr.fit(df_train,df.m2)\n",
      "\n",
      "scores = cross_validation.cross_val_score(lr,df_train,df.m2,cv=5)\n",
      "scores\n"
     ],
     "language": "python",
     "metadata": {},
     "outputs": [
      {
       "metadata": {},
       "output_type": "pyout",
       "prompt_number": 32,
       "text": [
        "array([ 0.46191609,  0.46450654,  0.45675279,  0.47099455,  0.45148511])"
       ]
      }
     ],
     "prompt_number": 32
    },
    {
     "cell_type": "code",
     "collapsed": false,
     "input": [
      "print(\"Accuracy: %0.2f (+/- %0.2f)\" % (scores.mean(), scores.std() * 2))"
     ],
     "language": "python",
     "metadata": {},
     "outputs": [
      {
       "output_type": "stream",
       "stream": "stdout",
       "text": [
        "Accuracy: 0.46 (+/- 0.01)\n"
       ]
      }
     ],
     "prompt_number": 33
    },
    {
     "cell_type": "markdown",
     "metadata": {},
     "source": [
      "http://scikit-learn.org/stable/modules/cross_validation.html#computing-cross-validated-metrics"
     ]
    }
   ],
   "metadata": {}
  }
 ]
}